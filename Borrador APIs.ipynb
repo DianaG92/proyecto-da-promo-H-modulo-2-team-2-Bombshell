{
 "cells": [
  {
   "cell_type": "code",
   "execution_count": 1,
   "metadata": {},
   "outputs": [],
   "source": [
    "import pandas as pd\n",
    "import requests\n",
    "import re\n",
    "\n",
    "pd.set_option(\"display.max_columns\", None)"
   ]
  },
  {
   "cell_type": "code",
   "execution_count": 2,
   "metadata": {},
   "outputs": [],
   "source": [
    "api_key = '2f9e9f01d7msh82ee87a15a33abep1d25b9jsn15165cff4f5d'\n",
    "\n",
    "headers = {\n",
    "    'X-RapidAPI-Key': '2f9e9f01d7msh82ee87a15a33abep1d25b9jsn15165cff4f5d',\n",
    "    'X-RapidAPI-Host': 'moviesdatabase.p.rapidapi.com'\n",
    "  }\n",
    "\n",
    "url = \"https://rapidapi.com/SAdrian/api/moviesdatabase/\""
   ]
  },
  {
   "cell_type": "code",
   "execution_count": 3,
   "metadata": {},
   "outputs": [
    {
     "name": "stdout",
     "output_type": "stream",
     "text": [
      "La llamada a la API nos ha dado una respuesta de tipo: 200\n"
     ]
    }
   ],
   "source": [
    "def llamar_api(url, headers):\n",
    "    \n",
    "    llamada = requests.get(url, headers=headers)\n",
    "    \n",
    "    print(f\"La llamada a la API nos ha dado una respuesta de tipo: {llamada.status_code}\")\n",
    "    \n",
    "    if llamada.status_code != 200:\n",
    "        print(f\"El motivo por el que la llamada falló es {llamada.reason}\")\n",
    "        \n",
    "    else:\n",
    "        return llamada.json\n",
    "    \n",
    "resultado = llamar_api(url, headers)"
   ]
  },
  {
   "cell_type": "code",
   "execution_count": 7,
   "metadata": {},
   "outputs": [],
   "source": [
    "lista_peliculas = {\"tipo\": [], \"nombre\": [], \"año_estreno\": [], \"mes_estreno\": [], \"id_pelicula\": []}\n",
    "\n",
    "\n"
   ]
  },
  {
   "cell_type": "code",
   "execution_count": null,
   "metadata": {},
   "outputs": [],
   "source": [
    "peliculas = []\n",
    "for peliculas in año_estreno:\n",
    "    if int(peliculas['año_estreno']) >= 2010:\n",
    "        pelicula_año = peliculas['año_estreno']\n",
    "return peliculas"
   ]
  }
 ],
 "metadata": {
  "kernelspec": {
   "display_name": "base",
   "language": "python",
   "name": "python3"
  },
  "language_info": {
   "codemirror_mode": {
    "name": "ipython",
    "version": 3
   },
   "file_extension": ".py",
   "mimetype": "text/x-python",
   "name": "python",
   "nbconvert_exporter": "python",
   "pygments_lexer": "ipython3",
   "version": "3.9.7"
  }
 },
 "nbformat": 4,
 "nbformat_minor": 2
}
