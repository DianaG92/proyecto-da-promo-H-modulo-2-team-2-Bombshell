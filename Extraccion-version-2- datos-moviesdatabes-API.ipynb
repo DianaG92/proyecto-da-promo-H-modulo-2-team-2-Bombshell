{
 "cells": [
  {
   "cell_type": "code",
   "execution_count": 603,
   "metadata": {},
   "outputs": [],
   "source": [
    "import pandas as pd\n",
    "import requests\n",
    "import time\n",
    "pd.set_option(\"display.max_columns\", None)"
   ]
  },
  {
   "cell_type": "markdown",
   "metadata": {},
   "source": [
    "##### Hacemos llamada inicial para saber si funciona y tenemos acceso a la página.\n",
    "##### Establecemos parametros de la busqueda\n",
    "##### Cambiamos parametros varias veces para buscar cada género por año, ya que la API solo nos permite estos parametros de búsqueda."
   ]
  },
  {
   "cell_type": "code",
   "execution_count": 604,
   "metadata": {},
   "outputs": [
    {
     "name": "stdout",
     "output_type": "stream",
     "text": [
      "{'page': '1', 'next': '/titles?titleType=short&page=2&year=2024&genre=Drama', 'entries': 10, 'results': [{'_id': '61e5a2e4ef99b1c5434975db', 'id': 'tt14063056', 'primaryImage': None, 'titleType': {'displayableProperty': {'value': {'plainText': 'Short', '__typename': 'Markdown'}, '__typename': 'DisplayableTitleTypeProperty'}, 'text': 'Short', 'id': 'short', 'isSeries': False, 'isEpisode': False, 'categories': [{'value': 'movie', '__typename': 'TitleTypeCategory'}], 'canHaveEpisodes': False, '__typename': 'TitleType'}, 'titleText': {'text': 'Before the Fish Fell', '__typename': 'TitleText'}, 'originalTitleText': {'text': 'Before the Fish Fell', '__typename': 'TitleText'}, 'releaseYear': {'year': 2024, 'endYear': None, '__typename': 'YearRange'}, 'releaseDate': {'day': 1, 'month': 3, 'year': 2024, '__typename': 'ReleaseDate'}}, {'_id': '61e5a2f2ef99b1c54349794f', 'id': 'tt14072204', 'primaryImage': None, 'titleType': {'text': 'Short', 'id': 'short', 'isSeries': False, 'isEpisode': False, '__typename': 'TitleType'}, 'titleText': {'text': 'Eddie Thurber-V-My Darkness Ended on that Halloween...', '__typename': 'TitleText'}, 'originalTitleText': {'text': 'Eddie Thurber-V-My Darkness Ended on that Halloween...', '__typename': 'TitleText'}, 'releaseYear': {'year': 2024, 'endYear': None, '__typename': 'YearRange'}, 'releaseDate': {'day': 25, 'month': 10, 'year': 2024, '__typename': 'ReleaseDate'}}, {'_id': '61e5a8f3e1a8ddbd964afb33', 'id': 'tt15103886', 'primaryImage': {'id': 'rm2050227713', 'width': 1536, 'height': 2048, 'url': 'https://m.media-amazon.com/images/M/MV5BYzBhZmJjM2QtZWMyYy00NWE1LWFmYjctY2Q3Y2Q2Zjg3NmNkXkEyXkFqcGdeQXVyMzcyNzUyNQ@@._V1_.jpg', 'caption': {'plainText': 'Andreas Gauffin in Det Kan Ingen Ta Ifrån Mig (2024)', '__typename': 'Markdown'}, '__typename': 'Image'}, 'titleType': {'displayableProperty': {'value': {'plainText': 'Short', '__typename': 'Markdown'}, '__typename': 'DisplayableTitleTypeProperty'}, 'text': 'Short', 'id': 'short', 'isSeries': False, 'isEpisode': False, 'categories': [{'value': 'movie', '__typename': 'TitleTypeCategory'}], 'canHaveEpisodes': False, '__typename': 'TitleType'}, 'titleText': {'text': 'Det Kan Ingen Ta Ifrån Mig', '__typename': 'TitleText'}, 'originalTitleText': {'text': 'Det Kan Ingen Ta Ifrån Mig', '__typename': 'TitleText'}, 'releaseYear': {'year': 2024, 'endYear': None, '__typename': 'YearRange'}, 'releaseDate': {'day': 1, 'month': 12, 'year': 2024, '__typename': 'ReleaseDate'}}, {'_id': '61f01c691a50b36f6afaa72b', 'id': 'tt17062072', 'primaryImage': {'id': 'rm2932336385', 'width': 3507, 'height': 4960, 'url': 'https://m.media-amazon.com/images/M/MV5BZjkzODU2MGEtNTk4ZS00MjMyLTllOWEtNDJhZTc1ZWMwNzEzXkEyXkFqcGdeQXVyMTQ4MTEwODIw._V1_.jpg', 'caption': {'plainText': 'The Library (2024)', '__typename': 'Markdown'}, '__typename': 'Image'}, 'titleType': {'displayableProperty': {'value': {'plainText': 'Short', '__typename': 'Markdown'}, '__typename': 'DisplayableTitleTypeProperty'}, 'text': 'Short', 'id': 'short', 'isSeries': False, 'isEpisode': False, 'categories': [{'value': 'movie', '__typename': 'TitleTypeCategory'}], 'canHaveEpisodes': False, '__typename': 'TitleType'}, 'titleText': {'text': 'The Library', '__typename': 'TitleText'}, 'originalTitleText': {'text': 'The Library', '__typename': 'TitleText'}, 'releaseYear': {'year': 2024, 'endYear': None, '__typename': 'YearRange'}, 'releaseDate': {'day': 20, 'month': 1, 'year': 2024, '__typename': 'ReleaseDate'}}, {'_id': '621f9ffc87ec08322bf514b4', 'id': 'tt18335394', 'primaryImage': {'id': 'rm2595701505', 'width': 1800, 'height': 2700, 'url': 'https://m.media-amazon.com/images/M/MV5BM2ZhYmMwYjItNTA1Zi00YjU5LTljODItMDA5ZDJjNGY4YWVmXkEyXkFqcGdeQXVyMjQxMzkzMjU@._V1_.jpg', 'caption': {'plainText': 'Miguel Brito in Somnus (2024)', '__typename': 'Markdown'}, '__typename': 'Image'}, 'titleType': {'displayableProperty': {'value': {'plainText': 'Short', '__typename': 'Markdown'}, '__typename': 'DisplayableTitleTypeProperty'}, 'text': 'Short', 'id': 'short', 'isSeries': False, 'isEpisode': False, 'categories': [{'value': 'movie', '__typename': 'TitleTypeCategory'}], 'canHaveEpisodes': False, '__typename': 'TitleType'}, 'titleText': {'text': 'Somnus', '__typename': 'TitleText'}, 'originalTitleText': {'text': 'Somnus', '__typename': 'TitleText'}, 'releaseYear': {'year': 2024, 'endYear': None, '__typename': 'YearRange'}, 'releaseDate': {'day': 1, 'month': 3, 'year': 2024, '__typename': 'ReleaseDate'}}, {'_id': '622382b3cf591e110469a902', 'id': 'tt18388426', 'primaryImage': None, 'titleType': {'displayableProperty': {'value': {'plainText': 'Short', '__typename': 'Markdown'}, '__typename': 'DisplayableTitleTypeProperty'}, 'text': 'Short', 'id': 'short', 'isSeries': False, 'isEpisode': False, 'categories': [{'value': 'movie', '__typename': 'TitleTypeCategory'}], 'canHaveEpisodes': False, '__typename': 'TitleType'}, 'titleText': {'text': 'Two Questions and a Wish', '__typename': 'TitleText'}, 'originalTitleText': {'text': 'Two Questions and a Wish', '__typename': 'TitleText'}, 'releaseYear': {'year': 2024, 'endYear': None, '__typename': 'YearRange'}, 'releaseDate': {'day': 31, 'month': 5, 'year': 2024, '__typename': 'ReleaseDate'}}, {'_id': '627cc56c45117d698cc81395', 'id': 'tt20193284', 'primaryImage': None, 'titleType': {'displayableProperty': {'value': {'plainText': 'Short', '__typename': 'Markdown'}, '__typename': 'DisplayableTitleTypeProperty'}, 'text': 'Short', 'id': 'short', 'isSeries': False, 'isEpisode': False, 'categories': [{'value': 'movie', '__typename': 'TitleTypeCategory'}], 'canHaveEpisodes': False, '__typename': 'TitleType'}, 'titleText': {'text': 'The LGBTQ+ Films: Q', '__typename': 'TitleText'}, 'originalTitleText': {'text': 'The LGBTQ+ Films: Q', '__typename': 'TitleText'}, 'releaseYear': {'year': 2024, 'endYear': None, '__typename': 'YearRange'}, 'releaseDate': {'day': 1, 'month': 8, 'year': 2024, '__typename': 'ReleaseDate'}}, {'_id': '627cc56e45117d698cc813a5', 'id': 'tt20195530', 'primaryImage': {'id': 'rm2403992321', 'width': 2507, 'height': 1672, 'url': 'https://m.media-amazon.com/images/M/MV5BMTJmODgwOTUtMTVjNi00ZjBhLWExYjEtZWJiNTdlNjg5ZmViXkEyXkFqcGdeQXVyODg3MzU0MQ@@._V1_.jpg', 'caption': {'plainText': 'The LGBTQ+ Films: G (2024)', '__typename': 'Markdown'}, '__typename': 'Image'}, 'titleType': {'displayableProperty': {'value': {'plainText': 'Short', '__typename': 'Markdown'}, '__typename': 'DisplayableTitleTypeProperty'}, 'text': 'Short', 'id': 'short', 'isSeries': False, 'isEpisode': False, 'categories': [{'value': 'movie', '__typename': 'TitleTypeCategory'}], 'canHaveEpisodes': False, '__typename': 'TitleType'}, 'titleText': {'text': 'The LGBTQ+ Films: G', '__typename': 'TitleText'}, 'originalTitleText': {'text': 'The LGBTQ+ Films: G', '__typename': 'TitleText'}, 'releaseYear': {'year': 2024, 'endYear': None, '__typename': 'YearRange'}, 'releaseDate': {'day': 1, 'month': 8, 'year': 2024, '__typename': 'ReleaseDate'}}, {'_id': '627f6862d175386b9c188056', 'id': 'tt20205174', 'primaryImage': {'id': 'rm1605466881', 'width': 2500, 'height': 1407, 'url': 'https://m.media-amazon.com/images/M/MV5BNjgwNGYwYWQtY2ZiMC00MDBmLWFkYTAtMThlYzFlNTRmY2ZhXkEyXkFqcGdeQXVyOTk2MzIyNzI@._V1_.jpg', 'caption': {'plainText': 'Broono (2024)', '__typename': 'Markdown'}, '__typename': 'Image'}, 'titleType': {'displayableProperty': {'value': {'plainText': 'Short', '__typename': 'Markdown'}, '__typename': 'DisplayableTitleTypeProperty'}, 'text': 'Short', 'id': 'short', 'isSeries': False, 'isEpisode': False, 'categories': [{'value': 'movie', '__typename': 'TitleTypeCategory'}], 'canHaveEpisodes': False, '__typename': 'TitleType'}, 'titleText': {'text': 'Broono', '__typename': 'TitleText'}, 'originalTitleText': {'text': 'Broono', '__typename': 'TitleText'}, 'releaseYear': {'year': 2024, 'endYear': None, '__typename': 'YearRange'}, 'releaseDate': {'day': 30, 'month': 1, 'year': 2024, '__typename': 'ReleaseDate'}}, {'_id': '63bc61cd4eb010378646231b', 'id': 'tt25815664', 'primaryImage': {'id': 'rm3176348673', 'width': 1080, 'height': 1350, 'url': 'https://m.media-amazon.com/images/M/MV5BMjdlMDdjNmUtNDRlNC00NmExLTgxOWQtNmM5NzkyMDhkNjY1XkEyXkFqcGdeQXVyNTA4NDUzMzI@._V1_.jpg', 'caption': {'plainText': 'Lifestyle: Lowrider Faith Journey, the Armando Flores Story (2024)', '__typename': 'Markdown'}, '__typename': 'Image'}, 'titleType': {'displayableProperty': {'value': {'plainText': 'Short', '__typename': 'Markdown'}, '__typename': 'DisplayableTitleTypeProperty'}, 'text': 'Short', 'id': 'short', 'isSeries': False, 'isEpisode': False, 'categories': [{'value': 'movie', '__typename': 'TitleTypeCategory'}], 'canHaveEpisodes': False, '__typename': 'TitleType'}, 'titleText': {'text': 'Lifestyle: Lowrider Faith Journey, the Armando Flores Story', '__typename': 'TitleText'}, 'originalTitleText': {'text': 'Lifestyle: Lowrider Faith Journey, the Armando Flores Story', '__typename': 'TitleText'}, 'releaseYear': {'year': 2024, 'endYear': None, '__typename': 'YearRange'}, 'releaseDate': {'day': None, 'month': None, 'year': 2024, '__typename': 'ReleaseDate'}}]}\n",
      "{'page': '1', 'next': '/titles?titleType=short&page=2&year=2024&genre=Drama', 'entries': 10, 'results': [{'_id': '61e5a2e4ef99b1c5434975db', 'id': 'tt14063056', 'primaryImage': None, 'titleType': {'displayableProperty': {'value': {'plainText': 'Short', '__typename': 'Markdown'}, '__typename': 'DisplayableTitleTypeProperty'}, 'text': 'Short', 'id': 'short', 'isSeries': False, 'isEpisode': False, 'categories': [{'value': 'movie', '__typename': 'TitleTypeCategory'}], 'canHaveEpisodes': False, '__typename': 'TitleType'}, 'titleText': {'text': 'Before the Fish Fell', '__typename': 'TitleText'}, 'originalTitleText': {'text': 'Before the Fish Fell', '__typename': 'TitleText'}, 'releaseYear': {'year': 2024, 'endYear': None, '__typename': 'YearRange'}, 'releaseDate': {'day': 1, 'month': 3, 'year': 2024, '__typename': 'ReleaseDate'}}, {'_id': '61e5a2f2ef99b1c54349794f', 'id': 'tt14072204', 'primaryImage': None, 'titleType': {'text': 'Short', 'id': 'short', 'isSeries': False, 'isEpisode': False, '__typename': 'TitleType'}, 'titleText': {'text': 'Eddie Thurber-V-My Darkness Ended on that Halloween...', '__typename': 'TitleText'}, 'originalTitleText': {'text': 'Eddie Thurber-V-My Darkness Ended on that Halloween...', '__typename': 'TitleText'}, 'releaseYear': {'year': 2024, 'endYear': None, '__typename': 'YearRange'}, 'releaseDate': {'day': 25, 'month': 10, 'year': 2024, '__typename': 'ReleaseDate'}}, {'_id': '61e5a8f3e1a8ddbd964afb33', 'id': 'tt15103886', 'primaryImage': {'id': 'rm2050227713', 'width': 1536, 'height': 2048, 'url': 'https://m.media-amazon.com/images/M/MV5BYzBhZmJjM2QtZWMyYy00NWE1LWFmYjctY2Q3Y2Q2Zjg3NmNkXkEyXkFqcGdeQXVyMzcyNzUyNQ@@._V1_.jpg', 'caption': {'plainText': 'Andreas Gauffin in Det Kan Ingen Ta Ifrån Mig (2024)', '__typename': 'Markdown'}, '__typename': 'Image'}, 'titleType': {'displayableProperty': {'value': {'plainText': 'Short', '__typename': 'Markdown'}, '__typename': 'DisplayableTitleTypeProperty'}, 'text': 'Short', 'id': 'short', 'isSeries': False, 'isEpisode': False, 'categories': [{'value': 'movie', '__typename': 'TitleTypeCategory'}], 'canHaveEpisodes': False, '__typename': 'TitleType'}, 'titleText': {'text': 'Det Kan Ingen Ta Ifrån Mig', '__typename': 'TitleText'}, 'originalTitleText': {'text': 'Det Kan Ingen Ta Ifrån Mig', '__typename': 'TitleText'}, 'releaseYear': {'year': 2024, 'endYear': None, '__typename': 'YearRange'}, 'releaseDate': {'day': 1, 'month': 12, 'year': 2024, '__typename': 'ReleaseDate'}}, {'_id': '61f01c691a50b36f6afaa72b', 'id': 'tt17062072', 'primaryImage': {'id': 'rm2932336385', 'width': 3507, 'height': 4960, 'url': 'https://m.media-amazon.com/images/M/MV5BZjkzODU2MGEtNTk4ZS00MjMyLTllOWEtNDJhZTc1ZWMwNzEzXkEyXkFqcGdeQXVyMTQ4MTEwODIw._V1_.jpg', 'caption': {'plainText': 'The Library (2024)', '__typename': 'Markdown'}, '__typename': 'Image'}, 'titleType': {'displayableProperty': {'value': {'plainText': 'Short', '__typename': 'Markdown'}, '__typename': 'DisplayableTitleTypeProperty'}, 'text': 'Short', 'id': 'short', 'isSeries': False, 'isEpisode': False, 'categories': [{'value': 'movie', '__typename': 'TitleTypeCategory'}], 'canHaveEpisodes': False, '__typename': 'TitleType'}, 'titleText': {'text': 'The Library', '__typename': 'TitleText'}, 'originalTitleText': {'text': 'The Library', '__typename': 'TitleText'}, 'releaseYear': {'year': 2024, 'endYear': None, '__typename': 'YearRange'}, 'releaseDate': {'day': 20, 'month': 1, 'year': 2024, '__typename': 'ReleaseDate'}}, {'_id': '621f9ffc87ec08322bf514b4', 'id': 'tt18335394', 'primaryImage': {'id': 'rm2595701505', 'width': 1800, 'height': 2700, 'url': 'https://m.media-amazon.com/images/M/MV5BM2ZhYmMwYjItNTA1Zi00YjU5LTljODItMDA5ZDJjNGY4YWVmXkEyXkFqcGdeQXVyMjQxMzkzMjU@._V1_.jpg', 'caption': {'plainText': 'Miguel Brito in Somnus (2024)', '__typename': 'Markdown'}, '__typename': 'Image'}, 'titleType': {'displayableProperty': {'value': {'plainText': 'Short', '__typename': 'Markdown'}, '__typename': 'DisplayableTitleTypeProperty'}, 'text': 'Short', 'id': 'short', 'isSeries': False, 'isEpisode': False, 'categories': [{'value': 'movie', '__typename': 'TitleTypeCategory'}], 'canHaveEpisodes': False, '__typename': 'TitleType'}, 'titleText': {'text': 'Somnus', '__typename': 'TitleText'}, 'originalTitleText': {'text': 'Somnus', '__typename': 'TitleText'}, 'releaseYear': {'year': 2024, 'endYear': None, '__typename': 'YearRange'}, 'releaseDate': {'day': 1, 'month': 3, 'year': 2024, '__typename': 'ReleaseDate'}}, {'_id': '622382b3cf591e110469a902', 'id': 'tt18388426', 'primaryImage': None, 'titleType': {'displayableProperty': {'value': {'plainText': 'Short', '__typename': 'Markdown'}, '__typename': 'DisplayableTitleTypeProperty'}, 'text': 'Short', 'id': 'short', 'isSeries': False, 'isEpisode': False, 'categories': [{'value': 'movie', '__typename': 'TitleTypeCategory'}], 'canHaveEpisodes': False, '__typename': 'TitleType'}, 'titleText': {'text': 'Two Questions and a Wish', '__typename': 'TitleText'}, 'originalTitleText': {'text': 'Two Questions and a Wish', '__typename': 'TitleText'}, 'releaseYear': {'year': 2024, 'endYear': None, '__typename': 'YearRange'}, 'releaseDate': {'day': 31, 'month': 5, 'year': 2024, '__typename': 'ReleaseDate'}}, {'_id': '627cc56c45117d698cc81395', 'id': 'tt20193284', 'primaryImage': None, 'titleType': {'displayableProperty': {'value': {'plainText': 'Short', '__typename': 'Markdown'}, '__typename': 'DisplayableTitleTypeProperty'}, 'text': 'Short', 'id': 'short', 'isSeries': False, 'isEpisode': False, 'categories': [{'value': 'movie', '__typename': 'TitleTypeCategory'}], 'canHaveEpisodes': False, '__typename': 'TitleType'}, 'titleText': {'text': 'The LGBTQ+ Films: Q', '__typename': 'TitleText'}, 'originalTitleText': {'text': 'The LGBTQ+ Films: Q', '__typename': 'TitleText'}, 'releaseYear': {'year': 2024, 'endYear': None, '__typename': 'YearRange'}, 'releaseDate': {'day': 1, 'month': 8, 'year': 2024, '__typename': 'ReleaseDate'}}, {'_id': '627cc56e45117d698cc813a5', 'id': 'tt20195530', 'primaryImage': {'id': 'rm2403992321', 'width': 2507, 'height': 1672, 'url': 'https://m.media-amazon.com/images/M/MV5BMTJmODgwOTUtMTVjNi00ZjBhLWExYjEtZWJiNTdlNjg5ZmViXkEyXkFqcGdeQXVyODg3MzU0MQ@@._V1_.jpg', 'caption': {'plainText': 'The LGBTQ+ Films: G (2024)', '__typename': 'Markdown'}, '__typename': 'Image'}, 'titleType': {'displayableProperty': {'value': {'plainText': 'Short', '__typename': 'Markdown'}, '__typename': 'DisplayableTitleTypeProperty'}, 'text': 'Short', 'id': 'short', 'isSeries': False, 'isEpisode': False, 'categories': [{'value': 'movie', '__typename': 'TitleTypeCategory'}], 'canHaveEpisodes': False, '__typename': 'TitleType'}, 'titleText': {'text': 'The LGBTQ+ Films: G', '__typename': 'TitleText'}, 'originalTitleText': {'text': 'The LGBTQ+ Films: G', '__typename': 'TitleText'}, 'releaseYear': {'year': 2024, 'endYear': None, '__typename': 'YearRange'}, 'releaseDate': {'day': 1, 'month': 8, 'year': 2024, '__typename': 'ReleaseDate'}}, {'_id': '627f6862d175386b9c188056', 'id': 'tt20205174', 'primaryImage': {'id': 'rm1605466881', 'width': 2500, 'height': 1407, 'url': 'https://m.media-amazon.com/images/M/MV5BNjgwNGYwYWQtY2ZiMC00MDBmLWFkYTAtMThlYzFlNTRmY2ZhXkEyXkFqcGdeQXVyOTk2MzIyNzI@._V1_.jpg', 'caption': {'plainText': 'Broono (2024)', '__typename': 'Markdown'}, '__typename': 'Image'}, 'titleType': {'displayableProperty': {'value': {'plainText': 'Short', '__typename': 'Markdown'}, '__typename': 'DisplayableTitleTypeProperty'}, 'text': 'Short', 'id': 'short', 'isSeries': False, 'isEpisode': False, 'categories': [{'value': 'movie', '__typename': 'TitleTypeCategory'}], 'canHaveEpisodes': False, '__typename': 'TitleType'}, 'titleText': {'text': 'Broono', '__typename': 'TitleText'}, 'originalTitleText': {'text': 'Broono', '__typename': 'TitleText'}, 'releaseYear': {'year': 2024, 'endYear': None, '__typename': 'YearRange'}, 'releaseDate': {'day': 30, 'month': 1, 'year': 2024, '__typename': 'ReleaseDate'}}, {'_id': '63bc61cd4eb010378646231b', 'id': 'tt25815664', 'primaryImage': {'id': 'rm3176348673', 'width': 1080, 'height': 1350, 'url': 'https://m.media-amazon.com/images/M/MV5BMjdlMDdjNmUtNDRlNC00NmExLTgxOWQtNmM5NzkyMDhkNjY1XkEyXkFqcGdeQXVyNTA4NDUzMzI@._V1_.jpg', 'caption': {'plainText': 'Lifestyle: Lowrider Faith Journey, the Armando Flores Story (2024)', '__typename': 'Markdown'}, '__typename': 'Image'}, 'titleType': {'displayableProperty': {'value': {'plainText': 'Short', '__typename': 'Markdown'}, '__typename': 'DisplayableTitleTypeProperty'}, 'text': 'Short', 'id': 'short', 'isSeries': False, 'isEpisode': False, 'categories': [{'value': 'movie', '__typename': 'TitleTypeCategory'}], 'canHaveEpisodes': False, '__typename': 'TitleType'}, 'titleText': {'text': 'Lifestyle: Lowrider Faith Journey, the Armando Flores Story', '__typename': 'TitleText'}, 'originalTitleText': {'text': 'Lifestyle: Lowrider Faith Journey, the Armando Flores Story', '__typename': 'TitleText'}, 'releaseYear': {'year': 2024, 'endYear': None, '__typename': 'YearRange'}, 'releaseDate': {'day': None, 'month': None, 'year': 2024, '__typename': 'ReleaseDate'}}]}\n"
     ]
    }
   ],
   "source": [
    "\n",
    "\n",
    "url_endpoint = \"https://moviesdatabase.p.rapidapi.com/titles\"\n",
    "\n",
    "querystring = {\"genre\": \"Drama\",\"titleType\":\"short\",\"year\":\"2024\",\"page\":\"1\"}  # obtuvimos estos parametros en la pagina API\n",
    "\n",
    "headers = {\n",
    "\t\"X-RapidAPI-Key\": \"1db777625dmshdce6ed30bc0ec06p198b62jsn978c35c52050\",\n",
    "\t\"X-RapidAPI-Host\": \"moviesdatabase.p.rapidapi.com\"\n",
    "}\n",
    "\n",
    "llamada = requests.get(url_endpoint, headers=headers, params=querystring)\n",
    "\n",
    "print(llamada.json())\n",
    "\n",
    "llamada = requests.get(url_endpoint, headers=headers, params=querystring)\n",
    "\n",
    "print(llamada.json())\n",
    "resultados_llamada = llamada.json()"
   ]
  },
  {
   "cell_type": "markdown",
   "metadata": {},
   "source": [
    "##### Vemos que la llamada.json contiene 5 elementos: 'page' (el numero de la pagina), 'next' (la direccion exacta de la pagina), 'entries' (el numero de peliculas en la pagina) y 'results' que contiene toda la información que necesitamos.\n",
    "##### Ahora  creamos una funcion para acceder a más paginas (no solo la primera) con bucle while que pase a la siguiente página despues de obtener la información.\n",
    "##### A base de pueba y error nos hemos dado cuenta que los resultados por género tienen un máximo de 50 páginas, luego vuelve a la página 1 y nos devuelve peliculas repetidas. Así que ponemos un límite 50 en nuestro bucle."
   ]
  },
  {
   "cell_type": "code",
   "execution_count": 605,
   "metadata": {},
   "outputs": [],
   "source": [
    "def llamada_paginada(url_endpoint, headers, params):\n",
    "    pagina = 1\n",
    "    data_peliculas = []\n",
    "    while pagina <= 50:   # Aqui limitamos el numero de paginas que vamos a llamar ejemplo: ' while pagina <= 10' llama solo 10 paginas, pero si usamos 'while True' extrae todas las paginas hasta que  'next' no exista.\n",
    "        params['page'] = pagina\n",
    "        llamada = requests.get(url_endpoint, headers=headers, params=params)\n",
    "        \n",
    "        if llamada.status_code == 200:\n",
    "            llamada= llamada.json()\n",
    "            data_peliculas.extend(llamada['results'])  # extraemos los datos de la clave 'resutls'\n",
    "            print(f\"Página {pagina}: {len(llamada['results'])} películas extraídas.\")\n",
    "            pagina += 1\n",
    "                \n",
    "        elif llamada.status_code == 429: # 429 es error que devuelve API cuando hemos hecho muchas solicitudes.\n",
    "            print(\"Demasiadas solicitudes. Esperando para reintentar...\")\n",
    "            time.sleep(5)  # Espera antes de reintentar.\n",
    "            continue  # Vuelve a intentar la misma página.\n",
    "        \n",
    "        else:\n",
    "            print(f\"Error al buscar datos: {llamada.status_code} {llamada.reason}\")\n",
    "            break\n",
    "    # Comprobamos si existe otra pagina.\n",
    "        if not llamada.get('next'): #si no hay mas 'next' en la pagina...\n",
    "            print(\"Ultima pagina extraida.\")\n",
    "            break\n",
    "        time.sleep(2) # Espera entre llamadas a la API para evitar sobrecarga y que nos restringan acceso a la pagina.\n",
    "\n",
    "    return data_peliculas\n",
    "            \n",
    "        "
   ]
  },
  {
   "cell_type": "markdown",
   "metadata": {},
   "source": [
    "##### Ahora llamamos a la funcion que creamos con la API moviesdatabase."
   ]
  },
  {
   "cell_type": "code",
   "execution_count": 606,
   "metadata": {},
   "outputs": [
    {
     "name": "stdout",
     "output_type": "stream",
     "text": [
      "Página 1: 10 películas extraídas.\n",
      "Página 2: 10 películas extraídas.\n",
      "Página 3: 10 películas extraídas.\n",
      "Página 4: 10 películas extraídas.\n",
      "Página 5: 10 películas extraídas.\n",
      "Página 6: 10 películas extraídas.\n",
      "Página 7: 10 películas extraídas.\n",
      "Página 8: 10 películas extraídas.\n",
      "Página 9: 10 películas extraídas.\n",
      "Página 10: 10 películas extraídas.\n",
      "Página 11: 10 películas extraídas.\n",
      "Página 12: 10 películas extraídas.\n",
      "Página 13: 10 películas extraídas.\n",
      "Página 14: 10 películas extraídas.\n",
      "Página 15: 10 películas extraídas.\n",
      "Página 16: 10 películas extraídas.\n",
      "Página 17: 10 películas extraídas.\n",
      "Página 18: 10 películas extraídas.\n",
      "Página 19: 10 películas extraídas.\n",
      "Página 20: 10 películas extraídas.\n",
      "Página 21: 10 películas extraídas.\n",
      "Página 22: 10 películas extraídas.\n",
      "Página 23: 10 películas extraídas.\n",
      "Página 24: 10 películas extraídas.\n",
      "Página 25: 10 películas extraídas.\n",
      "Página 26: 10 películas extraídas.\n",
      "Página 27: 10 películas extraídas.\n",
      "Página 28: 10 películas extraídas.\n",
      "Página 29: 10 películas extraídas.\n",
      "Página 30: 10 películas extraídas.\n",
      "Página 31: 10 películas extraídas.\n",
      "Página 32: 10 películas extraídas.\n",
      "Página 33: 10 películas extraídas.\n",
      "Página 34: 10 películas extraídas.\n",
      "Página 35: 10 películas extraídas.\n",
      "Página 36: 10 películas extraídas.\n",
      "Página 37: 10 películas extraídas.\n",
      "Página 38: 10 películas extraídas.\n",
      "Página 39: 10 películas extraídas.\n",
      "Página 40: 10 películas extraídas.\n",
      "Página 41: 10 películas extraídas.\n",
      "Página 42: 10 películas extraídas.\n",
      "Página 43: 10 películas extraídas.\n",
      "Página 44: 10 películas extraídas.\n",
      "Página 45: 10 películas extraídas.\n",
      "Página 46: 10 películas extraídas.\n",
      "Página 47: 10 películas extraídas.\n",
      "Página 48: 10 películas extraídas.\n",
      "Página 49: 10 películas extraídas.\n",
      "Página 50: 10 películas extraídas.\n"
     ]
    }
   ],
   "source": [
    "resultados_paginados = llamada_paginada(url_endpoint, headers=headers, params=querystring)    "
   ]
  },
  {
   "cell_type": "markdown",
   "metadata": {},
   "source": [
    "##### Visualizamos resultados"
   ]
  },
  {
   "cell_type": "code",
   "execution_count": 607,
   "metadata": {},
   "outputs": [],
   "source": [
    "# type(resultados_paginados)\n",
    "# resultados_paginados"
   ]
  },
  {
   "cell_type": "code",
   "execution_count": 608,
   "metadata": {},
   "outputs": [],
   "source": [
    "def organizar_data(resultados_json):\n",
    "    peli_data = []\n",
    "    for i in resultados_json:\n",
    "        # Extraer los datos necesarios\n",
    "        peli_id = i['id'] # 'id' es donde se encuentran los ids de los elementos en la estructura de la pagina API.\n",
    "        peli_type = i['titleType']['text'] if 'titleType' in i else 'Desconocido'  # 'tiltType' es donde se encuentran el tipo elemento(ejem: movie, tvshow.) en la estructura de la pagina API.\n",
    "        peli_nombre = i['titleText']['text'] if 'titleText' in i else 'Desconocido' # 'titleText' es donde se encuentran los titulos de las peliculas en la estructura de la pagina API.\n",
    "        \n",
    "        # Manejo seguro de 'releaseDate' para evitar AttributeError en caso que no este disponible el año de estreno.\n",
    "        release_date = i.get('releaseDate', None)  # Usa None como valor por defecto\n",
    "        if release_date is None:  # Si releaseDate es None, usar valores por defecto\n",
    "            peli_año = 'Desconocido'\n",
    "            peli_mes = 'Desconocido'\n",
    "        else:\n",
    "            peli_año = release_date.get('year', 'Desconocido')\n",
    "            peli_mes = release_date.get('month', 'Desconocido')\n",
    "        \n",
    "        # Crear el diccionario con los datos \n",
    "        movie_dict = {\n",
    "            'Tipo': peli_type,\n",
    "            'Nombre': peli_nombre,\n",
    "            'Año de Estreno': peli_año,\n",
    "            'Mes de Estreno': peli_mes,\n",
    "            'ID de la Película': peli_id\n",
    "        }\n",
    "        peli_data.append(movie_dict)\n",
    "    \n",
    "    print(peli_data)\n",
    "    # Convertir la lista de diccionarios en un DataFrame\n",
    "    return pd.DataFrame(peli_data)\n",
    "\n"
   ]
  },
  {
   "cell_type": "code",
   "execution_count": 609,
   "metadata": {},
   "outputs": [
    {
     "name": "stdout",
     "output_type": "stream",
     "text": [
      "[{'Tipo': 'Short', 'Nombre': 'Before the Fish Fell', 'Año de Estreno': 2024, 'Mes de Estreno': 3, 'ID de la Película': 'tt14063056'}, {'Tipo': 'Short', 'Nombre': 'Eddie Thurber-V-My Darkness Ended on that Halloween...', 'Año de Estreno': 2024, 'Mes de Estreno': 10, 'ID de la Película': 'tt14072204'}, {'Tipo': 'Short', 'Nombre': 'Det Kan Ingen Ta Ifrån Mig', 'Año de Estreno': 2024, 'Mes de Estreno': 12, 'ID de la Película': 'tt15103886'}, {'Tipo': 'Short', 'Nombre': 'The Library', 'Año de Estreno': 2024, 'Mes de Estreno': 1, 'ID de la Película': 'tt17062072'}, {'Tipo': 'Short', 'Nombre': 'Somnus', 'Año de Estreno': 2024, 'Mes de Estreno': 3, 'ID de la Película': 'tt18335394'}, {'Tipo': 'Short', 'Nombre': 'Two Questions and a Wish', 'Año de Estreno': 2024, 'Mes de Estreno': 5, 'ID de la Película': 'tt18388426'}, {'Tipo': 'Short', 'Nombre': 'The LGBTQ+ Films: Q', 'Año de Estreno': 2024, 'Mes de Estreno': 8, 'ID de la Película': 'tt20193284'}, {'Tipo': 'Short', 'Nombre': 'The LGBTQ+ Films: G', 'Año de Estreno': 2024, 'Mes de Estreno': 8, 'ID de la Película': 'tt20195530'}, {'Tipo': 'Short', 'Nombre': 'Broono', 'Año de Estreno': 2024, 'Mes de Estreno': 1, 'ID de la Película': 'tt20205174'}, {'Tipo': 'Short', 'Nombre': 'Lifestyle: Lowrider Faith Journey, the Armando Flores Story', 'Año de Estreno': 2024, 'Mes de Estreno': None, 'ID de la Película': 'tt25815664'}, {'Tipo': 'Short', 'Nombre': 'Dobrodosli doma', 'Año de Estreno': 2024, 'Mes de Estreno': None, 'ID de la Película': 'tt25864596'}, {'Tipo': 'Short', 'Nombre': \"Theo's Tears\", 'Año de Estreno': 2024, 'Mes de Estreno': 5, 'ID de la Película': 'tt26007064'}, {'Tipo': 'Short', 'Nombre': 'Bugbear III', 'Año de Estreno': 2024, 'Mes de Estreno': 3, 'ID de la Película': 'tt26237980'}, {'Tipo': 'Short', 'Nombre': \"Don't Try This at Home\", 'Año de Estreno': None, 'Mes de Estreno': None, 'ID de la Película': 'tt26438463'}, {'Tipo': 'Short', 'Nombre': \"'Ndrina: Oltre l'onore\", 'Año de Estreno': 2024, 'Mes de Estreno': 1, 'ID de la Película': 'tt26447077'}, {'Tipo': 'Short', 'Nombre': \"Libtards: they're taking over\", 'Año de Estreno': 2024, 'Mes de Estreno': None, 'ID de la Película': 'tt26690186'}, {'Tipo': 'Short', 'Nombre': 'Utväg', 'Año de Estreno': 2024, 'Mes de Estreno': None, 'ID de la Película': 'tt26730332'}, {'Tipo': 'Short', 'Nombre': 'Forever, My Lover', 'Año de Estreno': 2024, 'Mes de Estreno': 4, 'ID de la Película': 'tt27042672'}, {'Tipo': 'Short', 'Nombre': 'Orchidaceae 2023', 'Año de Estreno': 2024, 'Mes de Estreno': None, 'ID de la Película': 'tt27042832'}, {'Tipo': 'Short', 'Nombre': 'As I Lay Still', 'Año de Estreno': 2024, 'Mes de Estreno': 7, 'ID de la Película': 'tt27052374'}, {'Tipo': 'Short', 'Nombre': 'Every Bus with Your Lover', 'Año de Estreno': 2024, 'Mes de Estreno': None, 'ID de la Película': 'tt27054641'}, {'Tipo': 'Short', 'Nombre': 'The Ideal Couple', 'Año de Estreno': 2024, 'Mes de Estreno': 2, 'ID de la Película': 'tt27166037'}, {'Tipo': 'Short', 'Nombre': 'Night Class', 'Año de Estreno': 2024, 'Mes de Estreno': None, 'ID de la Película': 'tt27230754'}, {'Tipo': 'Short', 'Nombre': 'Talk to Me', 'Año de Estreno': 'Desconocido', 'Mes de Estreno': 'Desconocido', 'ID de la Película': 'tt27385097'}, {'Tipo': 'Short', 'Nombre': 'Det er aldrig for sent', 'Año de Estreno': 2024, 'Mes de Estreno': None, 'ID de la Película': 'tt27416830'}, {'Tipo': 'Short', 'Nombre': 'A Revair', 'Año de Estreno': 2024, 'Mes de Estreno': None, 'ID de la Película': 'tt27419235'}, {'Tipo': 'Short', 'Nombre': 'C-Grade Waala', 'Año de Estreno': 2024, 'Mes de Estreno': 5, 'ID de la Película': 'tt27437414'}, {'Tipo': 'Short', 'Nombre': 'Abandoned', 'Año de Estreno': 2024, 'Mes de Estreno': 4, 'ID de la Película': 'tt27470510'}, {'Tipo': 'Short', 'Nombre': 'CP Enforcer', 'Año de Estreno': 2024, 'Mes de Estreno': 12, 'ID de la Película': 'tt27491989'}, {'Tipo': 'Short', 'Nombre': 'The Mountain', 'Año de Estreno': 2024, 'Mes de Estreno': 1, 'ID de la Película': 'tt27521773'}, {'Tipo': 'Short', 'Nombre': 'Close Your Eyes', 'Año de Estreno': 2024, 'Mes de Estreno': 1, 'ID de la Película': 'tt27552115'}, {'Tipo': 'Short', 'Nombre': 'Beautiful Strangers', 'Año de Estreno': 2024, 'Mes de Estreno': None, 'ID de la Película': 'tt27634156'}, {'Tipo': 'Short', 'Nombre': 'House of Glass', 'Año de Estreno': 2024, 'Mes de Estreno': 6, 'ID de la Película': 'tt27640332'}, {'Tipo': 'Short', 'Nombre': 'Change Me', 'Año de Estreno': 2024, 'Mes de Estreno': 3, 'ID de la Película': 'tt27672549'}, {'Tipo': 'Short', 'Nombre': 'The Last Call', 'Año de Estreno': 2024, 'Mes de Estreno': 10, 'ID de la Película': 'tt27678980'}, {'Tipo': 'Short', 'Nombre': 'Siento Vértigo', 'Año de Estreno': 2024, 'Mes de Estreno': 3, 'ID de la Película': 'tt27686457'}, {'Tipo': 'Short', 'Nombre': 'Condamné', 'Año de Estreno': 2024, 'Mes de Estreno': 12, 'ID de la Película': 'tt27707363'}, {'Tipo': 'Short', 'Nombre': 'Save the Orchid', 'Año de Estreno': 2024, 'Mes de Estreno': 2, 'ID de la Película': 'tt27715201'}, {'Tipo': 'Short', 'Nombre': 'The Pardon', 'Año de Estreno': 2024, 'Mes de Estreno': None, 'ID de la Película': 'tt27733746'}, {'Tipo': 'Short', 'Nombre': 'La Jouissance', 'Año de Estreno': 2024, 'Mes de Estreno': None, 'ID de la Película': 'tt27747495'}, {'Tipo': 'Short', 'Nombre': 'Reunirse', 'Año de Estreno': 2024, 'Mes de Estreno': 1, 'ID de la Película': 'tt27774128'}, {'Tipo': 'Short', 'Nombre': 'Hatirlama', 'Año de Estreno': 2024, 'Mes de Estreno': 3, 'ID de la Película': 'tt27786652'}, {'Tipo': 'Short', 'Nombre': 'Two Tickets', 'Año de Estreno': 2024, 'Mes de Estreno': 4, 'ID de la Película': 'tt27791283'}, {'Tipo': 'Short', 'Nombre': 'Naam (Identity)', 'Año de Estreno': 2024, 'Mes de Estreno': 4, 'ID de la Película': 'tt27795362'}, {'Tipo': 'Short', 'Nombre': 'Soliloque', 'Año de Estreno': 2024, 'Mes de Estreno': 9, 'ID de la Película': 'tt27803276'}, {'Tipo': 'Short', 'Nombre': 'Frank', 'Año de Estreno': 'Desconocido', 'Mes de Estreno': 'Desconocido', 'ID de la Película': 'tt27827381'}, {'Tipo': 'Short', 'Nombre': 'It Is What It Is', 'Año de Estreno': 2024, 'Mes de Estreno': 4, 'ID de la Película': 'tt27832399'}, {'Tipo': 'Short', 'Nombre': 'Fissures', 'Año de Estreno': 2024, 'Mes de Estreno': 6, 'ID de la Película': 'tt27833184'}, {'Tipo': 'Short', 'Nombre': 'Informal', 'Año de Estreno': 2024, 'Mes de Estreno': 8, 'ID de la Película': 'tt27844158'}, {'Tipo': 'Short', 'Nombre': 'Stable', 'Año de Estreno': 2024, 'Mes de Estreno': 5, 'ID de la Película': 'tt27852684'}, {'Tipo': 'Short', 'Nombre': 'Ballerina Boy', 'Año de Estreno': 'Desconocido', 'Mes de Estreno': 'Desconocido', 'ID de la Película': 'tt27872025'}, {'Tipo': 'Short', 'Nombre': 'Not Dark Yet', 'Año de Estreno': 2024, 'Mes de Estreno': None, 'ID de la Película': 'tt27882632'}, {'Tipo': 'Short', 'Nombre': 'He who dares to win', 'Año de Estreno': 2024, 'Mes de Estreno': 9, 'ID de la Película': 'tt27917744'}, {'Tipo': 'Short', 'Nombre': 'Amygdala', 'Año de Estreno': 2024, 'Mes de Estreno': None, 'ID de la Película': 'tt27934120'}, {'Tipo': 'Short', 'Nombre': 'Unmasking', 'Año de Estreno': 2024, 'Mes de Estreno': None, 'ID de la Película': 'tt28013848'}, {'Tipo': 'Short', 'Nombre': 'Hora Azul (Blue Hour)', 'Año de Estreno': 2024, 'Mes de Estreno': 2, 'ID de la Película': 'tt28016665'}, {'Tipo': 'Short', 'Nombre': 'My Method', 'Año de Estreno': 2024, 'Mes de Estreno': 2, 'ID de la Película': 'tt28020970'}, {'Tipo': 'Short', 'Nombre': 'Divine Design 2', 'Año de Estreno': 2024, 'Mes de Estreno': 4, 'ID de la Película': 'tt28061894'}, {'Tipo': 'Short', 'Nombre': 'Suplicio', 'Año de Estreno': 2024, 'Mes de Estreno': 1, 'ID de la Película': 'tt28088582'}, {'Tipo': 'Short', 'Nombre': 'The Second', 'Año de Estreno': 2024, 'Mes de Estreno': None, 'ID de la Película': 'tt28092756'}, {'Tipo': 'Short', 'Nombre': 'Cover', 'Año de Estreno': 2024, 'Mes de Estreno': None, 'ID de la Película': 'tt28187783'}, {'Tipo': 'Short', 'Nombre': 'Beyond Hope', 'Año de Estreno': 2024, 'Mes de Estreno': 9, 'ID de la Película': 'tt28219803'}, {'Tipo': 'Short', 'Nombre': 'The Daisy Crown', 'Año de Estreno': 2024, 'Mes de Estreno': 1, 'ID de la Película': 'tt28246285'}, {'Tipo': 'Short', 'Nombre': 'ATM CARD', 'Año de Estreno': 2024, 'Mes de Estreno': None, 'ID de la Película': 'tt28276201'}, {'Tipo': 'Short', 'Nombre': 'You Mourn Weird', 'Año de Estreno': 2024, 'Mes de Estreno': None, 'ID de la Película': 'tt28309833'}, {'Tipo': 'Short', 'Nombre': \"I Didn't Mean to Haunt You\", 'Año de Estreno': 2024, 'Mes de Estreno': 1, 'ID de la Película': 'tt28341583'}, {'Tipo': 'Short', 'Nombre': 'Carry the Wind', 'Año de Estreno': 2024, 'Mes de Estreno': 4, 'ID de la Película': 'tt28353469'}, {'Tipo': 'Short', 'Nombre': 'Edendale', 'Año de Estreno': 2024, 'Mes de Estreno': 3, 'ID de la Película': 'tt28355146'}, {'Tipo': 'Short', 'Nombre': 'Another Hero', 'Año de Estreno': 'Desconocido', 'Mes de Estreno': 'Desconocido', 'ID de la Película': 'tt28369850'}, {'Tipo': 'Short', 'Nombre': 'Såna som jag förändras aldrig', 'Año de Estreno': 'Desconocido', 'Mes de Estreno': 'Desconocido', 'ID de la Película': 'tt28378158'}, {'Tipo': 'Short', 'Nombre': 'Melabration', 'Año de Estreno': 2024, 'Mes de Estreno': 1, 'ID de la Película': 'tt28448718'}, {'Tipo': 'Short', 'Nombre': 'The Why', 'Año de Estreno': 2024, 'Mes de Estreno': None, 'ID de la Película': 'tt28465848'}, {'Tipo': 'Short', 'Nombre': 'Ten Days', 'Año de Estreno': 2024, 'Mes de Estreno': 1, 'ID de la Película': 'tt28458333'}, {'Tipo': 'Short', 'Nombre': 'The Museum', 'Año de Estreno': 2024, 'Mes de Estreno': None, 'ID de la Película': 'tt28477602'}, {'Tipo': 'Short', 'Nombre': 'Clean Slate', 'Año de Estreno': 'Desconocido', 'Mes de Estreno': 'Desconocido', 'ID de la Película': 'tt28478797'}, {'Tipo': 'Short', 'Nombre': 'Midheaven', 'Año de Estreno': 2024, 'Mes de Estreno': None, 'ID de la Película': 'tt28487088'}, {'Tipo': 'Short', 'Nombre': 'Black Square', 'Año de Estreno': 'Desconocido', 'Mes de Estreno': 'Desconocido', 'ID de la Película': 'tt28488077'}, {'Tipo': 'Short', 'Nombre': 'La Quena', 'Año de Estreno': 2024, 'Mes de Estreno': 4, 'ID de la Película': 'tt28494525'}, {'Tipo': 'Short', 'Nombre': 'One Take', 'Año de Estreno': 'Desconocido', 'Mes de Estreno': 'Desconocido', 'ID de la Película': 'tt28506198'}, {'Tipo': 'Short', 'Nombre': 'Edward Has A Tree Inside Him', 'Año de Estreno': 2024, 'Mes de Estreno': 7, 'ID de la Película': 'tt28512845'}, {'Tipo': 'Short', 'Nombre': 'Portrait', 'Año de Estreno': 2024, 'Mes de Estreno': 1, 'ID de la Película': 'tt28520039'}, {'Tipo': 'Short', 'Nombre': 'La Reina del Pop', 'Año de Estreno': 2024, 'Mes de Estreno': None, 'ID de la Película': 'tt28544839'}, {'Tipo': 'Short', 'Nombre': 'My Hyperpop Era', 'Año de Estreno': 2024, 'Mes de Estreno': None, 'ID de la Película': 'tt28554227'}, {'Tipo': 'Short', 'Nombre': 'The Ballad of an Artist', 'Año de Estreno': 2024, 'Mes de Estreno': 5, 'ID de la Película': 'tt28555262'}, {'Tipo': 'Short', 'Nombre': 'The Great Creator', 'Año de Estreno': 'Desconocido', 'Mes de Estreno': 'Desconocido', 'ID de la Película': 'tt28619507'}, {'Tipo': 'Short', 'Nombre': 'The Female Side Effect', 'Año de Estreno': 'Desconocido', 'Mes de Estreno': 'Desconocido', 'ID de la Película': 'tt28641876'}, {'Tipo': 'Short', 'Nombre': 'Justified', 'Año de Estreno': 2024, 'Mes de Estreno': 5, 'ID de la Película': 'tt28642137'}, {'Tipo': 'Short', 'Nombre': 'The Last Time Martians Came Home', 'Año de Estreno': 2024, 'Mes de Estreno': 2, 'ID de la Película': 'tt28658767'}, {'Tipo': 'Short', 'Nombre': 'Confessional', 'Año de Estreno': 2024, 'Mes de Estreno': None, 'ID de la Película': 'tt28664089'}, {'Tipo': 'Short', 'Nombre': 'Leading Man', 'Año de Estreno': 'Desconocido', 'Mes de Estreno': 'Desconocido', 'ID de la Película': 'tt28671886'}, {'Tipo': 'Short', 'Nombre': 'The Drunk', 'Año de Estreno': 2024, 'Mes de Estreno': 6, 'ID de la Película': 'tt28695597'}, {'Tipo': 'Short', 'Nombre': 'Nowhere to Go', 'Año de Estreno': 2024, 'Mes de Estreno': 1, 'ID de la Película': 'tt28742471'}, {'Tipo': 'Short', 'Nombre': 'Are You Still Here', 'Año de Estreno': 'Desconocido', 'Mes de Estreno': 'Desconocido', 'ID de la Película': 'tt28743220'}, {'Tipo': 'Short', 'Nombre': 'Goodbye, Goodbye, Goodbye', 'Año de Estreno': 2024, 'Mes de Estreno': 1, 'ID de la Película': 'tt28751935'}, {'Tipo': 'Short', 'Nombre': 'Captain Zero: Into the Abyss Part II', 'Año de Estreno': 2024, 'Mes de Estreno': 6, 'ID de la Película': 'tt28754110'}, {'Tipo': 'Short', 'Nombre': 'The Author', 'Año de Estreno': 2024, 'Mes de Estreno': 6, 'ID de la Película': 'tt28755559'}, {'Tipo': 'Short', 'Nombre': 'Featherless', 'Año de Estreno': 'Desconocido', 'Mes de Estreno': 'Desconocido', 'ID de la Película': 'tt28757041'}, {'Tipo': 'Short', 'Nombre': 'Overexposed', 'Año de Estreno': 2024, 'Mes de Estreno': None, 'ID de la Película': 'tt28759683'}, {'Tipo': 'Short', 'Nombre': 'Sometime, Somewhere', 'Año de Estreno': 'Desconocido', 'Mes de Estreno': 'Desconocido', 'ID de la Película': 'tt28760888'}, {'Tipo': 'Short', 'Nombre': 'Maati', 'Año de Estreno': 2024, 'Mes de Estreno': 12, 'ID de la Película': 'tt28757446'}, {'Tipo': 'Short', 'Nombre': 'Untitled and Unfinished', 'Año de Estreno': 2024, 'Mes de Estreno': None, 'ID de la Película': 'tt28768922'}, {'Tipo': 'Short', 'Nombre': 'Stride', 'Año de Estreno': 'Desconocido', 'Mes de Estreno': 'Desconocido', 'ID de la Película': 'tt28779962'}, {'Tipo': 'Short', 'Nombre': 'Army Men', 'Año de Estreno': 2024, 'Mes de Estreno': 1, 'ID de la Película': 'tt28780383'}, {'Tipo': 'Short', 'Nombre': 'In Love Again', 'Año de Estreno': 2024, 'Mes de Estreno': 2, 'ID de la Película': 'tt28795872'}, {'Tipo': 'Short', 'Nombre': 'Ten Years', 'Año de Estreno': 'Desconocido', 'Mes de Estreno': 'Desconocido', 'ID de la Película': 'tt28797987'}, {'Tipo': 'Short', 'Nombre': 'Liquor and Life', 'Año de Estreno': 2024, 'Mes de Estreno': None, 'ID de la Película': 'tt28798656'}, {'Tipo': 'Short', 'Nombre': 'The Greatest Use', 'Año de Estreno': 'Desconocido', 'Mes de Estreno': 'Desconocido', 'ID de la Película': 'tt28790531'}, {'Tipo': 'Short', 'Nombre': 'Aortic', 'Año de Estreno': 2024, 'Mes de Estreno': 4, 'ID de la Película': 'tt28815002'}, {'Tipo': 'Short', 'Nombre': 'I Dream of Poultry Cottages', 'Año de Estreno': 2024, 'Mes de Estreno': 4, 'ID de la Película': 'tt28832948'}, {'Tipo': 'Short', 'Nombre': 'Panchos', 'Año de Estreno': 2024, 'Mes de Estreno': 1, 'ID de la Película': 'tt28920377'}, {'Tipo': 'Short', 'Nombre': 'Leopards', 'Año de Estreno': 2024, 'Mes de Estreno': None, 'ID de la Película': 'tt28948357'}, {'Tipo': 'Short', 'Nombre': 'FEARLESS devised', 'Año de Estreno': 2024, 'Mes de Estreno': 3, 'ID de la Película': 'tt28951003'}, {'Tipo': 'Short', 'Nombre': 'El perro que mordió a mi madre', 'Año de Estreno': 2024, 'Mes de Estreno': None, 'ID de la Película': 'tt28959682'}, {'Tipo': 'Short', 'Nombre': 'Where Our Mother Left Us', 'Año de Estreno': 2024, 'Mes de Estreno': None, 'ID de la Película': 'tt29001850'}, {'Tipo': 'Short', 'Nombre': 'Som De Blinde Slås', 'Año de Estreno': 2024, 'Mes de Estreno': 1, 'ID de la Película': 'tt29009818'}, {'Tipo': 'Short', 'Nombre': 'Rapt', 'Año de Estreno': 'Desconocido', 'Mes de Estreno': 'Desconocido', 'ID de la Película': 'tt29009429'}, {'Tipo': 'Short', 'Nombre': 'Pod tym samym niebem', 'Año de Estreno': 2024, 'Mes de Estreno': 5, 'ID de la Película': 'tt29028845'}, {'Tipo': 'Short', 'Nombre': 'CHOTA DON - AN INTRO FILM', 'Año de Estreno': 2024, 'Mes de Estreno': 3, 'ID de la Película': 'tt29033914'}, {'Tipo': 'Short', 'Nombre': 'February', 'Año de Estreno': 2024, 'Mes de Estreno': None, 'ID de la Película': 'tt29034297'}, {'Tipo': 'Short', 'Nombre': 'The Fall Out', 'Año de Estreno': 'Desconocido', 'Mes de Estreno': 'Desconocido', 'ID de la Película': 'tt29044468'}, {'Tipo': 'Short', 'Nombre': 'Skyvory', 'Año de Estreno': 'Desconocido', 'Mes de Estreno': 'Desconocido', 'ID de la Película': 'tt29040994'}, {'Tipo': 'Short', 'Nombre': 'Guilt', 'Año de Estreno': 2024, 'Mes de Estreno': 2, 'ID de la Película': 'tt29057421'}, {'Tipo': 'Short', 'Nombre': 'Dive', 'Año de Estreno': 2024, 'Mes de Estreno': None, 'ID de la Película': 'tt29084706'}, {'Tipo': 'Short', 'Nombre': 'Maputo', 'Año de Estreno': 'Desconocido', 'Mes de Estreno': 'Desconocido', 'ID de la Película': 'tt29118174'}, {'Tipo': 'Short', 'Nombre': 'Coffin in the Sky (Keranda di Langit)', 'Año de Estreno': 2024, 'Mes de Estreno': 8, 'ID de la Película': 'tt29135536'}, {'Tipo': 'Short', 'Nombre': 'The Jukebox', 'Año de Estreno': 2024, 'Mes de Estreno': None, 'ID de la Película': 'tt29178013'}, {'Tipo': 'Short', 'Nombre': 'Bloom Flower', 'Año de Estreno': 2024, 'Mes de Estreno': 1, 'ID de la Película': 'tt29175265'}, {'Tipo': 'Short', 'Nombre': 'Kinfolk', 'Año de Estreno': 2024, 'Mes de Estreno': None, 'ID de la Película': 'tt29194374'}, {'Tipo': 'Short', 'Nombre': 'Clear Smoke', 'Año de Estreno': 2024, 'Mes de Estreno': 10, 'ID de la Película': 'tt29209902'}, {'Tipo': 'Short', 'Nombre': \"Jaan's Day\", 'Año de Estreno': 'Desconocido', 'Mes de Estreno': 'Desconocido', 'ID de la Película': 'tt29229275'}, {'Tipo': 'Short', 'Nombre': 'Via Delle Rose 36', 'Año de Estreno': 2024, 'Mes de Estreno': 4, 'ID de la Película': 'tt29229431'}, {'Tipo': 'Short', 'Nombre': 'Guilt', 'Año de Estreno': 2024, 'Mes de Estreno': 6, 'ID de la Película': 'tt29228979'}, {'Tipo': 'Short', 'Nombre': 'Pickles', 'Año de Estreno': 'Desconocido', 'Mes de Estreno': 'Desconocido', 'ID de la Película': 'tt29248083'}, {'Tipo': 'Short', 'Nombre': 'True Love', 'Año de Estreno': 2024, 'Mes de Estreno': 3, 'ID de la Película': 'tt29252359'}, {'Tipo': 'Short', 'Nombre': 'Transfixion', 'Año de Estreno': 2024, 'Mes de Estreno': 1, 'ID de la Película': 'tt29272124'}, {'Tipo': 'Short', 'Nombre': 'Vanish', 'Año de Estreno': 2024, 'Mes de Estreno': None, 'ID de la Película': 'tt29274490'}, {'Tipo': 'Short', 'Nombre': 'Standing on the Edge', 'Año de Estreno': 2024, 'Mes de Estreno': 1, 'ID de la Película': 'tt29272129'}, {'Tipo': 'Short', 'Nombre': 'Four Seasons', 'Año de Estreno': 2024, 'Mes de Estreno': None, 'ID de la Película': 'tt29291690'}, {'Tipo': 'Short', 'Nombre': 'Puerto Rican Jew', 'Año de Estreno': 2024, 'Mes de Estreno': 5, 'ID de la Película': 'tt29292100'}, {'Tipo': 'Short', 'Nombre': 'Radiant Choice', 'Año de Estreno': 2024, 'Mes de Estreno': 6, 'ID de la Película': 'tt29299123'}, {'Tipo': 'Short', 'Nombre': 'Sweet Pea', 'Año de Estreno': 2024, 'Mes de Estreno': None, 'ID de la Película': 'tt29305500'}, {'Tipo': 'Short', 'Nombre': 'Friend to Me and the Sea', 'Año de Estreno': 'Desconocido', 'Mes de Estreno': 'Desconocido', 'ID de la Película': 'tt29311404'}, {'Tipo': 'Short', 'Nombre': 'Who is Blind', 'Año de Estreno': 'Desconocido', 'Mes de Estreno': 'Desconocido', 'ID de la Película': 'tt29339823'}, {'Tipo': 'Short', 'Nombre': 'The Color of Fireworks', 'Año de Estreno': 'Desconocido', 'Mes de Estreno': 'Desconocido', 'ID de la Película': 'tt29339915'}, {'Tipo': 'Short', 'Nombre': 'Fever', 'Año de Estreno': 2024, 'Mes de Estreno': None, 'ID de la Película': 'tt29341929'}, {'Tipo': 'Short', 'Nombre': 'Bert & Amanda', 'Año de Estreno': 2024, 'Mes de Estreno': None, 'ID de la Película': 'tt29345234'}, {'Tipo': 'Short', 'Nombre': '(Nothing) Left Unsaid', 'Año de Estreno': 'Desconocido', 'Mes de Estreno': 'Desconocido', 'ID de la Película': 'tt29344769'}, {'Tipo': 'Short', 'Nombre': 'Different Faces', 'Año de Estreno': 2024, 'Mes de Estreno': 1, 'ID de la Película': 'tt29356485'}, {'Tipo': 'Short', 'Nombre': 'The Power Went Out on Perdue Street', 'Año de Estreno': 2024, 'Mes de Estreno': 8, 'ID de la Película': 'tt29356500'}, {'Tipo': 'Short', 'Nombre': 'The Ghost', 'Año de Estreno': 'Desconocido', 'Mes de Estreno': 'Desconocido', 'ID de la Película': 'tt29361158'}, {'Tipo': 'Short', 'Nombre': 'The Space Between', 'Año de Estreno': 2024, 'Mes de Estreno': 1, 'ID de la Película': 'tt29369504'}, {'Tipo': 'Short', 'Nombre': 'Un polo de limón', 'Año de Estreno': 2024, 'Mes de Estreno': 5, 'ID de la Película': 'tt29370809'}, {'Tipo': 'Short', 'Nombre': 'Bird Hours', 'Año de Estreno': 'Desconocido', 'Mes de Estreno': 'Desconocido', 'ID de la Película': 'tt29372088'}, {'Tipo': 'Short', 'Nombre': 'The Meal', 'Año de Estreno': 2024, 'Mes de Estreno': 2, 'ID de la Película': 'tt29380568'}, {'Tipo': 'Short', 'Nombre': 'Kittu Katha', 'Año de Estreno': 2024, 'Mes de Estreno': None, 'ID de la Película': 'tt29392237'}, {'Tipo': 'Short', 'Nombre': '4th Dementia', 'Año de Estreno': 2024, 'Mes de Estreno': None, 'ID de la Película': 'tt29382251'}, {'Tipo': 'Short', 'Nombre': 'Drama Boy', 'Año de Estreno': 'Desconocido', 'Mes de Estreno': 'Desconocido', 'ID de la Película': 'tt29418911'}, {'Tipo': 'Short', 'Nombre': 'Toi sans Moi', 'Año de Estreno': 2024, 'Mes de Estreno': None, 'ID de la Película': 'tt29420734'}, {'Tipo': 'Short', 'Nombre': 'Yahritzi', 'Año de Estreno': 2024, 'Mes de Estreno': 1, 'ID de la Película': 'tt29420519'}, {'Tipo': 'Short', 'Nombre': 'Zindagi Ek Kashmakash (Life, a Dilemma)', 'Año de Estreno': 2024, 'Mes de Estreno': 1, 'ID de la Película': 'tt29429385'}, {'Tipo': 'Short', 'Nombre': 'In Situ', 'Año de Estreno': 2024, 'Mes de Estreno': 1, 'ID de la Película': 'tt29430773'}, {'Tipo': 'Short', 'Nombre': 'Clout', 'Año de Estreno': 2024, 'Mes de Estreno': 12, 'ID de la Película': 'tt29439023'}, {'Tipo': 'Short', 'Nombre': 'Se on niin kuin se on', 'Año de Estreno': 'Desconocido', 'Mes de Estreno': 'Desconocido', 'ID de la Película': 'tt29450339'}, {'Tipo': 'Short', 'Nombre': 'True Self', 'Año de Estreno': 2024, 'Mes de Estreno': None, 'ID de la Película': 'tt29453809'}, {'Tipo': 'Short', 'Nombre': 'Traca', 'Año de Estreno': 'Desconocido', 'Mes de Estreno': 'Desconocido', 'ID de la Película': 'tt29454572'}, {'Tipo': 'Short', 'Nombre': 'Ofrenda', 'Año de Estreno': 2024, 'Mes de Estreno': 10, 'ID de la Película': 'tt29455273'}, {'Tipo': 'Short', 'Nombre': 'Tyranniet', 'Año de Estreno': 2024, 'Mes de Estreno': None, 'ID de la Película': 'tt29464052'}, {'Tipo': 'Short', 'Nombre': 'Soffia', 'Año de Estreno': 2024, 'Mes de Estreno': 1, 'ID de la Película': 'tt29457563'}, {'Tipo': 'Short', 'Nombre': 'Betelgeuse', 'Año de Estreno': 2024, 'Mes de Estreno': 11, 'ID de la Película': 'tt29469556'}, {'Tipo': 'Short', 'Nombre': 'Repercussions', 'Año de Estreno': 2024, 'Mes de Estreno': 4, 'ID de la Película': 'tt29476788'}, {'Tipo': 'Short', 'Nombre': 'Happy Loop', 'Año de Estreno': 'Desconocido', 'Mes de Estreno': 'Desconocido', 'ID de la Película': 'tt29484525'}, {'Tipo': 'Short', 'Nombre': \"I Can't\", 'Año de Estreno': 2024, 'Mes de Estreno': 10, 'ID de la Película': 'tt28862080'}, {'Tipo': 'Short', 'Nombre': 'Bajo La Tierra', 'Año de Estreno': 2024, 'Mes de Estreno': 4, 'ID de la Película': 'tt29491678'}, {'Tipo': 'Short', 'Nombre': 'Morning Steep', 'Año de Estreno': 'Desconocido', 'Mes de Estreno': 'Desconocido', 'ID de la Película': 'tt29492170'}, {'Tipo': 'Short', 'Nombre': 'Isän Mäyrä', 'Año de Estreno': 2024, 'Mes de Estreno': 3, 'ID de la Película': 'tt29509059'}, {'Tipo': 'Short', 'Nombre': 'Light of the Passing Train', 'Año de Estreno': 2024, 'Mes de Estreno': 3, 'ID de la Película': 'tt29514995'}, {'Tipo': 'Short', 'Nombre': 'Rambai Sonna Kadhai', 'Año de Estreno': 2024, 'Mes de Estreno': None, 'ID de la Película': 'tt29507920'}, {'Tipo': 'Short', 'Nombre': 'Sorting', 'Año de Estreno': 2024, 'Mes de Estreno': 5, 'ID de la Película': 'tt29515722'}, {'Tipo': 'Short', 'Nombre': 'You Will Fail This Test', 'Año de Estreno': 2024, 'Mes de Estreno': None, 'ID de la Película': 'tt29538595'}, {'Tipo': 'Short', 'Nombre': 'Home', 'Año de Estreno': 2024, 'Mes de Estreno': None, 'ID de la Película': 'tt29545353'}, {'Tipo': 'Short', 'Nombre': 'Duelo', 'Año de Estreno': 2024, 'Mes de Estreno': None, 'ID de la Película': 'tt29548340'}, {'Tipo': 'Short', 'Nombre': 'Ribbons of Euphoria', 'Año de Estreno': 2024, 'Mes de Estreno': None, 'ID de la Película': 'tt29551818'}, {'Tipo': 'Short', 'Nombre': 'End of 14 Days', 'Año de Estreno': 'Desconocido', 'Mes de Estreno': 'Desconocido', 'ID de la Película': 'tt29560492'}, {'Tipo': 'Short', 'Nombre': 'Shadow', 'Año de Estreno': 2024, 'Mes de Estreno': 3, 'ID de la Película': 'tt29560489'}, {'Tipo': 'Short', 'Nombre': 'Mike', 'Año de Estreno': 2024, 'Mes de Estreno': 1, 'ID de la Película': 'tt29569025'}, {'Tipo': 'Short', 'Nombre': 'Without You', 'Año de Estreno': 2024, 'Mes de Estreno': None, 'ID de la Película': 'tt29594645'}, {'Tipo': 'Short', 'Nombre': 'Living Reality', 'Año de Estreno': 2024, 'Mes de Estreno': 3, 'ID de la Película': 'tt29593156'}, {'Tipo': 'Short', 'Nombre': 'The Call', 'Año de Estreno': 2024, 'Mes de Estreno': None, 'ID de la Película': 'tt29609342'}, {'Tipo': 'Short', 'Nombre': 'Azhagi × Ugly', 'Año de Estreno': 2024, 'Mes de Estreno': 4, 'ID de la Película': 'tt29609374'}, {'Tipo': 'Short', 'Nombre': 'Sam & The Purple Elephant', 'Año de Estreno': 2024, 'Mes de Estreno': None, 'ID de la Película': 'tt29612362'}, {'Tipo': 'Short', 'Nombre': 'Triune', 'Año de Estreno': 2024, 'Mes de Estreno': 2, 'ID de la Película': 'tt29610789'}, {'Tipo': 'Short', 'Nombre': \"You don't exist\", 'Año de Estreno': 2024, 'Mes de Estreno': 1, 'ID de la Película': 'tt29614855'}, {'Tipo': 'Short', 'Nombre': 'Private School', 'Año de Estreno': 'Desconocido', 'Mes de Estreno': 'Desconocido', 'ID de la Película': 'tt29622137'}, {'Tipo': 'Short', 'Nombre': 'Be Faced', 'Año de Estreno': 2024, 'Mes de Estreno': 4, 'ID de la Película': 'tt29619833'}, {'Tipo': 'Short', 'Nombre': 'Medicine', 'Año de Estreno': 'Desconocido', 'Mes de Estreno': 'Desconocido', 'ID de la Película': 'tt29624105'}, {'Tipo': 'Short', 'Nombre': 'How we (never) met', 'Año de Estreno': 2024, 'Mes de Estreno': 1, 'ID de la Película': 'tt29622993'}, {'Tipo': 'Short', 'Nombre': 'Back of the Net', 'Año de Estreno': 2024, 'Mes de Estreno': None, 'ID de la Película': 'tt29640489'}, {'Tipo': 'Short', 'Nombre': 'The Seed of Truth', 'Año de Estreno': 2024, 'Mes de Estreno': 3, 'ID de la Película': 'tt29650005'}, {'Tipo': 'Short', 'Nombre': 'Lao Lao Lao Le', 'Año de Estreno': 2024, 'Mes de Estreno': 3, 'ID de la Película': 'tt29687890'}, {'Tipo': 'Short', 'Nombre': '32', 'Año de Estreno': 'Desconocido', 'Mes de Estreno': 'Desconocido', 'ID de la Película': 'tt29703913'}, {'Tipo': 'Short', 'Nombre': 'All I Need', 'Año de Estreno': 2024, 'Mes de Estreno': 4, 'ID de la Película': 'tt29704694'}, {'Tipo': 'Short', 'Nombre': 'Roya-ye Nime-Jan', 'Año de Estreno': 2024, 'Mes de Estreno': 1, 'ID de la Película': 'tt29711095'}, {'Tipo': 'Short', 'Nombre': 'Toute ton éternité', 'Año de Estreno': 2024, 'Mes de Estreno': None, 'ID de la Película': 'tt29718811'}, {'Tipo': 'Short', 'Nombre': 'I Have Love in Me', 'Año de Estreno': 'Desconocido', 'Mes de Estreno': 'Desconocido', 'ID de la Película': 'tt29720694'}, {'Tipo': 'Short', 'Nombre': 'Oh Rats', 'Año de Estreno': 2024, 'Mes de Estreno': None, 'ID de la Película': 'tt29729432'}, {'Tipo': 'Short', 'Nombre': 'Pirandello on Broadway', 'Año de Estreno': 2024, 'Mes de Estreno': 2, 'ID de la Película': 'tt29731274'}, {'Tipo': 'Short', 'Nombre': 'Emily', 'Año de Estreno': 2024, 'Mes de Estreno': 1, 'ID de la Película': 'tt29731710'}, {'Tipo': 'Short', 'Nombre': 'Sour Milk', 'Año de Estreno': 2024, 'Mes de Estreno': 3, 'ID de la Película': 'tt29741961'}, {'Tipo': 'Short', 'Nombre': 'Chispa', 'Año de Estreno': 2024, 'Mes de Estreno': None, 'ID de la Película': 'tt29763206'}, {'Tipo': 'Short', 'Nombre': 'Buhurt', 'Año de Estreno': 2024, 'Mes de Estreno': None, 'ID de la Película': 'tt29781069'}, {'Tipo': 'Short', 'Nombre': 'Polaris', 'Año de Estreno': 2024, 'Mes de Estreno': 4, 'ID de la Película': 'tt29793246'}, {'Tipo': 'Short', 'Nombre': 'Wasteland', 'Año de Estreno': 'Desconocido', 'Mes de Estreno': 'Desconocido', 'ID de la Película': 'tt29794031'}, {'Tipo': 'Short', 'Nombre': 'Swell', 'Año de Estreno': 2024, 'Mes de Estreno': None, 'ID de la Película': 'tt29801025'}, {'Tipo': 'Short', 'Nombre': 'Whale Fall', 'Año de Estreno': 2024, 'Mes de Estreno': None, 'ID de la Película': 'tt29815519'}, {'Tipo': 'Short', 'Nombre': 'Mitosis', 'Año de Estreno': 2024, 'Mes de Estreno': 9, 'ID de la Película': 'tt29807970'}, {'Tipo': 'Short', 'Nombre': 'The Lottery Winner', 'Año de Estreno': 2024, 'Mes de Estreno': None, 'ID de la Película': 'tt29862913'}, {'Tipo': 'Short', 'Nombre': 'Jui', 'Año de Estreno': 2024, 'Mes de Estreno': None, 'ID de la Película': 'tt29871219'}, {'Tipo': 'Short', 'Nombre': 'Now & Then', 'Año de Estreno': 2024, 'Mes de Estreno': 3, 'ID de la Película': 'tt29871018'}, {'Tipo': 'Short', 'Nombre': 'Different Kind of Sick', 'Año de Estreno': 'Desconocido', 'Mes de Estreno': 'Desconocido', 'ID de la Película': 'tt29878641'}, {'Tipo': 'Short', 'Nombre': 'Almost Home', 'Año de Estreno': 2024, 'Mes de Estreno': None, 'ID de la Película': 'tt29884508'}, {'Tipo': 'Short', 'Nombre': 'Blazer', 'Año de Estreno': 2024, 'Mes de Estreno': 2, 'ID de la Película': 'tt29886238'}, {'Tipo': 'Short', 'Nombre': 'Gender Reveal', 'Año de Estreno': 'Desconocido', 'Mes de Estreno': 'Desconocido', 'ID de la Película': 'tt29895207'}, {'Tipo': 'Short', 'Nombre': \"Joynazine, or a Biochemist's Guide to Heaven\", 'Año de Estreno': 2024, 'Mes de Estreno': 4, 'ID de la Película': 'tt29916279'}, {'Tipo': 'Short', 'Nombre': 'Julius', 'Año de Estreno': 2024, 'Mes de Estreno': None, 'ID de la Película': 'tt29919047'}, {'Tipo': 'Short', 'Nombre': \"Un atto d'amore\", 'Año de Estreno': 2024, 'Mes de Estreno': None, 'ID de la Película': 'tt29920669'}, {'Tipo': 'Short', 'Nombre': 'New Old Friends', 'Año de Estreno': 'Desconocido', 'Mes de Estreno': 'Desconocido', 'ID de la Película': 'tt29900012'}, {'Tipo': 'Short', 'Nombre': 'Seeds', 'Año de Estreno': 2024, 'Mes de Estreno': 1, 'ID de la Película': 'tt29922176'}, {'Tipo': 'Short', 'Nombre': 'Mark and Joe', 'Año de Estreno': 'Desconocido', 'Mes de Estreno': 'Desconocido', 'ID de la Película': 'tt29922420'}, {'Tipo': 'Short', 'Nombre': 'Mi tierra de silencios', 'Año de Estreno': 2024, 'Mes de Estreno': 1, 'ID de la Película': 'tt29931071'}, {'Tipo': 'Short', 'Nombre': 'Celestial Burst Sky', 'Año de Estreno': 2024, 'Mes de Estreno': None, 'ID de la Película': 'tt29931072'}, {'Tipo': 'Short', 'Nombre': 'La grande chasse', 'Año de Estreno': 2024, 'Mes de Estreno': None, 'ID de la Película': 'tt29930897'}, {'Tipo': 'Short', 'Nombre': 'Come Home', 'Año de Estreno': 2024, 'Mes de Estreno': None, 'ID de la Película': 'tt29939435'}, {'Tipo': 'Short', 'Nombre': 'Limbo', 'Año de Estreno': 2024, 'Mes de Estreno': 1, 'ID de la Película': 'tt29941970'}, {'Tipo': 'Short', 'Nombre': 'Ilion', 'Año de Estreno': 2024, 'Mes de Estreno': None, 'ID de la Película': 'tt29942528'}, {'Tipo': 'Short', 'Nombre': 'Saint Rose', 'Año de Estreno': 'Desconocido', 'Mes de Estreno': 'Desconocido', 'ID de la Película': 'tt29950431'}, {'Tipo': 'Short', 'Nombre': 'Fortificada - Family Council', 'Año de Estreno': 2024, 'Mes de Estreno': None, 'ID de la Película': 'tt29951856'}, {'Tipo': 'Short', 'Nombre': 'A House Built on Sand', 'Año de Estreno': 2024, 'Mes de Estreno': None, 'ID de la Película': 'tt29953594'}, {'Tipo': 'Short', 'Nombre': 'Lotus', 'Año de Estreno': 'Desconocido', 'Mes de Estreno': 'Desconocido', 'ID de la Película': 'tt29958233'}, {'Tipo': 'Short', 'Nombre': 'Faites Demi-Tour Dès que Possible', 'Año de Estreno': 'Desconocido', 'Mes de Estreno': 'Desconocido', 'ID de la Película': 'tt29962033'}, {'Tipo': 'Short', 'Nombre': 'Gorgeous', 'Año de Estreno': 'Desconocido', 'Mes de Estreno': 'Desconocido', 'ID de la Película': 'tt29978017'}, {'Tipo': 'Short', 'Nombre': 'The old lie', 'Año de Estreno': 2024, 'Mes de Estreno': 6, 'ID de la Película': 'tt30004803'}, {'Tipo': 'Short', 'Nombre': 'Shadows of Perfection', 'Año de Estreno': 2024, 'Mes de Estreno': None, 'ID de la Película': 'tt30004963'}, {'Tipo': 'Short', 'Nombre': 'Kottakil Ganapathy', 'Año de Estreno': 2024, 'Mes de Estreno': None, 'ID de la Película': 'tt30003327'}, {'Tipo': 'Short', 'Nombre': 'Ochu(The Snail)', 'Año de Estreno': 2024, 'Mes de Estreno': 3, 'ID de la Película': 'tt30007859'}, {'Tipo': 'Short', 'Nombre': 'There May Be Something Here', 'Año de Estreno': 'Desconocido', 'Mes de Estreno': 'Desconocido', 'ID de la Película': 'tt30013155'}, {'Tipo': 'Short', 'Nombre': 'The Investment', 'Año de Estreno': 'Desconocido', 'Mes de Estreno': 'Desconocido', 'ID de la Película': 'tt30017929'}, {'Tipo': 'Short', 'Nombre': 'Kibitzer', 'Año de Estreno': 2024, 'Mes de Estreno': None, 'ID de la Película': 'tt30021037'}, {'Tipo': 'Short', 'Nombre': 'Azul Meteoro', 'Año de Estreno': 2024, 'Mes de Estreno': 1, 'ID de la Película': 'tt30023287'}, {'Tipo': 'Short', 'Nombre': 'A Supernova Boy', 'Año de Estreno': 2024, 'Mes de Estreno': None, 'ID de la Película': 'tt30027117'}, {'Tipo': 'Short', 'Nombre': 'Out of Play', 'Año de Estreno': 'Desconocido', 'Mes de Estreno': 'Desconocido', 'ID de la Película': 'tt30028427'}, {'Tipo': 'Short', 'Nombre': 'It Happened on a Thursday', 'Año de Estreno': 2024, 'Mes de Estreno': None, 'ID de la Película': 'tt30034192'}, {'Tipo': 'Short', 'Nombre': 'Portions for Foxes', 'Año de Estreno': 'Desconocido', 'Mes de Estreno': 'Desconocido', 'ID de la Película': 'tt30022958'}, {'Tipo': 'Short', 'Nombre': 'Color Theories', 'Año de Estreno': 2024, 'Mes de Estreno': 3, 'ID de la Película': 'tt30061022'}, {'Tipo': 'Short', 'Nombre': 'SoundBoy', 'Año de Estreno': 2024, 'Mes de Estreno': None, 'ID de la Película': 'tt30067917'}, {'Tipo': 'Short', 'Nombre': 'La gran obra', 'Año de Estreno': 2024, 'Mes de Estreno': 1, 'ID de la Película': 'tt30069369'}, {'Tipo': 'Short', 'Nombre': \"I Can't Stay\", 'Año de Estreno': 'Desconocido', 'Mes de Estreno': 'Desconocido', 'ID de la Película': 'tt30090578'}, {'Tipo': 'Short', 'Nombre': 'Pantry of Memories', 'Año de Estreno': 'Desconocido', 'Mes de Estreno': 'Desconocido', 'ID de la Película': 'tt30097571'}, {'Tipo': 'Short', 'Nombre': 'Poor Ray', 'Año de Estreno': 2024, 'Mes de Estreno': 2, 'ID de la Película': 'tt30097808'}, {'Tipo': 'Short', 'Nombre': 'Viaje de Negocios', 'Año de Estreno': 2024, 'Mes de Estreno': 1, 'ID de la Película': 'tt30098567'}, {'Tipo': 'Short', 'Nombre': 'Everything We Left Unsaid: Why We Try', 'Año de Estreno': 2024, 'Mes de Estreno': None, 'ID de la Película': 'tt30130428'}, {'Tipo': 'Short', 'Nombre': 'Everything We Left Unsaid: Why We Love', 'Año de Estreno': 2024, 'Mes de Estreno': None, 'ID de la Película': 'tt30130876'}, {'Tipo': 'Short', 'Nombre': 'Everything We Left Unsaid: Why We Lie', 'Año de Estreno': 2024, 'Mes de Estreno': None, 'ID de la Película': 'tt30130859'}, {'Tipo': 'Short', 'Nombre': 'La cassette', 'Año de Estreno': 2024, 'Mes de Estreno': 1, 'ID de la Película': 'tt30134394'}, {'Tipo': 'Short', 'Nombre': \"De l'autre côté des Rails\", 'Año de Estreno': 2024, 'Mes de Estreno': 2, 'ID de la Película': 'tt30136433'}, {'Tipo': 'Short', 'Nombre': \"I'll Be\", 'Año de Estreno': 'Desconocido', 'Mes de Estreno': 'Desconocido', 'ID de la Película': 'tt30137105'}, {'Tipo': 'Short', 'Nombre': 'Homecoming', 'Año de Estreno': 2024, 'Mes de Estreno': 5, 'ID de la Película': 'tt30137572'}, {'Tipo': 'Short', 'Nombre': 'Maxakali or the Dance of a Lifetime', 'Año de Estreno': 2024, 'Mes de Estreno': 1, 'ID de la Película': 'tt30138919'}, {'Tipo': 'Short', 'Nombre': 'The Departure', 'Año de Estreno': 2024, 'Mes de Estreno': 4, 'ID de la Película': 'tt30185046'}, {'Tipo': 'Short', 'Nombre': 'Brindisi', 'Año de Estreno': 'Desconocido', 'Mes de Estreno': 'Desconocido', 'ID de la Película': 'tt30177620'}, {'Tipo': 'Short', 'Nombre': '1:11', 'Año de Estreno': 2024, 'Mes de Estreno': 4, 'ID de la Película': 'tt30182828'}, {'Tipo': 'Short', 'Nombre': 'Resolute', 'Año de Estreno': 2024, 'Mes de Estreno': None, 'ID de la Película': 'tt30185836'}, {'Tipo': 'Short', 'Nombre': 'Nuclear', 'Año de Estreno': 2024, 'Mes de Estreno': 2, 'ID de la Película': 'tt30207260'}, {'Tipo': 'Short', 'Nombre': 'Un posto dove ci piove dentro', 'Año de Estreno': 2024, 'Mes de Estreno': 7, 'ID de la Película': 'tt30207307'}, {'Tipo': 'Short', 'Nombre': 'Daddy War Bucks', 'Año de Estreno': 2024, 'Mes de Estreno': None, 'ID de la Película': 'tt30207661'}, {'Tipo': 'Short', 'Nombre': 'Follows', 'Año de Estreno': 2024, 'Mes de Estreno': 4, 'ID de la Película': 'tt30217883'}, {'Tipo': 'Short', 'Nombre': 'Jocu', 'Año de Estreno': 'Desconocido', 'Mes de Estreno': 'Desconocido', 'ID de la Película': 'tt30219242'}, {'Tipo': 'Short', 'Nombre': 'Rockbottom', 'Año de Estreno': 'Desconocido', 'Mes de Estreno': 'Desconocido', 'ID de la Película': 'tt30221043'}, {'Tipo': 'Short', 'Nombre': 'Soft Animals', 'Año de Estreno': 'Desconocido', 'Mes de Estreno': 'Desconocido', 'ID de la Película': 'tt30222232'}, {'Tipo': 'Short', 'Nombre': 'Day 210', 'Año de Estreno': 2024, 'Mes de Estreno': 2, 'ID de la Película': 'tt30222684'}, {'Tipo': 'Short', 'Nombre': 'Screens', 'Año de Estreno': 2024, 'Mes de Estreno': 3, 'ID de la Película': 'tt30222864'}, {'Tipo': 'Short', 'Nombre': 'Blister', 'Año de Estreno': 'Desconocido', 'Mes de Estreno': 'Desconocido', 'ID de la Película': 'tt30223301'}, {'Tipo': 'Short', 'Nombre': 'Arricciare il naso', 'Año de Estreno': 'Desconocido', 'Mes de Estreno': 'Desconocido', 'ID de la Película': 'tt30224631'}, {'Tipo': 'Short', 'Nombre': 'Cycles', 'Año de Estreno': 2024, 'Mes de Estreno': 4, 'ID de la Película': 'tt30227677'}, {'Tipo': 'Short', 'Nombre': 'Displaced', 'Año de Estreno': 2024, 'Mes de Estreno': 1, 'ID de la Película': 'tt30228758'}, {'Tipo': 'Short', 'Nombre': 'Curveball', 'Año de Estreno': 2024, 'Mes de Estreno': 1, 'ID de la Película': 'tt30248882'}, {'Tipo': 'Short', 'Nombre': 'Vapour', 'Año de Estreno': 2024, 'Mes de Estreno': 1, 'ID de la Película': 'tt30252389'}, {'Tipo': 'Short', 'Nombre': 'Heel', 'Año de Estreno': 'Desconocido', 'Mes de Estreno': 'Desconocido', 'ID de la Película': 'tt30253149'}, {'Tipo': 'Short', 'Nombre': 'Donnerstag', 'Año de Estreno': 2024, 'Mes de Estreno': None, 'ID de la Película': 'tt30255012'}, {'Tipo': 'Short', 'Nombre': 'My Best Friend', 'Año de Estreno': 2024, 'Mes de Estreno': 6, 'ID de la Película': 'tt30258727'}, {'Tipo': 'Short', 'Nombre': 'Closure', 'Año de Estreno': None, 'Mes de Estreno': None, 'ID de la Película': 'tt30259985'}, {'Tipo': 'Short', 'Nombre': 'Life', 'Año de Estreno': 2024, 'Mes de Estreno': 10, 'ID de la Película': 'tt30268308'}, {'Tipo': 'Short', 'Nombre': 'Saigon Kiss', 'Año de Estreno': 2024, 'Mes de Estreno': 1, 'ID de la Película': 'tt30271375'}, {'Tipo': 'Short', 'Nombre': 'Kapamilya', 'Año de Estreno': 'Desconocido', 'Mes de Estreno': 'Desconocido', 'ID de la Película': 'tt30279282'}, {'Tipo': 'Short', 'Nombre': 'Perséide', 'Año de Estreno': 2024, 'Mes de Estreno': None, 'ID de la Película': 'tt30281245'}, {'Tipo': 'Short', 'Nombre': 'Records de la Meva Mare', 'Año de Estreno': 2024, 'Mes de Estreno': 1, 'ID de la Película': 'tt30281572'}, {'Tipo': 'Short', 'Nombre': 'Ghost Kitchen', 'Año de Estreno': 2024, 'Mes de Estreno': None, 'ID de la Película': 'tt30292217'}, {'Tipo': 'Short', 'Nombre': '5h30, rue de Paris', 'Año de Estreno': 2024, 'Mes de Estreno': None, 'ID de la Película': 'tt30308332'}, {'Tipo': 'Short', 'Nombre': \"Don't Fall from Grace\", 'Año de Estreno': 2024, 'Mes de Estreno': None, 'ID de la Película': 'tt30310625'}, {'Tipo': 'Short', 'Nombre': 'A Simple Frame', 'Año de Estreno': 'Desconocido', 'Mes de Estreno': 'Desconocido', 'ID de la Película': 'tt30314653'}, {'Tipo': 'Short', 'Nombre': 'Pacific Parable: Buried Treasure', 'Año de Estreno': 2024, 'Mes de Estreno': 1, 'ID de la Película': 'tt30316880'}, {'Tipo': 'Short', 'Nombre': 'The Niece', 'Año de Estreno': 2024, 'Mes de Estreno': 1, 'ID de la Película': 'tt30318942'}, {'Tipo': 'Short', 'Nombre': 'Thirteen', 'Año de Estreno': 2024, 'Mes de Estreno': 3, 'ID de la Película': 'tt30323327'}, {'Tipo': 'Short', 'Nombre': 'fishing', 'Año de Estreno': 'Desconocido', 'Mes de Estreno': 'Desconocido', 'ID de la Película': 'tt30323625'}, {'Tipo': 'Short', 'Nombre': 'Insomnia', 'Año de Estreno': 2024, 'Mes de Estreno': 1, 'ID de la Película': 'tt30324689'}, {'Tipo': 'Short', 'Nombre': 'No, Not Really', 'Año de Estreno': 2024, 'Mes de Estreno': 4, 'ID de la Película': 'tt30326124'}, {'Tipo': 'Short', 'Nombre': 'Tabhair Aire Do na hÉin', 'Año de Estreno': 'Desconocido', 'Mes de Estreno': 'Desconocido', 'ID de la Película': 'tt30330223'}, {'Tipo': 'Short', 'Nombre': 'Mor', 'Año de Estreno': 2024, 'Mes de Estreno': 1, 'ID de la Película': 'tt30330171'}, {'Tipo': 'Short', 'Nombre': 'Hussain', 'Año de Estreno': 2024, 'Mes de Estreno': None, 'ID de la Película': 'tt30331156'}, {'Tipo': 'Short', 'Nombre': 'Hand Me Downs', 'Año de Estreno': 2024, 'Mes de Estreno': 6, 'ID de la Película': 'tt30331894'}, {'Tipo': 'Short', 'Nombre': 'Carousal', 'Año de Estreno': 2024, 'Mes de Estreno': 1, 'ID de la Película': 'tt30332532'}, {'Tipo': 'Short', 'Nombre': 'Orange Vests and Cigarettes', 'Año de Estreno': 2024, 'Mes de Estreno': 2, 'ID de la Película': 'tt30332630'}, {'Tipo': 'Short', 'Nombre': 'Go Back Home', 'Año de Estreno': 2024, 'Mes de Estreno': 2, 'ID de la Película': 'tt30332851'}, {'Tipo': 'Short', 'Nombre': 'LOOK! The Invisible Man', 'Año de Estreno': 2024, 'Mes de Estreno': 3, 'ID de la Película': 'tt30333077'}, {'Tipo': 'Short', 'Nombre': 'One of a Kind', 'Año de Estreno': 2024, 'Mes de Estreno': 4, 'ID de la Película': 'tt30335341'}, {'Tipo': 'Short', 'Nombre': 'A Beautiful Voice', 'Año de Estreno': 2024, 'Mes de Estreno': None, 'ID de la Película': 'tt30344301'}, {'Tipo': 'Short', 'Nombre': 'Seis años tres meses y doce dias', 'Año de Estreno': 'Desconocido', 'Mes de Estreno': 'Desconocido', 'ID de la Película': 'tt30392888'}, {'Tipo': 'Short', 'Nombre': 'A Scarlet Secret', 'Año de Estreno': 2024, 'Mes de Estreno': 1, 'ID de la Película': 'tt30394398'}, {'Tipo': 'Short', 'Nombre': 'What Happened to Ben Davis?', 'Año de Estreno': 2024, 'Mes de Estreno': 2, 'ID de la Película': 'tt30400713'}, {'Tipo': 'Short', 'Nombre': 'Las sombras de las luciérnagas (The shadows of fireflies)', 'Año de Estreno': 2024, 'Mes de Estreno': 1, 'ID de la Película': 'tt30412992'}, {'Tipo': 'Short', 'Nombre': 'MASC4MASC', 'Año de Estreno': 2024, 'Mes de Estreno': 1, 'ID de la Película': 'tt30402017'}, {'Tipo': 'Short', 'Nombre': 'Behind the Pose', 'Año de Estreno': 'Desconocido', 'Mes de Estreno': 'Desconocido', 'ID de la Película': 'tt30412445'}, {'Tipo': 'Short', 'Nombre': 'In the Shadows', 'Año de Estreno': 'Desconocido', 'Mes de Estreno': 'Desconocido', 'ID de la Película': 'tt30413670'}, {'Tipo': 'Short', 'Nombre': 'Boi de conchas', 'Año de Estreno': 2024, 'Mes de Estreno': 1, 'ID de la Película': 'tt30420185'}, {'Tipo': 'Short', 'Nombre': 'Bust', 'Año de Estreno': 2024, 'Mes de Estreno': 1, 'ID de la Película': 'tt30420685'}, {'Tipo': 'Short', 'Nombre': 'The Looming Cloud', 'Año de Estreno': 2024, 'Mes de Estreno': 1, 'ID de la Película': 'tt30420719'}, {'Tipo': 'Short', 'Nombre': 'Dreams Like Paper Boats', 'Año de Estreno': 2024, 'Mes de Estreno': 1, 'ID de la Película': 'tt30420991'}, {'Tipo': 'Short', 'Nombre': 'Say Hi After You Die', 'Año de Estreno': 2024, 'Mes de Estreno': 1, 'ID de la Película': 'tt30420986'}, {'Tipo': 'Short', 'Nombre': 'Phoebe', 'Año de Estreno': 2024, 'Mes de Estreno': 1, 'ID de la Película': 'tt30420996'}, {'Tipo': 'Short', 'Nombre': 'Drago', 'Año de Estreno': 2024, 'Mes de Estreno': 1, 'ID de la Película': 'tt30421218'}, {'Tipo': 'Short', 'Nombre': 'The Patchwork Life', 'Año de Estreno': 'Desconocido', 'Mes de Estreno': 'Desconocido', 'ID de la Película': 'tt30422784'}, {'Tipo': 'Short', 'Nombre': 'Aria', 'Año de Estreno': 'Desconocido', 'Mes de Estreno': 'Desconocido', 'ID de la Película': 'tt30422943'}, {'Tipo': 'Short', 'Nombre': 'Birth', 'Año de Estreno': 'Desconocido', 'Mes de Estreno': 'Desconocido', 'ID de la Película': 'tt30425921'}, {'Tipo': 'Short', 'Nombre': 'Avalanche', 'Año de Estreno': 2024, 'Mes de Estreno': 1, 'ID de la Película': 'tt30428524'}, {'Tipo': 'Short', 'Nombre': 'Yana', 'Año de Estreno': 2024, 'Mes de Estreno': None, 'ID de la Película': 'tt30428613'}, {'Tipo': 'Short', 'Nombre': \"Mama, I'm a Big Girl Now\", 'Año de Estreno': 2024, 'Mes de Estreno': None, 'ID de la Película': 'tt30429575'}, {'Tipo': 'Short', 'Nombre': 'Control Delete', 'Año de Estreno': 2024, 'Mes de Estreno': 2, 'ID de la Película': 'tt30431360'}, {'Tipo': 'Short', 'Nombre': 'Nya', 'Año de Estreno': 'Desconocido', 'Mes de Estreno': 'Desconocido', 'ID de la Película': 'tt30440556'}, {'Tipo': 'Short', 'Nombre': 'Eveline', 'Año de Estreno': 2024, 'Mes de Estreno': 1, 'ID de la Película': 'tt30442569'}, {'Tipo': 'Short', 'Nombre': 'A Better Place', 'Año de Estreno': 2024, 'Mes de Estreno': 1, 'ID de la Película': 'tt30444774'}, {'Tipo': 'Short', 'Nombre': 'The Composer', 'Año de Estreno': 2024, 'Mes de Estreno': None, 'ID de la Película': 'tt30446762'}, {'Tipo': 'Short', 'Nombre': 'Dnyaneshwari', 'Año de Estreno': 2024, 'Mes de Estreno': 1, 'ID de la Película': 'tt30448084'}, {'Tipo': 'Short', 'Nombre': 'Gestern, ich denke an morgen', 'Año de Estreno': 2024, 'Mes de Estreno': 1, 'ID de la Película': 'tt30457262'}, {'Tipo': 'Short', 'Nombre': 'Friend of the Drifting Light', 'Año de Estreno': 'Desconocido', 'Mes de Estreno': 'Desconocido', 'ID de la Película': 'tt30459357'}, {'Tipo': 'Short', 'Nombre': 'Babe to Blocked', 'Año de Estreno': 'Desconocido', 'Mes de Estreno': 'Desconocido', 'ID de la Película': 'tt30459519'}, {'Tipo': 'Short', 'Nombre': 'When the Swelling Goes Down', 'Año de Estreno': 2024, 'Mes de Estreno': 1, 'ID de la Película': 'tt30460096'}, {'Tipo': 'Short', 'Nombre': 'Saleh', 'Año de Estreno': 2024, 'Mes de Estreno': 2, 'ID de la Película': 'tt30460915'}, {'Tipo': 'Short', 'Nombre': 'Obolus', 'Año de Estreno': 2024, 'Mes de Estreno': 1, 'ID de la Película': 'tt30461273'}, {'Tipo': 'Short', 'Nombre': 'Twenty-Nine Again', 'Año de Estreno': 2024, 'Mes de Estreno': None, 'ID de la Película': 'tt30468556'}, {'Tipo': 'Short', 'Nombre': 'Al alba', 'Año de Estreno': 2024, 'Mes de Estreno': 2, 'ID de la Película': 'tt30469697'}, {'Tipo': 'Short', 'Nombre': 'Ade (On A Sunday)', 'Año de Estreno': 2024, 'Mes de Estreno': 1, 'ID de la Película': 'tt30472570'}, {'Tipo': 'Short', 'Nombre': \"L' ultimo sogno\", 'Año de Estreno': 2024, 'Mes de Estreno': 2, 'ID de la Película': 'tt30474391'}, {'Tipo': 'Short', 'Nombre': 'Gooseberries', 'Año de Estreno': 2024, 'Mes de Estreno': None, 'ID de la Película': 'tt30477568'}, {'Tipo': 'Short', 'Nombre': \"Freedom Isn't Free\", 'Año de Estreno': 2024, 'Mes de Estreno': 1, 'ID de la Película': 'tt30485424'}, {'Tipo': 'Short', 'Nombre': 'The Last Sonata', 'Año de Estreno': 2024, 'Mes de Estreno': 1, 'ID de la Película': 'tt30486359'}, {'Tipo': 'Short', 'Nombre': 'A Afteroon with Bunt', 'Año de Estreno': 'Desconocido', 'Mes de Estreno': 'Desconocido', 'ID de la Película': 'tt30487276'}, {'Tipo': 'Short', 'Nombre': 'Flick', 'Año de Estreno': 2024, 'Mes de Estreno': None, 'ID de la Película': 'tt30487398'}, {'Tipo': 'Short', 'Nombre': 'Sid the Kid', 'Año de Estreno': 'Desconocido', 'Mes de Estreno': 'Desconocido', 'ID de la Película': 'tt30488042'}, {'Tipo': 'Short', 'Nombre': 'Biking', 'Año de Estreno': 'Desconocido', 'Mes de Estreno': 'Desconocido', 'ID de la Película': 'tt30488087'}, {'Tipo': 'Short', 'Nombre': \"Caravaggio's Last Day\", 'Año de Estreno': 2024, 'Mes de Estreno': 12, 'ID de la Película': 'tt30488227'}, {'Tipo': 'Short', 'Nombre': 'Mire', 'Año de Estreno': 2024, 'Mes de Estreno': 4, 'ID de la Película': 'tt30488713'}, {'Tipo': 'Short', 'Nombre': 'Creation', 'Año de Estreno': 2024, 'Mes de Estreno': None, 'ID de la Película': 'tt30489988'}, {'Tipo': 'Short', 'Nombre': 'Pilgrims Torch', 'Año de Estreno': 2024, 'Mes de Estreno': None, 'ID de la Película': 'tt30493505'}, {'Tipo': 'Short', 'Nombre': 'Crackers Funhouse', 'Año de Estreno': 2024, 'Mes de Estreno': None, 'ID de la Película': 'tt30494313'}, {'Tipo': 'Short', 'Nombre': 'How to Say Goodbye', 'Año de Estreno': 2024, 'Mes de Estreno': 2, 'ID de la Película': 'tt30496069'}, {'Tipo': 'Short', 'Nombre': 'Alive Again', 'Año de Estreno': 2024, 'Mes de Estreno': 3, 'ID de la Película': 'tt30496112'}, {'Tipo': 'Short', 'Nombre': 'Agent Beyond Budget', 'Año de Estreno': 2024, 'Mes de Estreno': None, 'ID de la Película': 'tt30493146'}, {'Tipo': 'Short', 'Nombre': 'HEM', 'Año de Estreno': 'Desconocido', 'Mes de Estreno': 'Desconocido', 'ID de la Película': 'tt30492630'}, {'Tipo': 'Short', 'Nombre': 'Mother', 'Año de Estreno': 2024, 'Mes de Estreno': None, 'ID de la Película': 'tt30496549'}, {'Tipo': 'Short', 'Nombre': 'Fading Shadows', 'Año de Estreno': 2024, 'Mes de Estreno': 2, 'ID de la Película': 'tt30497232'}, {'Tipo': 'Short', 'Nombre': 'The Last Harvest', 'Año de Estreno': 2024, 'Mes de Estreno': 1, 'ID de la Película': 'tt30498476'}, {'Tipo': 'Short', 'Nombre': 'Echoes', 'Año de Estreno': 2024, 'Mes de Estreno': 1, 'ID de la Película': 'tt30505894'}, {'Tipo': 'Short', 'Nombre': 'Sola', 'Año de Estreno': 2024, 'Mes de Estreno': None, 'ID de la Película': 'tt30506121'}, {'Tipo': 'Short', 'Nombre': 'You have an issue', 'Año de Estreno': 2024, 'Mes de Estreno': 1, 'ID de la Película': 'tt30506177'}, {'Tipo': 'Short', 'Nombre': 'Apartamentos Paradiso', 'Año de Estreno': 2024, 'Mes de Estreno': 3, 'ID de la Película': 'tt30515646'}, {'Tipo': 'Short', 'Nombre': 'De Boom', 'Año de Estreno': 2024, 'Mes de Estreno': 10, 'ID de la Película': 'tt30515713'}, {'Tipo': 'Short', 'Nombre': 'It Was Love to Me', 'Año de Estreno': 2024, 'Mes de Estreno': 5, 'ID de la Película': 'tt30515728'}, {'Tipo': 'Short', 'Nombre': 'Kiss Me Sharkly', 'Año de Estreno': 'Desconocido', 'Mes de Estreno': 'Desconocido', 'ID de la Película': 'tt30515780'}, {'Tipo': 'Short', 'Nombre': \"À Tona d'Água\", 'Año de Estreno': 2024, 'Mes de Estreno': 1, 'ID de la Película': 'tt30516117'}, {'Tipo': 'Short', 'Nombre': 'Midnight Runway', 'Año de Estreno': 'Desconocido', 'Mes de Estreno': 'Desconocido', 'ID de la Película': 'tt30517731'}, {'Tipo': 'Short', 'Nombre': 'The Key', 'Año de Estreno': 'Desconocido', 'Mes de Estreno': 'Desconocido', 'ID de la Película': 'tt30517999'}, {'Tipo': 'Short', 'Nombre': 'Inés, la Reina Cadáver', 'Año de Estreno': 'Desconocido', 'Mes de Estreno': 'Desconocido', 'ID de la Película': 'tt30518102'}, {'Tipo': 'Short', 'Nombre': 'Porzellan', 'Año de Estreno': 2024, 'Mes de Estreno': 2, 'ID de la Película': 'tt30521391'}, {'Tipo': 'Short', 'Nombre': 'Sukoun', 'Año de Estreno': 2024, 'Mes de Estreno': 2, 'ID de la Película': 'tt30521429'}, {'Tipo': 'Short', 'Nombre': 'Antes De Que Se Riegue La Leche', 'Año de Estreno': 2024, 'Mes de Estreno': 5, 'ID de la Película': 'tt30523243'}, {'Tipo': 'Short', 'Nombre': 'Beer Baat', 'Año de Estreno': 'Desconocido', 'Mes de Estreno': 'Desconocido', 'ID de la Película': 'tt30526201'}, {'Tipo': 'Short', 'Nombre': 'Back to Life', 'Año de Estreno': 2024, 'Mes de Estreno': 1, 'ID de la Película': 'tt30561098'}, {'Tipo': 'Short', 'Nombre': 'The Last Harvest', 'Año de Estreno': 2024, 'Mes de Estreno': 1, 'ID de la Película': 'tt30575228'}, {'Tipo': 'Short', 'Nombre': 'Virundhu/The Feast', 'Año de Estreno': 2024, 'Mes de Estreno': 2, 'ID de la Película': 'tt30576717'}, {'Tipo': 'Short', 'Nombre': 'Son', 'Año de Estreno': 2024, 'Mes de Estreno': 6, 'ID de la Película': 'tt30577280'}, {'Tipo': 'Short', 'Nombre': 'Deshkari', 'Año de Estreno': 2024, 'Mes de Estreno': 1, 'ID de la Película': 'tt30577305'}, {'Tipo': 'Short', 'Nombre': 'Bunker Healers Refuge', 'Año de Estreno': 2024, 'Mes de Estreno': 1, 'ID de la Película': 'tt30581096'}, {'Tipo': 'Short', 'Nombre': 'Keep Looking', 'Año de Estreno': 2024, 'Mes de Estreno': 1, 'ID de la Película': 'tt30582042'}, {'Tipo': 'Short', 'Nombre': 'Dear Forgiveness', 'Año de Estreno': 2024, 'Mes de Estreno': 1, 'ID de la Película': 'tt30589180'}, {'Tipo': 'Short', 'Nombre': 'The Dust', 'Año de Estreno': 2024, 'Mes de Estreno': 1, 'ID de la Película': 'tt30589184'}, {'Tipo': 'Short', 'Nombre': 'A Little Hope', 'Año de Estreno': 2024, 'Mes de Estreno': 3, 'ID de la Película': 'tt30609401'}, {'Tipo': 'Short', 'Nombre': 'Remember the taste', 'Año de Estreno': 2024, 'Mes de Estreno': 4, 'ID de la Película': 'tt30624694'}, {'Tipo': 'Short', 'Nombre': 'Pine Forest', 'Año de Estreno': 2024, 'Mes de Estreno': 1, 'ID de la Película': 'tt30625289'}, {'Tipo': 'Short', 'Nombre': 'La Asistente', 'Año de Estreno': 2024, 'Mes de Estreno': 2, 'ID de la Película': 'tt30625671'}, {'Tipo': 'Short', 'Nombre': 'The Purpose', 'Año de Estreno': 'Desconocido', 'Mes de Estreno': 'Desconocido', 'ID de la Película': 'tt30627567'}, {'Tipo': 'Short', 'Nombre': \"Twilight's Lone Sands\", 'Año de Estreno': 2024, 'Mes de Estreno': None, 'ID de la Película': 'tt30629578'}, {'Tipo': 'Short', 'Nombre': 'Beautiful Things', 'Año de Estreno': 2024, 'Mes de Estreno': 2, 'ID de la Película': 'tt30632194'}, {'Tipo': 'Short', 'Nombre': 'Morning After', 'Año de Estreno': 2024, 'Mes de Estreno': 4, 'ID de la Película': 'tt30644366'}, {'Tipo': 'Short', 'Nombre': 'Dimmelo', 'Año de Estreno': 2024, 'Mes de Estreno': 1, 'ID de la Película': 'tt30645072'}, {'Tipo': 'Short', 'Nombre': 'Halfrican American', 'Año de Estreno': 2024, 'Mes de Estreno': 3, 'ID de la Película': 'tt30645192'}, {'Tipo': 'Short', 'Nombre': 'Better than Earth', 'Año de Estreno': 'Desconocido', 'Mes de Estreno': 'Desconocido', 'ID de la Película': 'tt30647608'}, {'Tipo': 'Short', 'Nombre': 'Dominus Videt', 'Año de Estreno': 2024, 'Mes de Estreno': 3, 'ID de la Película': 'tt30651228'}, {'Tipo': 'Short', 'Nombre': 'Las Plantas No Duermen', 'Año de Estreno': 'Desconocido', 'Mes de Estreno': 'Desconocido', 'ID de la Película': 'tt30689586'}, {'Tipo': 'Short', 'Nombre': \"Don't Pause the Game\", 'Año de Estreno': 2024, 'Mes de Estreno': None, 'ID de la Película': 'tt30689597'}, {'Tipo': 'Short', 'Nombre': 'Huli', 'Año de Estreno': 2024, 'Mes de Estreno': None, 'ID de la Película': 'tt30691373'}, {'Tipo': 'Short', 'Nombre': 'Orange Sun', 'Año de Estreno': 2024, 'Mes de Estreno': 2, 'ID de la Película': 'tt30691610'}, {'Tipo': 'Short', 'Nombre': 'Swine', 'Año de Estreno': 2024, 'Mes de Estreno': 1, 'ID de la Película': 'tt30694268'}, {'Tipo': 'Short', 'Nombre': 'Christmas Melody', 'Año de Estreno': 'Desconocido', 'Mes de Estreno': 'Desconocido', 'ID de la Película': 'tt30694437'}, {'Tipo': 'Short', 'Nombre': 'La última noche de Marilyn', 'Año de Estreno': 2024, 'Mes de Estreno': 1, 'ID de la Película': 'tt30698988'}, {'Tipo': 'Short', 'Nombre': 'Specks of red', 'Año de Estreno': 2024, 'Mes de Estreno': 1, 'ID de la Película': 'tt30700309'}, {'Tipo': 'Short', 'Nombre': 'Completely Well Adjusted', 'Año de Estreno': 2024, 'Mes de Estreno': 1, 'ID de la Película': 'tt30700747'}, {'Tipo': 'Short', 'Nombre': 'Such a Normal Day', 'Año de Estreno': 2024, 'Mes de Estreno': 1, 'ID de la Película': 'tt30700876'}, {'Tipo': 'Short', 'Nombre': 'Ver la luna', 'Año de Estreno': 2024, 'Mes de Estreno': None, 'ID de la Película': 'tt30701186'}, {'Tipo': 'Short', 'Nombre': 'Roasted Bliss', 'Año de Estreno': 2024, 'Mes de Estreno': 2, 'ID de la Película': 'tt30701602'}, {'Tipo': 'Short', 'Nombre': 'So Long, Farewell', 'Año de Estreno': 'Desconocido', 'Mes de Estreno': 'Desconocido', 'ID de la Película': 'tt30701951'}, {'Tipo': 'Short', 'Nombre': 'Mademoiselle Lemaître', 'Año de Estreno': 'Desconocido', 'Mes de Estreno': 'Desconocido', 'ID de la Película': 'tt30710051'}, {'Tipo': 'Short', 'Nombre': 'RECALL', 'Año de Estreno': 2024, 'Mes de Estreno': 1, 'ID de la Película': 'tt30737015'}, {'Tipo': 'Short', 'Nombre': 'Pray for Me', 'Año de Estreno': 2024, 'Mes de Estreno': 1, 'ID de la Película': 'tt30745035'}, {'Tipo': 'Short', 'Nombre': 'Living Faith', 'Año de Estreno': 2024, 'Mes de Estreno': 1, 'ID de la Película': 'tt30745973'}, {'Tipo': 'Short', 'Nombre': 'Dhara Ka Tame', 'Año de Estreno': 2024, 'Mes de Estreno': 1, 'ID de la Película': 'tt30750134'}, {'Tipo': 'Short', 'Nombre': 'The Carer', 'Año de Estreno': 2024, 'Mes de Estreno': 1, 'ID de la Película': 'tt30750727'}, {'Tipo': 'Short', 'Nombre': 'La Salvezza', 'Año de Estreno': 2024, 'Mes de Estreno': 1, 'ID de la Película': 'tt30751188'}, {'Tipo': 'Short', 'Nombre': 'Zakon', 'Año de Estreno': 'Desconocido', 'Mes de Estreno': 'Desconocido', 'ID de la Película': 'tt30758889'}, {'Tipo': 'Short', 'Nombre': 'Tilgi meg', 'Año de Estreno': 2024, 'Mes de Estreno': 5, 'ID de la Película': 'tt30760282'}, {'Tipo': 'Short', 'Nombre': 'Marvin Is Sorry', 'Año de Estreno': 2024, 'Mes de Estreno': 3, 'ID de la Película': 'tt30760832'}, {'Tipo': 'Short', 'Nombre': 'Gerione', 'Año de Estreno': 2024, 'Mes de Estreno': 1, 'ID de la Película': 'tt30761899'}, {'Tipo': 'Short', 'Nombre': 'Baby', 'Año de Estreno': 2024, 'Mes de Estreno': 1, 'ID de la Película': 'tt30762176'}, {'Tipo': 'Short', 'Nombre': 'Ride Share Setup', 'Año de Estreno': 'Desconocido', 'Mes de Estreno': 'Desconocido', 'ID de la Película': 'tt30765352'}, {'Tipo': 'Short', 'Nombre': 'Roomies', 'Año de Estreno': 2024, 'Mes de Estreno': 1, 'ID de la Película': 'tt30766506'}, {'Tipo': 'Short', 'Nombre': 'Fatefully Undone', 'Año de Estreno': 2024, 'Mes de Estreno': None, 'ID de la Película': 'tt30766981'}, {'Tipo': 'Short', 'Nombre': 'This Is A Love Story', 'Año de Estreno': 'Desconocido', 'Mes de Estreno': 'Desconocido', 'ID de la Película': 'tt30767767'}, {'Tipo': 'Short', 'Nombre': 'The Interview Project', 'Año de Estreno': 'Desconocido', 'Mes de Estreno': 'Desconocido', 'ID de la Película': 'tt30768469'}, {'Tipo': 'Short', 'Nombre': 'La Intérprete', 'Año de Estreno': 2024, 'Mes de Estreno': None, 'ID de la Película': 'tt30768944'}, {'Tipo': 'Short', 'Nombre': 'I Wanna Be Happy', 'Año de Estreno': 'Desconocido', 'Mes de Estreno': 'Desconocido', 'ID de la Película': 'tt30769055'}, {'Tipo': 'Short', 'Nombre': 'Sacrifice', 'Año de Estreno': 2024, 'Mes de Estreno': 1, 'ID de la Película': 'tt30777143'}, {'Tipo': 'Short', 'Nombre': 'Monitored', 'Año de Estreno': 2024, 'Mes de Estreno': 1, 'ID de la Película': 'tt30777985'}, {'Tipo': 'Short', 'Nombre': 'Unfortunately,', 'Año de Estreno': 'Desconocido', 'Mes de Estreno': 'Desconocido', 'ID de la Película': 'tt30780588'}, {'Tipo': 'Short', 'Nombre': 'Blowback', 'Año de Estreno': 2024, 'Mes de Estreno': None, 'ID de la Película': 'tt30781284'}, {'Tipo': 'Short', 'Nombre': 'The Good Life', 'Año de Estreno': 'Desconocido', 'Mes de Estreno': 'Desconocido', 'ID de la Película': 'tt30781337'}, {'Tipo': 'Short', 'Nombre': 'Lui', 'Año de Estreno': 2024, 'Mes de Estreno': None, 'ID de la Película': 'tt30781593'}, {'Tipo': 'Short', 'Nombre': 'The Hall Pass', 'Año de Estreno': 2024, 'Mes de Estreno': None, 'ID de la Película': 'tt30781620'}, {'Tipo': 'Short', 'Nombre': 'Did You Mean It?', 'Año de Estreno': 2024, 'Mes de Estreno': None, 'ID de la Película': 'tt30782403'}, {'Tipo': 'Short', 'Nombre': 'The Way Our Waters Move', 'Año de Estreno': 2024, 'Mes de Estreno': 5, 'ID de la Película': 'tt30782663'}, {'Tipo': 'Short', 'Nombre': 'Recovered', 'Año de Estreno': 2024, 'Mes de Estreno': 2, 'ID de la Película': 'tt30782796'}, {'Tipo': 'Short', 'Nombre': 'A Black Rose Sunshine', 'Año de Estreno': 2024, 'Mes de Estreno': None, 'ID de la Película': 'tt30783161'}, {'Tipo': 'Short', 'Nombre': \"Hubble's Law\", 'Año de Estreno': 2024, 'Mes de Estreno': 1, 'ID de la Película': 'tt30783549'}, {'Tipo': 'Short', 'Nombre': 'Fin Août', 'Año de Estreno': 2024, 'Mes de Estreno': 5, 'ID de la Película': 'tt30784066'}, {'Tipo': 'Short', 'Nombre': 'I Papaveri sono Alti Alti Alti', 'Año de Estreno': 2024, 'Mes de Estreno': 1, 'ID de la Película': 'tt30784222'}, {'Tipo': 'Short', 'Nombre': 'Isolate', 'Año de Estreno': 'Desconocido', 'Mes de Estreno': 'Desconocido', 'ID de la Película': 'tt30787792'}, {'Tipo': 'Short', 'Nombre': 'Different Ways', 'Año de Estreno': 2024, 'Mes de Estreno': 1, 'ID de la Película': 'tt30787935'}, {'Tipo': 'Short', 'Nombre': 'The Boxer', 'Año de Estreno': 2024, 'Mes de Estreno': 1, 'ID de la Película': 'tt30788336'}, {'Tipo': 'Short', 'Nombre': 'Ask the Plantain', 'Año de Estreno': 2024, 'Mes de Estreno': 1, 'ID de la Película': 'tt30788958'}, {'Tipo': 'Short', 'Nombre': 'The Groom', 'Año de Estreno': 2024, 'Mes de Estreno': 1, 'ID de la Película': 'tt30789047'}, {'Tipo': 'Short', 'Nombre': 'Shattered', 'Año de Estreno': 2024, 'Mes de Estreno': 1, 'ID de la Película': 'tt30790372'}, {'Tipo': 'Short', 'Nombre': 'Pick Me!', 'Año de Estreno': 2024, 'Mes de Estreno': None, 'ID de la Película': 'tt30790436'}, {'Tipo': 'Short', 'Nombre': 'Desaparecida: missing', 'Año de Estreno': 2024, 'Mes de Estreno': 1, 'ID de la Película': 'tt30790456'}, {'Tipo': 'Short', 'Nombre': 'Dopo Zerocalcare', 'Año de Estreno': 2024, 'Mes de Estreno': 1, 'ID de la Película': 'tt30790687'}, {'Tipo': 'Short', 'Nombre': 'See it Say It', 'Año de Estreno': 2024, 'Mes de Estreno': 3, 'ID de la Película': 'tt30791883'}, {'Tipo': 'Short', 'Nombre': 'The Empty Seat', 'Año de Estreno': 2024, 'Mes de Estreno': 1, 'ID de la Película': 'tt30791944'}, {'Tipo': 'Short', 'Nombre': 'La Nuit', 'Año de Estreno': 2024, 'Mes de Estreno': 1, 'ID de la Película': 'tt30796054'}, {'Tipo': 'Short', 'Nombre': 'Bittersweet', 'Año de Estreno': 2024, 'Mes de Estreno': None, 'ID de la Película': 'tt30796134'}, {'Tipo': 'Short', 'Nombre': 'Splashing the Pot', 'Año de Estreno': 2024, 'Mes de Estreno': 1, 'ID de la Película': 'tt30797068'}, {'Tipo': 'Short', 'Nombre': 'One More Chance', 'Año de Estreno': 2024, 'Mes de Estreno': None, 'ID de la Película': 'tt30797701'}, {'Tipo': 'Short', 'Nombre': 'When Offered Wind', 'Año de Estreno': 2024, 'Mes de Estreno': 1, 'ID de la Película': 'tt30798071'}, {'Tipo': 'Short', 'Nombre': 'Finish Line', 'Año de Estreno': 'Desconocido', 'Mes de Estreno': 'Desconocido', 'ID de la Película': 'tt30798116'}, {'Tipo': 'Short', 'Nombre': 'Rent', 'Año de Estreno': 2024, 'Mes de Estreno': 1, 'ID de la Película': 'tt30801537'}, {'Tipo': 'Short', 'Nombre': 'Momo', 'Año de Estreno': 2024, 'Mes de Estreno': 1, 'ID de la Película': 'tt30801523'}, {'Tipo': 'Short', 'Nombre': \"You're Too Late\", 'Año de Estreno': 2024, 'Mes de Estreno': 1, 'ID de la Película': 'tt30802405'}, {'Tipo': 'Short', 'Nombre': 'Morality of Murder Scene - Barry Adaptation', 'Año de Estreno': 2024, 'Mes de Estreno': 1, 'ID de la Película': 'tt30802397'}, {'Tipo': 'Short', 'Nombre': 'Festgefahren', 'Año de Estreno': 2024, 'Mes de Estreno': None, 'ID de la Película': 'tt30802618'}, {'Tipo': 'Short', 'Nombre': 'Paul', 'Año de Estreno': 2024, 'Mes de Estreno': 1, 'ID de la Película': 'tt30804083'}, {'Tipo': 'Short', 'Nombre': 'Shosur Barir Attior Pera', 'Año de Estreno': 2024, 'Mes de Estreno': 1, 'ID de la Película': 'tt30804228'}, {'Tipo': 'Short', 'Nombre': \"Heart's Desire\", 'Año de Estreno': 2024, 'Mes de Estreno': 1, 'ID de la Película': 'tt30804338'}, {'Tipo': 'Short', 'Nombre': 'Delivery Day', 'Año de Estreno': 'Desconocido', 'Mes de Estreno': 'Desconocido', 'ID de la Película': 'tt30804341'}, {'Tipo': 'Short', 'Nombre': 'Osoro', 'Año de Estreno': 'Desconocido', 'Mes de Estreno': 'Desconocido', 'ID de la Película': 'tt30804367'}, {'Tipo': 'Short', 'Nombre': 'Signal', 'Año de Estreno': 2024, 'Mes de Estreno': 1, 'ID de la Película': 'tt30804622'}, {'Tipo': 'Short', 'Nombre': 'Reminder', 'Año de Estreno': 2024, 'Mes de Estreno': 1, 'ID de la Película': 'tt30808208'}, {'Tipo': 'Short', 'Nombre': 'Ash', 'Año de Estreno': 2024, 'Mes de Estreno': 1, 'ID de la Película': 'tt30808801'}, {'Tipo': 'Short', 'Nombre': 'Inside', 'Año de Estreno': 2024, 'Mes de Estreno': 1, 'ID de la Película': 'tt30809783'}, {'Tipo': 'Short', 'Nombre': 'From One Speck to Another', 'Año de Estreno': 2024, 'Mes de Estreno': 1, 'ID de la Película': 'tt30810341'}, {'Tipo': 'Short', 'Nombre': 'Skyline', 'Año de Estreno': 2024, 'Mes de Estreno': None, 'ID de la Película': 'tt30810606'}, {'Tipo': 'Short', 'Nombre': 'The Get Back', 'Año de Estreno': 2024, 'Mes de Estreno': 3, 'ID de la Película': 'tt30811425'}, {'Tipo': 'Short', 'Nombre': 'Daisy', 'Año de Estreno': 2024, 'Mes de Estreno': None, 'ID de la Película': 'tt30812552'}, {'Tipo': 'Short', 'Nombre': 'Tem Gente Que Fica', 'Año de Estreno': 'Desconocido', 'Mes de Estreno': 'Desconocido', 'ID de la Película': 'tt30816054'}, {'Tipo': 'Short', 'Nombre': 'Krishna and Ali', 'Año de Estreno': 2024, 'Mes de Estreno': 5, 'ID de la Película': 'tt30816950'}, {'Tipo': 'Short', 'Nombre': 'Pizza Guy', 'Año de Estreno': 2024, 'Mes de Estreno': 1, 'ID de la Película': 'tt30817074'}, {'Tipo': 'Short', 'Nombre': 'The Bleed', 'Año de Estreno': 2024, 'Mes de Estreno': 2, 'ID de la Película': 'tt30817123'}, {'Tipo': 'Short', 'Nombre': 'Memories', 'Año de Estreno': 2024, 'Mes de Estreno': 1, 'ID de la Película': 'tt30817319'}, {'Tipo': 'Short', 'Nombre': 'Forevertown', 'Año de Estreno': 2024, 'Mes de Estreno': 2, 'ID de la Película': 'tt30817564'}, {'Tipo': 'Short', 'Nombre': 'M. aibo', 'Año de Estreno': 2024, 'Mes de Estreno': 1, 'ID de la Película': 'tt30817911'}, {'Tipo': 'Short', 'Nombre': 'You Underestimate Me', 'Año de Estreno': 2024, 'Mes de Estreno': 1, 'ID de la Película': 'tt30817992'}, {'Tipo': 'Short', 'Nombre': 'Steve the Queen', 'Año de Estreno': 2024, 'Mes de Estreno': 1, 'ID de la Película': 'tt30818291'}, {'Tipo': 'Short', 'Nombre': 'Morality of Murder Scene - Barry Adaptation', 'Año de Estreno': 2024, 'Mes de Estreno': 1, 'ID de la Película': 'tt30818607'}, {'Tipo': 'Short', 'Nombre': 'All the Words But the One', 'Año de Estreno': 'Desconocido', 'Mes de Estreno': 'Desconocido', 'ID de la Película': 'tt30818627'}, {'Tipo': 'Short', 'Nombre': 'HR Lady', 'Año de Estreno': 2024, 'Mes de Estreno': 3, 'ID de la Película': 'tt30818686'}, {'Tipo': 'Short', 'Nombre': 'Re-Entry', 'Año de Estreno': 'Desconocido', 'Mes de Estreno': 'Desconocido', 'ID de la Película': 'tt30818768'}]\n"
     ]
    }
   ],
   "source": [
    "df_pelis = organizar_data(resultados_paginados)"
   ]
  },
  {
   "cell_type": "code",
   "execution_count": 610,
   "metadata": {},
   "outputs": [
    {
     "data": {
      "text/html": [
       "<div>\n",
       "<style scoped>\n",
       "    .dataframe tbody tr th:only-of-type {\n",
       "        vertical-align: middle;\n",
       "    }\n",
       "\n",
       "    .dataframe tbody tr th {\n",
       "        vertical-align: top;\n",
       "    }\n",
       "\n",
       "    .dataframe thead th {\n",
       "        text-align: right;\n",
       "    }\n",
       "</style>\n",
       "<table border=\"1\" class=\"dataframe\">\n",
       "  <thead>\n",
       "    <tr style=\"text-align: right;\">\n",
       "      <th></th>\n",
       "      <th>Tipo</th>\n",
       "      <th>Nombre</th>\n",
       "      <th>Año de Estreno</th>\n",
       "      <th>Mes de Estreno</th>\n",
       "      <th>ID de la Película</th>\n",
       "    </tr>\n",
       "  </thead>\n",
       "  <tbody>\n",
       "    <tr>\n",
       "      <th>0</th>\n",
       "      <td>Short</td>\n",
       "      <td>Before the Fish Fell</td>\n",
       "      <td>2024</td>\n",
       "      <td>3</td>\n",
       "      <td>tt14063056</td>\n",
       "    </tr>\n",
       "    <tr>\n",
       "      <th>1</th>\n",
       "      <td>Short</td>\n",
       "      <td>Eddie Thurber-V-My Darkness Ended on that Hall...</td>\n",
       "      <td>2024</td>\n",
       "      <td>10</td>\n",
       "      <td>tt14072204</td>\n",
       "    </tr>\n",
       "    <tr>\n",
       "      <th>2</th>\n",
       "      <td>Short</td>\n",
       "      <td>Det Kan Ingen Ta Ifrån Mig</td>\n",
       "      <td>2024</td>\n",
       "      <td>12</td>\n",
       "      <td>tt15103886</td>\n",
       "    </tr>\n",
       "    <tr>\n",
       "      <th>3</th>\n",
       "      <td>Short</td>\n",
       "      <td>The Library</td>\n",
       "      <td>2024</td>\n",
       "      <td>1</td>\n",
       "      <td>tt17062072</td>\n",
       "    </tr>\n",
       "    <tr>\n",
       "      <th>4</th>\n",
       "      <td>Short</td>\n",
       "      <td>Somnus</td>\n",
       "      <td>2024</td>\n",
       "      <td>3</td>\n",
       "      <td>tt18335394</td>\n",
       "    </tr>\n",
       "    <tr>\n",
       "      <th>...</th>\n",
       "      <td>...</td>\n",
       "      <td>...</td>\n",
       "      <td>...</td>\n",
       "      <td>...</td>\n",
       "      <td>...</td>\n",
       "    </tr>\n",
       "    <tr>\n",
       "      <th>495</th>\n",
       "      <td>Short</td>\n",
       "      <td>Steve the Queen</td>\n",
       "      <td>2024</td>\n",
       "      <td>1</td>\n",
       "      <td>tt30818291</td>\n",
       "    </tr>\n",
       "    <tr>\n",
       "      <th>496</th>\n",
       "      <td>Short</td>\n",
       "      <td>Morality of Murder Scene - Barry Adaptation</td>\n",
       "      <td>2024</td>\n",
       "      <td>1</td>\n",
       "      <td>tt30818607</td>\n",
       "    </tr>\n",
       "    <tr>\n",
       "      <th>497</th>\n",
       "      <td>Short</td>\n",
       "      <td>All the Words But the One</td>\n",
       "      <td>Desconocido</td>\n",
       "      <td>Desconocido</td>\n",
       "      <td>tt30818627</td>\n",
       "    </tr>\n",
       "    <tr>\n",
       "      <th>498</th>\n",
       "      <td>Short</td>\n",
       "      <td>HR Lady</td>\n",
       "      <td>2024</td>\n",
       "      <td>3</td>\n",
       "      <td>tt30818686</td>\n",
       "    </tr>\n",
       "    <tr>\n",
       "      <th>499</th>\n",
       "      <td>Short</td>\n",
       "      <td>Re-Entry</td>\n",
       "      <td>Desconocido</td>\n",
       "      <td>Desconocido</td>\n",
       "      <td>tt30818768</td>\n",
       "    </tr>\n",
       "  </tbody>\n",
       "</table>\n",
       "<p>500 rows × 5 columns</p>\n",
       "</div>"
      ],
      "text/plain": [
       "      Tipo                                             Nombre Año de Estreno  \\\n",
       "0    Short                               Before the Fish Fell           2024   \n",
       "1    Short  Eddie Thurber-V-My Darkness Ended on that Hall...           2024   \n",
       "2    Short                         Det Kan Ingen Ta Ifrån Mig           2024   \n",
       "3    Short                                        The Library           2024   \n",
       "4    Short                                             Somnus           2024   \n",
       "..     ...                                                ...            ...   \n",
       "495  Short                                    Steve the Queen           2024   \n",
       "496  Short        Morality of Murder Scene - Barry Adaptation           2024   \n",
       "497  Short                          All the Words But the One    Desconocido   \n",
       "498  Short                                            HR Lady           2024   \n",
       "499  Short                                           Re-Entry    Desconocido   \n",
       "\n",
       "    Mes de Estreno ID de la Película  \n",
       "0                3        tt14063056  \n",
       "1               10        tt14072204  \n",
       "2               12        tt15103886  \n",
       "3                1        tt17062072  \n",
       "4                3        tt18335394  \n",
       "..             ...               ...  \n",
       "495              1        tt30818291  \n",
       "496              1        tt30818607  \n",
       "497    Desconocido        tt30818627  \n",
       "498              3        tt30818686  \n",
       "499    Desconocido        tt30818768  \n",
       "\n",
       "[500 rows x 5 columns]"
      ]
     },
     "execution_count": 610,
     "metadata": {},
     "output_type": "execute_result"
    }
   ],
   "source": [
    "df_pelis"
   ]
  },
  {
   "cell_type": "markdown",
   "metadata": {},
   "source": [
    "##### Aqui convertimos los resultados 'limpios' a csv. Lo hacemos con todas las páginas (Acción)."
   ]
  },
  {
   "cell_type": "code",
   "execution_count": 611,
   "metadata": {},
   "outputs": [],
   "source": [
    "#df_pelis.to_csv(\"Accion_2010.csv\", index=False, encoding='utf-8')\n",
    "# df_pelis.to_csv(\"Accion_2011.csv\", index=False, encoding='utf-8')\n",
    "#df_pelis.to_csv(\"Accion_2012.csv\", index=False, encoding='utf-8')\n",
    "#df_pelis.to_csv(\"Accion_2013.csv\", index=False, encoding='utf-8')\n",
    "# df_pelis.to_csv(\"Accion_2014.csv\", index=False, encoding='utf-8')\n",
    "#df_pelis.to_csv(\"Accion_2015.csv\", index=False, encoding='utf-8')\n",
    "#df_pelis.to_csv(\"Accion_2017.csv\", index=False, encoding='utf-8')\n",
    "#df_pelis.to_csv(\"Accion_2018.csv\", index=False, encoding='utf-8')\n",
    "#df_pelis.to_csv(\"Accion_2019.csv\", index=False, encoding='utf-8')\n",
    "#df_pelis.to_csv(\"Accion_2020.csv\", index=False, encoding='utf-8')\n",
    "#df_pelis.to_csv(\"Accion_2021.csv\", index=False, encoding='utf-8')\n",
    "#df_pelis.to_csv(\"Accion_2022.csv\", index=False, encoding='utf-8')\n",
    "#df_pelis.to_csv(\"Accion_2023.csv\", index=False, encoding='utf-8')\n",
    "#df_pelis.to_csv(\"Accion_2024.csv\", index=False, encoding='utf-8')\n"
   ]
  },
  {
   "cell_type": "markdown",
   "metadata": {},
   "source": [
    "##### Aqui convertimos los resultados 'limpios' a csv. Lo hacemos con todas las páginas (Comedia)."
   ]
  },
  {
   "cell_type": "code",
   "execution_count": 612,
   "metadata": {},
   "outputs": [],
   "source": [
    "#df_pelis.to_csv(\"Comedia_2010.csv\", index=False, encoding='utf-8')\n",
    "#df_pelis.to_csv(\"Comedia_2011.csv\", index=False, encoding='utf-8')\n",
    "#df_pelis.to_csv(\"Comedia_2012.csv\", index=False, encoding='utf-8')\n",
    "#df_pelis.to_csv(\"Comedia_2013.csv\", index=False, encoding='utf-8')\n",
    "#df_pelis.to_csv(\"Comedia_2014.csv\", index=False, encoding='utf-8')\n",
    "#df_pelis.to_csv(\"Comedia_2015.csv\", index=False, encoding='utf-8')\n",
    "#df_pelis.to_csv(\"Comedia_2016.csv\", index=False, encoding='utf-8')\n",
    "#df_pelis.to_csv(\"Comedia_2017.csv\", index=False, encoding='utf-8')\n",
    "#df_pelis.to_csv(\"Comedia_2018.csv\", index=False, encoding='utf-8')\n",
    "#df_pelis.to_csv(\"Comedia_2019.csv\", index=False, encoding='utf-8')\n",
    "#df_pelis.to_csv(\"Comedia_2020.csv\", index=False, encoding='utf-8')\n",
    "# df_pelis.to_csv(\"Comedia_2021.csv\", index=False, encoding='utf-8')\n",
    "#df_pelis.to_csv(\"Comedia_2022.csv\", index=False, encoding='utf-8')\n",
    "#df_pelis.to_csv(\"Comedia_2023.csv\", index=False, encoding='utf-8')\n",
    "#df_pelis.to_csv(\"Comedia_2024.csv\", index=False, encoding='utf-8')\n",
    "# df_pelis.to_csv(\"Comedia_2025.csv\", index=False, encoding='utf-8')"
   ]
  },
  {
   "cell_type": "markdown",
   "metadata": {},
   "source": [
    "##### Aqui convertimos los resultados 'limpios' a csv. Lo hacemos con todas las páginas (Drama)."
   ]
  },
  {
   "cell_type": "code",
   "execution_count": 613,
   "metadata": {},
   "outputs": [],
   "source": [
    "#df_pelis.to_csv(\"Drama_2010.csv\", index=False, encoding='utf-8')\n",
    "# df_pelis.to_csv(\"Drama_2011.csv\", index=False, encoding='utf-8')\n",
    "#df_pelis.to_csv(\"Drama_2012.csv\", index=False, encoding='utf-8')\n",
    "#df_pelis.to_csv(\"Drama_2013.csv\", index=False, encoding='utf-8')\n",
    "#df_pelis.to_csv(\"Drama_2014.csv\", index=False, encoding='utf-8')\n",
    "#df_pelis.to_csv(\"Drama_2015.csv\", index=False, encoding='utf-8')\n",
    "#df_pelis.to_csv(\"Drama_2016.csv\", index=False, encoding='utf-8')\n",
    "#df_pelis.to_csv(\"Drama_2017.csv\", index=False, encoding='utf-8')\n",
    "#df_pelis.to_csv(\"Drama_2018.csv\", index=False, encoding='utf-8')\n",
    "#df_pelis.to_csv(\"Drama_2019.csv\", index=False, encoding='utf-8')\n",
    "# df_pelis.to_csv(\"Drama_2020.csv\", index=False, encoding='utf-8')\n",
    "#df_pelis.to_csv(\"Drama_2021.csv\", index=False, encoding='utf-8')\n",
    "#df_pelis.to_csv(\"Drama_2022.csv\", index=False, encoding='utf-8')\n",
    "#df_pelis.to_csv(\"Drama_2023.csv\", index=False, encoding='utf-8')\n",
    "# df_pelis.to_csv(\"Drama_2024.csv\", index=False, encoding='utf-8')\n"
   ]
  },
  {
   "cell_type": "markdown",
   "metadata": {},
   "source": [
    "#### Cortometrajes Accion"
   ]
  },
  {
   "cell_type": "code",
   "execution_count": 614,
   "metadata": {},
   "outputs": [],
   "source": [
    "# df_pelis.to_csv(\"accion_2010.csv\", index=False, encoding='utf-8')\n",
    "# df_pelis.to_csv(\"accion_2011.csv\", index=False, encoding='utf-8')\n",
    "#df_pelis.to_csv(\"accion_2012.csv\", index=False, encoding='utf-8')\n",
    "#df_pelis.to_csv(\"accion_2013.csv\", index=False, encoding='utf-8')\n",
    "#df_pelis.to_csv(\"accion_2014.csv\", index=False, encoding='utf-8')\n",
    "#df_pelis.to_csv(\"accion_2015.csv\", index=False, encoding='utf-8')\n",
    "#df_pelis.to_csv(\"accion_2016.csv\", index=False, encoding='utf-8')\n",
    "#df_pelis.to_csv(\"accion_2017.csv\", index=False, encoding='utf-8')\n",
    "#df_pelis.to_csv(\"accion_2018.csv\", index=False, encoding='utf-8')\n",
    "#df_pelis.to_csv(\"accion_2019.csv\", index=False, encoding='utf-8')\n",
    "#df_pelis.to_csv(\"accion_2020.csv\", index=False, encoding='utf-8')\n",
    "#df_pelis.to_csv(\"accion_2021.csv\", index=False, encoding='utf-8')\n",
    "#df_pelis.to_csv(\"accion_2022.csv\", index=False, encoding='utf-8')\n",
    "#df_pelis.to_csv(\"accion_2023.csv\", index=False, encoding='utf-8')\n",
    "#df_pelis.to_csv(\"accion_2024.csv\", index=False, encoding='utf-8')"
   ]
  },
  {
   "cell_type": "markdown",
   "metadata": {},
   "source": [
    "#### Cortometrajes Comedia"
   ]
  },
  {
   "cell_type": "code",
   "execution_count": 615,
   "metadata": {},
   "outputs": [],
   "source": [
    "#df_pelis.to_csv(\"comedia_2010.csv\", index=False, encoding='utf-8')\n",
    "#df_pelis.to_csv(\"comedia_2011.csv\", index=False, encoding='utf-8')\n",
    "#df_pelis.to_csv(\"comedia_2012.csv\", index=False, encoding='utf-8')\n",
    "#df_pelis.to_csv(\"comedia_2013.csv\", index=False, encoding='utf-8')\n",
    "#df_pelis.to_csv(\"comedia_2014.csv\", index=False, encoding='utf-8')\n",
    "#df_pelis.to_csv(\"comedia_2015.csv\", index=False, encoding='utf-8')\n",
    "#df_pelis.to_csv(\"comedia_2016.csv\", index=False, encoding='utf-8')\n",
    "#df_pelis.to_csv(\"comedia_2017.csv\", index=False, encoding='utf-8')\n",
    "#df_pelis.to_csv(\"comedia_2018.csv\", index=False, encoding='utf-8')\n",
    "#df_pelis.to_csv(\"comedia_2019.csv\", index=False, encoding='utf-8')\n",
    "#df_pelis.to_csv(\"comedia_2020.csv\", index=False, encoding='utf-8')\n",
    "#df_pelis.to_csv(\"comedia_2021.csv\", index=False, encoding='utf-8')\n",
    "#df_pelis.to_csv(\"comedia_2022.csv\", index=False, encoding='utf-8')\n",
    "#df_pelis.to_csv(\"comedia_2023.csv\", index=False, encoding='utf-8')\n",
    "#df_pelis.to_csv(\"comedia_2024.csv\", index=False, encoding='utf-8')"
   ]
  },
  {
   "cell_type": "markdown",
   "metadata": {},
   "source": [
    "#### Cortometrajes Drama"
   ]
  },
  {
   "cell_type": "code",
   "execution_count": 616,
   "metadata": {},
   "outputs": [],
   "source": [
    "#df_pelis.to_csv(\"drama_2010.csv\", index=False, encoding='utf-8')\n",
    "#df_pelis.to_csv(\"drama_2011.csv\", index=False, encoding='utf-8')\n",
    "#df_pelis.to_csv(\"drama_2012.csv\", index=False, encoding='utf-8')\n",
    "#df_pelis.to_csv(\"drama_2013.csv\", index=False, encoding='utf-8')\n",
    "#df_pelis.to_csv(\"drama_2014.csv\", index=False, encoding='utf-8')\n",
    "#df_pelis.to_csv(\"drama_2015.csv\", index=False, encoding='utf-8')\n",
    "#df_pelis.to_csv(\"drama_2016.csv\", index=False, encoding='utf-8')\n",
    "#df_pelis.to_csv(\"drama_2017.csv\", index=False, encoding='utf-8')\n",
    "#df_pelis.to_csv(\"drama_2018.csv\", index=False, encoding='utf-8')\n",
    "#df_pelis.to_csv(\"drama_2019.csv\", index=False, encoding='utf-8')\n",
    "#df_pelis.to_csv(\"drama_2020.csv\", index=False, encoding='utf-8')\n",
    "#df_pelis.to_csv(\"drama_2021.csv\", index=False, encoding='utf-8')\n",
    "#df_pelis.to_csv(\"drama_2022.csv\", index=False, encoding='utf-8')\n",
    "#df_pelis.to_csv(\"drama_2023.csv\", index=False, encoding='utf-8')\n",
    "#df_pelis.to_csv(\"drama_2024.csv\", index=False, encoding='utf-8')"
   ]
  },
  {
   "cell_type": "markdown",
   "metadata": {},
   "source": []
  }
 ],
 "metadata": {
  "kernelspec": {
   "display_name": "base",
   "language": "python",
   "name": "python3"
  },
  "language_info": {
   "codemirror_mode": {
    "name": "ipython",
    "version": 3
   },
   "file_extension": ".py",
   "mimetype": "text/x-python",
   "name": "python",
   "nbconvert_exporter": "python",
   "pygments_lexer": "ipython3",
   "version": "3.11.8"
  }
 },
 "nbformat": 4,
 "nbformat_minor": 2
}
