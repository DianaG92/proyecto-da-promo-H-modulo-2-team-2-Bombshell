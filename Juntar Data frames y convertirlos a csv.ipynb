{
 "cells": [
  {
   "cell_type": "code",
   "execution_count": 1,
   "metadata": {},
   "outputs": [],
   "source": [
    "import pandas as pd\n",
    "import os"
   ]
  },
  {
   "cell_type": "code",
   "execution_count": 2,
   "metadata": {},
   "outputs": [],
   "source": [
    "\n",
    "def load_files_from_directory(directorio, prefijo):\n",
    "    dataframes = []\n",
    "    # Listamos todos los archivos en el directorio\n",
    "    for filename in os.listdir(directorio):\n",
    "        # Filtramos por género usando el prefijo y asegurarse de que es un archivo CSV\n",
    "        if filename.startswith(prefijo) and filename.endswith('.csv'):\n",
    "            filepath = os.path.join(directorio, filename)\n",
    "            df = pd.read_csv(filepath)\n",
    "            df['Genero'] = prefijo  # Usar el prefijo como género\n",
    "            dataframes.append(df)\n",
    "    return pd.concat(dataframes, ignore_index=True) if dataframes else pd.DataFrame()\n",
    "\n",
    "\n",
    "directorio_base = \"/Users/patriciagonzalez/Adalab/modulo_2/proyecto-da-promo-H-modulo-2-team-2-Bombshell/Extracciones.csv\"\n",
    "\n",
    "df_accion = load_files_from_directory(directorio_base, \"Accion\")\n",
    "df_drama = load_files_from_directory(directorio_base, \"Drama\")\n",
    "df_comedia = load_files_from_directory(directorio_base, \"Comedia\")\n",
    "\n",
    "# Concatenar todos los DataFrames\n",
    "df_total = pd.concat([df_accion, df_drama, df_comedia], ignore_index=True)\n",
    "\n"
   ]
  },
  {
   "cell_type": "code",
   "execution_count": 3,
   "metadata": {},
   "outputs": [
    {
     "name": "stdout",
     "output_type": "stream",
     "text": [
      "    Tipo                    Nombre Año de Estreno Mes de Estreno         ID  \\\n",
      "0  Movie               Pál Adrienn           2011              6  tt0146592   \n",
      "1  Movie            Oda az igazság           2010              2  tt0154039   \n",
      "2  Movie  A zöld sárkány gyermekei           2011              4  tt0162942   \n",
      "3  Movie         The Final Journey           2010              9  tt0230212   \n",
      "4  Movie               In My Sleep           2010              4  tt0326965   \n",
      "\n",
      "   Genero  \n",
      "0  Accion  \n",
      "1  Accion  \n",
      "2  Accion  \n",
      "3  Accion  \n",
      "4  Accion  \n"
     ]
    }
   ],
   "source": [
    "\n",
    "df_peliculas = pd.read_csv(\"peliculas.csv\")\n",
    "\n",
    "# Cambiamos el nombre de la columna 'ID de la Película' a 'ID' porque me equivoqué al hacer el diccionario.\n",
    "df_peliculas.rename(columns={'ID de la Película': 'ID'}, inplace=True)\n",
    "\n",
    "# Verificamos el cambio\n",
    "print(df_peliculas.head())\n"
   ]
  },
  {
   "cell_type": "code",
   "execution_count": 4,
   "metadata": {},
   "outputs": [],
   "source": [
    "# # Guardamos los cambios en el archivo csv.\n",
    "df_peliculas.to_csv('peliculas.csv', index=False)"
   ]
  }
 ],
 "metadata": {
  "kernelspec": {
   "display_name": "base",
   "language": "python",
   "name": "python3"
  },
  "language_info": {
   "codemirror_mode": {
    "name": "ipython",
    "version": 3
   },
   "file_extension": ".py",
   "mimetype": "text/x-python",
   "name": "python",
   "nbconvert_exporter": "python",
   "pygments_lexer": "ipython3",
   "version": "3.11.8"
  }
 },
 "nbformat": 4,
 "nbformat_minor": 2
}
