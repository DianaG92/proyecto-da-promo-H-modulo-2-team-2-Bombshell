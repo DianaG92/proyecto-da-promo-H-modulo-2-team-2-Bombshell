{
 "cells": [
  {
   "cell_type": "code",
   "execution_count": 2,
   "metadata": {},
   "outputs": [],
   "source": [
    "import pandas as pd"
   ]
  },
  {
   "cell_type": "code",
   "execution_count": 3,
   "metadata": {},
   "outputs": [],
   "source": [
    "# Cargar cada archivo CSV en un DataFrame y agregar la columna 'genero'\n",
    "df_accion = pd.read_csv('accion-dataframe.csv')\n",
    "df_accion['Genero'] = 'Accion'\n",
    "\n",
    "df_drama = pd.read_csv('drama-dataframe.csv')\n",
    "df_drama['Genero'] = 'Drama'\n",
    "\n",
    "df_comedia = pd.read_csv('comedia-dataframe.csv')\n",
    "df_comedia['Genero'] = 'Comedia'\n"
   ]
  },
  {
   "cell_type": "code",
   "execution_count": 4,
   "metadata": {},
   "outputs": [],
   "source": [
    "# Combinamoa los DataFrames en uno solo usando método de pandas pd.concat(). Iganoramos indices.\n",
    "df_peliculas = pd.concat([df_accion, df_drama, df_comedia], ignore_index=True)\n",
    "df_peliculas.to_csv (\"peliculas_combinadas.csv\")"
   ]
  }
 ],
 "metadata": {
  "kernelspec": {
   "display_name": "base",
   "language": "python",
   "name": "python3"
  },
  "language_info": {
   "codemirror_mode": {
    "name": "ipython",
    "version": 3
   },
   "file_extension": ".py",
   "mimetype": "text/x-python",
   "name": "python",
   "nbconvert_exporter": "python",
   "pygments_lexer": "ipython3",
   "version": "3.11.8"
  }
 },
 "nbformat": 4,
 "nbformat_minor": 2
}
