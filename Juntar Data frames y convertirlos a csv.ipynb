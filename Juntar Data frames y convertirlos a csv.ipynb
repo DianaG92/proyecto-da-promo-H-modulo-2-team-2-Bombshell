{
 "cells": [
  {
   "cell_type": "code",
   "execution_count": 7,
   "metadata": {},
   "outputs": [],
   "source": [
    "import pandas as pd\n",
    "import os"
   ]
  },
  {
   "cell_type": "code",
   "execution_count": null,
   "metadata": {},
   "outputs": [],
   "source": [
    "\n",
    "# La direccion la obtuvimos haciendo click derecho en la carpeta \"Extracciones.csv\" y copiando el path.\n",
    "directorio_extracciones = \"/Users/patriciagonzalez/Adalab/modulo_2/proyecto-da-promo-H-modulo-2-team-2-Bombshell/Extracciones.csv\"\n",
    "#lista para juntar dataframes\n",
    "dataframes = []\n",
    "\n",
    "# itera entre los archivos del directorio\n",
    "for filename in os.listdir(directorio_extracciones):\n",
    "    if filename.endswith('.csv'):\n",
    "        file_path = os.path.join(directory_path, filename)\n",
    "        df = pd.read_csv(file_path)\n",
    "        dataframes.append(df)\n",
    "\n",
    "# Concatenate all DataFrames into one\n",
    "combined_df = pd.concat(dataframes, ignore_index=True)\n",
    "\n",
    "# Display the combined DataFrame\n",
    "print(combined_df.head())\n"
   ]
  },
  {
   "cell_type": "code",
   "execution_count": 4,
   "metadata": {},
   "outputs": [],
   "source": [
    "# Combinamoa los DataFrames en uno solo usando método de pandas pd.concat(). Iganoramos indices.\n",
    "df_peliculas = pd.concat([df_accion, df_drama, df_comedia], ignore_index=True)\n",
    "df_peliculas.to_csv (\"peliculas_combinadas.csv\")"
   ]
  }
 ],
 "metadata": {
  "kernelspec": {
   "display_name": "base",
   "language": "python",
   "name": "python3"
  },
  "language_info": {
   "codemirror_mode": {
    "name": "ipython",
    "version": 3
   },
   "file_extension": ".py",
   "mimetype": "text/x-python",
   "name": "python",
   "nbconvert_exporter": "python",
   "pygments_lexer": "ipython3",
   "version": "3.11.8"
  }
 },
 "nbformat": 4,
 "nbformat_minor": 2
}
