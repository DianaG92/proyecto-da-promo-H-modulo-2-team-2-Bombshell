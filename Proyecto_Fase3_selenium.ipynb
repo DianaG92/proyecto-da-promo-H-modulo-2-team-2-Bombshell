{
 "cells": [
  {
   "cell_type": "markdown",
   "metadata": {},
   "source": [
    "FASE 3: Extracción de Detalles de Actores con Selenium"
   ]
  },
  {
   "cell_type": "code",
   "execution_count": 1,
   "metadata": {},
   "outputs": [],
   "source": [
    "# Importar librerías para tratamiento de datos\n",
    "import pandas as pd  # Pandas es una poderosa librería para manipulación y análisis de datos en Python.\n",
    "\n",
    "# Importar librerías para web scraping y manipulación de datos\n",
    "from bs4 import BeautifulSoup\n",
    "\n",
    "# Importar librerías para automatización de navegadores web con Selenium\n",
    "from selenium import webdriver  # Selenium es una herramienta para automatizar la interacción con navegadores web.\n",
    "from webdriver_manager.chrome import ChromeDriverManager  # ChromeDriverManager gestiona la instalación del controlador de Chrome.\n",
    "from selenium.webdriver.common.keys import Keys  # Keys es útil para simular eventos de teclado en Selenium.\n",
    "from selenium.webdriver.support.ui import Select  # Select se utiliza para interactuar con elementos <select> en páginas web.\n",
    "\n",
    "# Importar librerías para pausar la ejecución\n",
    "from time import sleep  # Sleep se utiliza para pausar la ejecución del programa por un número de segundos.\n",
    "\n",
    "# Configuraciones\n",
    "pd.set_option('display.max_columns', None)  # Establece una opción de Pandas para mostrar todas las columnas de un DataFrame.\n"
   ]
  },
  {
   "cell_type": "markdown",
   "metadata": {},
   "source": [
    "Del csv con todas nuestras peliculas, nos quedamos solo con la columna de los ids (la comprobamos):"
   ]
  },
  {
   "cell_type": "code",
   "execution_count": 2,
   "metadata": {},
   "outputs": [],
   "source": [
    "df_pelis = pd.read_csv(\"peliculas_api.csv\")"
   ]
  },
  {
   "cell_type": "code",
   "execution_count": 3,
   "metadata": {},
   "outputs": [
    {
     "data": {
      "text/plain": [
       "Index(['Unnamed: 0', 'Tipo', 'Nombre', 'Año de Estreno', 'Mes de Estreno',\n",
       "       'ID de la Película', 'Genero'],\n",
       "      dtype='object')"
      ]
     },
     "execution_count": 3,
     "metadata": {},
     "output_type": "execute_result"
    }
   ],
   "source": [
    "df_pelis.keys()"
   ]
  },
  {
   "cell_type": "code",
   "execution_count": 4,
   "metadata": {},
   "outputs": [
    {
     "data": {
      "text/plain": [
       "0    tt0146592\n",
       "1    tt0154039\n",
       "2    tt0162942\n",
       "3    tt0230212\n",
       "4    tt0326965\n",
       "Name: ID de la Película, dtype: object"
      ]
     },
     "execution_count": 4,
     "metadata": {},
     "output_type": "execute_result"
    }
   ],
   "source": [
    "id_IMDB= df_pelis[\"ID de la Película\"]\n",
    "id_IMDB[:5]"
   ]
  },
  {
   "cell_type": "code",
   "execution_count": 8,
   "metadata": {},
   "outputs": [
    {
     "data": {
      "text/plain": [
       "'tt0146592'"
      ]
     },
     "execution_count": 8,
     "metadata": {},
     "output_type": "execute_result"
    }
   ],
   "source": [
    "id_IMDB[0]\n"
   ]
  },
  {
   "cell_type": "markdown",
   "metadata": {},
   "source": [
    "Comenzamos con SELENIUM!Por ahora, solo con una pelicula:"
   ]
  },
  {
   "cell_type": "code",
   "execution_count": 8,
   "metadata": {},
   "outputs": [
    {
     "name": "stdout",
     "output_type": "stream",
     "text": [
      "He pasado por aqui\n"
     ]
    }
   ],
   "source": [
    "driver = webdriver.Chrome()\n",
    "driver.get(\"https://www.imdb.com/title/tt0448115/\")\n",
    "\n",
    "sleep(3)\n",
    "\n",
    "driver.find_element(\"css selector\", \"#__next > div > div > div.sc-jrcTuL.bPmWiM > div > button.icb-btn.sc-bcXHqe.sc-dkrFOg.sc-iBYQkv.dcvrLS.ddtuHe.dRCGjd\").click()\n",
    "\n",
    "sleep(2)\n",
    "\n",
    "driver.maximize_window()\n",
    "\n",
    "driver.execute_script(\"window.scrollTo(0,2000)\")\n",
    "sleep(2)\n",
    "\n",
    "dicc_actors = {\"nombre_act\": [], \"conocide_por\": []}\n",
    "#me voy al primer actor/actriz\n",
    "\n",
    "driver.find_element(\"css selector\", \"#__next > main > div > section.ipc-page-background.ipc-page-background--base.sc-304f99f6-0.fSJiHR > div > section > div > div.sc-978e9339-1.ihWZgK.ipc-page-grid__item.ipc-page-grid__item--span-2 > section.ipc-page-section.ipc-page-section--base.sc-bfec09a1-0.jgUBLM.title-cast.title-cast--movie.celwidget > div.ipc-shoveler.ipc-shoveler--base.ipc-shoveler--page0.title-cast__grid > div.ipc-sub-grid.ipc-sub-grid--page-span-2.ipc-sub-grid--wraps-at-above-l.ipc-shoveler__grid > div:nth-child(1) > div.sc-bfec09a1-7.gWwKlt > a\").click()\n",
    "sleep(3)\n",
    "dicc_actors= {\"Nombre actr\" : [], \n",
    "              \"conocide_por\": [],\n",
    "              \"año_nacimiento\":[],\n",
    "              \"profesión\": [],\n",
    "              \"premios\": []}\n",
    "\n",
    "nombre_act = driver.find_element(\"css selector\", \"#__next > main > div > section.ipc-page-background.ipc-page-background--base.sc-304f99f6-0.fSJiHR > section > div:nth-child(5) > section > section > div.sc-92625f35-3.frxYSZ > div > h1 > span\").text\n",
    "dicc_actors[\"Nombre actr\"].append(nombre_act)\n",
    "\n",
    "sleep(5)\n",
    "\n",
    "conocide_por= driver.find_element(\"css selector\", \"#__next > main > div > section.ipc-page-background.ipc-page-background--base.sc-304f99f6-0.fSJiHR > div > section > div > div.sc-978e9339-1.ihWZgK.ipc-page-grid__item.ipc-page-grid__item--span-2 > div.celwidget > section:nth-child(1) > div.sc-a6d4b6c0-0.bBRhdF > div > div.ipc-sub-grid.ipc-sub-grid--page-span-2.ipc-sub-grid--wraps-at-above-l.ipc-shoveler__grid > div:nth-child(1) > div.ipc-primary-image-list-card__content > div.ipc-primary-image-list-card__content-top > a\").text\n",
    "dicc_actors[\"conocide_por\"].append(conocide_por)\n",
    "\n",
    "\n",
    "\n",
    "sleep(2)\n",
    "\n",
    "conocide_por2=driver.find_element(\"css selector\", \"#__next > main > div > section.ipc-page-background.ipc-page-background--base.sc-304f99f6-0.fSJiHR > div > section > div > div.sc-978e9339-1.ihWZgK.ipc-page-grid__item.ipc-page-grid__item--span-2 > div.celwidget > section:nth-child(1) > div.sc-a6d4b6c0-0.bBRhdF > div > div.ipc-sub-grid.ipc-sub-grid--page-span-2.ipc-sub-grid--wraps-at-above-l.ipc-shoveler__grid > div:nth-child(2) > div.ipc-primary-image-list-card__content > div.ipc-primary-image-list-card__content-top > a\").text\n",
    "dicc_actors[\"conocide_por\"].append(conocide_por2)\n",
    "print(\"He pasado por aqui\")\n",
    "\n",
    "sleep(3)\n",
    "#ESTE NO ME FUNCIONA - año de nacimiento  \n",
    "#año_nacimiento= driver.find_element(\"css selector\",\"#__next > main > div > section.ipc-page-background.ipc-page-background--base.sc-304f99f6-0.fSJiHR > div > section > div > div.sc-978e9339-1.ihWZgK.ipc-page-grid__item.ipc-page-grid__item--span-2 > section:nth-child(20) > div.sc-f65f65be-0.bBlII > ul > li:nth-child(5) > div > ul > li > span\").text\n",
    "año_nacimiento= driver.find_element(\"css selector\", \"#__next > main > div > section.ipc-page-background.ipc-page-background--base.sc-304f99f6-0.fSJiHR > div > section > div > div.sc-978e9339-1.ihWZgK.ipc-page-grid__item.ipc-page-grid__item--span-2 > section:nth-child(20) > div.sc-f65f65be-0.bBlII > ul > li:nth-child(4) > div > ul > li.ipc-inline-list__item.test-class-react > a\").text\n",
    "dicc_actors[\"año_nacimiento\"].append(año_nacimiento)\n",
    "\n",
    "##limpiamos lo que nos devuelve despues de - para solo quedarnos con la fecha de nacimiento \n",
    "##partes= año_nacimiento.split(\" - \")\n",
    "##primera_parte=partes[0]\n",
    "#print(primera_parte)\n",
    "\n",
    "#año_nacimiento.append(primera_parte)\n",
    "\n",
    "#que hace \n",
    "sleep(4)\n",
    "driver.execute_script(\"window.scrollTo(0,4000)\")\n",
    "\n",
    "#sleep(5)\n",
    "#profesion= driver.find_element(\"css selector\",\"#__next > main > div > section.ipc-page-background.ipc-page-background--base.sc-304f99f6-0.fSJiHR > div > section > div > div.sc-978e9339-1.ihWZgK.ipc-page-grid__item.ipc-page-grid__item--span-2 > div.celwidget > section:nth-child(2) > div.ipc-title.ipc-title--base.ipc-title--title.ipc-title--on-textPrimary.sc-56ff4734-4.kSHHyf.filmo-section-producer > hgroup\").text\n",
    "\n",
    "#dicc_actors[\"profesión\"].append(profesion)\n",
    "\n",
    "\n",
    "#que_hace2=driver.find_element(\"css selector\",\"#__next > main > div > section.ipc-page-background.ipc-page-background--base.sc-304f99f6-0.fSJiHR > div > section > div > div.sc-978e9339-1.ihWZgK.ipc-page-grid__item.ipc-page-grid__item--span-2 > div.celwidget > section:nth-child(2) > div.ipc-title.ipc-title--base.ipc-title--title.ipc-title--on-textPrimary.sc-56ff4734-4.kSHHyf.filmo-section-director > hgroup\").text\n",
    "#que_hace.append(que_hace2)\n",
    "\n",
    "\n",
    "\n",
    "\n",
    "\n",
    "\n",
    "sleep(5)\n",
    "\n",
    "driver.close()\n",
    "\n"
   ]
  },
  {
   "cell_type": "code",
   "execution_count": 9,
   "metadata": {},
   "outputs": [
    {
     "data": {
      "text/plain": [
       "{'Nombre actr': ['Zachary Levi'],\n",
       " 'conocide_por': ['¡Shazam!', 'Chuck'],\n",
       " 'año_nacimiento': ['29 de septiembre de 1980'],\n",
       " 'profesión': [],\n",
       " 'premios': []}"
      ]
     },
     "execution_count": 9,
     "metadata": {},
     "output_type": "execute_result"
    }
   ],
   "source": [
    "dicc_actors"
   ]
  },
  {
   "cell_type": "code",
   "execution_count": null,
   "metadata": {},
   "outputs": [],
   "source": [
    "#xpath \"//*[@id=\"__next\"]/main/div/section[1]/div/section/div/div[1]/section[4]/div[2]/ul/li[3]/div/ul/li[1]/a\"\n",
    "\n",
    "#css selector\", \"#__next > main > div > section.ipc-page-background.ipc-page-background--base.sc-304f99f6-0.fSJiHR > div > section > div > div.sc-978e9339-1.ihWZgK.ipc-page-grid__item.ipc-page-grid__item--span-2 > section:nth-child(20) > div.sc-f65f65be-0.bBlII > ul > li:nth-child(3) > div > ul > li.ipc-inline-list__item.test-class-react > a\"\n",
    "#\"css selector\",\"#__next > main > div > section.ipc-page-background.ipc-page-background--base.sc-304f99f6-0.fSJiHR > div > section > div > div.sc-978e9339-1.ihWZgK.ipc-page-grid__item.ipc-page-grid__item--span-2 > section:nth-child(20) > div.sc-f65f65be-0.bBlII > ul > li:nth-child(5) > div > ul > li > span\"\n"
   ]
  },
  {
   "cell_type": "markdown",
   "metadata": {},
   "source": [
    "Creamos una lista vacía para los primeros 10 actores/actrices (link desde la página principal). donde solo cambia el numero, {i}"
   ]
  },
  {
   "cell_type": "code",
   "execution_count": 22,
   "metadata": {},
   "outputs": [],
   "source": [
    "driver = webdriver.Chrome()\n",
    "driver.get(\"https://www.imdb.com/title/tt0448115/\")\n",
    "\n",
    "sleep(3)\n",
    "\n",
    "driver.find_element(\"css selector\", \"#__next > div > div > div.sc-jrcTuL.bPmWiM > div > button.icb-btn.sc-bcXHqe.sc-dkrFOg.sc-iBYQkv.dcvrLS.ddtuHe.dRCGjd\").click()\n",
    "\n",
    "sleep(2)\n",
    "\n",
    "driver.maximize_window()\n",
    "\n",
    "driver.execute_script(\"window.scrollTo(0,2000)\")\n",
    "sleep(2)\n",
    "\n",
    "dicc_actors = {\"nombre_act\": [], \"conocide_por\": []}\n",
    "\n",
    "#me voy al primer actor/actriz\n",
    "#driver.find_element(\"css selector\", \"#__next > main > div > section.ipc-page-background.ipc-page-background--base.sc-304f99f6-0.fSJiHR > div > section > div > div.sc-978e9339-1.ihWZgK.ipc-page-grid__item.ipc-page-grid__item--span-2 > section.ipc-page-section.ipc-page-section--base.sc-bfec09a1-0.jgUBLM.title-cast.title-cast--movie.celwidget > div.ipc-shoveler.ipc-shoveler--base.ipc-shoveler--page0.title-cast__grid > div.ipc-sub-grid.ipc-sub-grid--page-span-2.ipc-sub-grid--wraps-at-above-l.ipc-shoveler__grid > div:nth-child(1) > div.sc-bfec09a1-7.gWwKlt > a\").click()\n",
    "#sleep(3)\n",
    "\n",
    "lista_url=[]\n",
    "for i in range (1,11):\n",
    "    lista_url.append(driver.find_element(\"css selector\", f\"#__next > main > div > section.ipc-page-background.ipc-page-background--base.sc-304f99f6-0.fSJiHR > div > section > div > div.sc-978e9339-1.ihWZgK.ipc-page-grid__item.ipc-page-grid__item--span-2 > section.ipc-page-section.ipc-page-section--base.sc-bfec09a1-0.jgUBLM.title-cast.title-cast--movie.celwidget > div.ipc-shoveler.ipc-shoveler--base.ipc-shoveler--page0.title-cast__grid > div.ipc-sub-grid.ipc-sub-grid--page-span-2.ipc-sub-grid--wraps-at-above-l.ipc-shoveler__grid > div:nth-child({i})\").text)\n",
    "\n",
    "driver.close()\n"
   ]
  },
  {
   "cell_type": "markdown",
   "metadata": {},
   "source": [
    "Extraemos los 10 primeros nombres de los actores y actrices de la película."
   ]
  },
  {
   "cell_type": "code",
   "execution_count": 36,
   "metadata": {},
   "outputs": [
    {
     "data": {
      "text/plain": [
       "['Zachary Levi',\n",
       " 'Mark Strong',\n",
       " 'Asher Angel',\n",
       " 'Jack Dylan Grazer',\n",
       " 'Adam Brody',\n",
       " 'Djimon Hounsou',\n",
       " 'Faithe Herman',\n",
       " 'Meagan Good',\n",
       " 'Grace Caroline Currey',\n",
       " 'Michelle Borth']"
      ]
     },
     "execution_count": 36,
     "metadata": {},
     "output_type": "execute_result"
    }
   ],
   "source": [
    "lista_url\n",
    "nombres_10 = [nombre.split('\\n')[0] for nombre in lista_url]\n",
    "nombres_10\n"
   ]
  },
  {
   "cell_type": "code",
   "execution_count": 34,
   "metadata": {},
   "outputs": [],
   "source": [
    "nombres_10.append(dicc_actors[\"nombre_act\"])\n",
    "\n",
    "#Creo que hay que crear otro bucle for para que appendee"
   ]
  },
  {
   "cell_type": "code",
   "execution_count": null,
   "metadata": {},
   "outputs": [],
   "source": [
    "#COMPROBANDO css selectores- actores\n",
    "#\"#__next > main > div > section.ipc-page-background.ipc-page-background--base.sc-304f99f6-0.fSJiHR > div > section > div > div.sc-978e9339-1.ihWZgK.ipc-page-grid__item.ipc-page-grid__item--span-2 > section.ipc-page-section.ipc-page-section--base.sc-bfec09a1-0.jgUBLM.title-cast.title-cast--movie.celwidget > div.ipc-shoveler.ipc-shoveler--base.ipc-shoveler--page0.title-cast__grid > div.ipc-sub-grid.ipc-sub-grid--page-span-2.ipc-sub-grid--wraps-at-above-l.ipc-shoveler__grid > div:nth-child(1)\"\n",
    "#\"#__next > main > div > section.ipc-page-background.ipc-page-background--base.sc-304f99f6-0.fSJiHR > div > section > div > div.sc-978e9339-1.ihWZgK.ipc-page-grid__item.ipc-page-grid__item--span-2 > section.ipc-page-section.ipc-page-section--base.sc-bfec09a1-0.jgUBLM.title-cast.title-cast--movie.celwidget > div.ipc-shoveler.ipc-shoveler--base.ipc-shoveler--page0.title-cast__grid > div.ipc-sub-grid.ipc-sub-grid--page-span-2.ipc-sub-grid--wraps-at-above-l.ipc-shoveler__grid > div:nth-child(2)\"\n",
    "#\"#__next > main > div > section.ipc-page-background.ipc-page-background--base.sc-304f99f6-0.fSJiHR > div > section > div > div.sc-978e9339-1.ihWZgK.ipc-page-grid__item.ipc-page-grid__item--span-2 > section.ipc-page-section.ipc-page-section--base.sc-bfec09a1-0.jgUBLM.title-cast.title-cast--movie.celwidget > div.ipc-shoveler.ipc-shoveler--base.ipc-shoveler--page0.title-cast__grid > div.ipc-sub-grid.ipc-sub-grid--page-span-2.ipc-sub-grid--wraps-at-above-l.ipc-shoveler__grid > div:nth-child(3)\"\n",
    "#num10\n",
    "##__next > main > div > section.ipc-page-background.ipc-page-background--base.sc-304f99f6-0.fSJiHR > div > section > div > div.sc-978e9339-1.ihWZgK.ipc-page-grid__item.ipc-page-grid__item--span-2 > section.ipc-page-section.ipc-page-section--base.sc-bfec09a1-0.jgUBLM.title-cast.title-cast--movie.celwidget > div.ipc-shoveler.ipc-shoveler--base.ipc-shoveler--page2.title-cast__grid > div.ipc-sub-grid.ipc-sub-grid--page-span-2.ipc-sub-grid--wraps-at-above-l.ipc-shoveler__grid > div:nth-child(10)"
   ]
  },
  {
   "cell_type": "code",
   "execution_count": 22,
   "metadata": {},
   "outputs": [
    {
     "name": "stdout",
     "output_type": "stream",
     "text": [
      "{'nombre_act': [], 'conocide_por': [[<selenium.webdriver.remote.webelement.WebElement (session=\"2233b7d8995ac68a79291a4b3f6aac02\", element=\"f.56DF74BB773B3C8ADF456FFECAE83645.d.8DE69033094D88C6D477C1A3E87CFC28.e.186\")>], '¡Shazam!\\n7,0\\nShazam\\n2019\\nChuck\\n8,2\\nSerie de TV\\nChuck Bartowski\\n2007–2012 • 91 episodios\\nEnredados\\n7,7\\nFlynn Rider(voz)\\n2010\\nThor: El mundo oscuro\\n6,8\\nFandral\\n2013', '¡Shazam!\\n7,0\\nShazam\\n2019\\nChuck\\n8,2\\nSerie de TV\\nChuck Bartowski\\n2007–2012 • 91 episodios\\nEnredados\\n7,7\\nFlynn Rider(voz)\\n2010\\nThor: El mundo oscuro\\n6,8\\nFandral\\n2013', '¡Shazam!\\n7,0\\nShazam\\n2019\\nChuck\\n8,2\\nSerie de TV\\nChuck Bartowski\\n2007–2012 • 91 episodios\\nEnredados\\n7,7\\nFlynn Rider(voz)\\n2010\\nThor: El mundo oscuro\\n6,8\\nFandral\\n2013', '¡Shazam!\\n7,0\\nShazam\\n2019\\nChuck\\n8,2\\nSerie de TV\\nChuck Bartowski\\n2007–2012 • 91 episodios\\nEnredados\\n7,7\\nFlynn Rider(voz)\\n2010\\nThor: El mundo oscuro\\n6,8\\nFandral\\n2013', '¡Shazam!\\n7,0\\nShazam\\n2019\\nChuck\\n8,2\\nSerie de TV\\nChuck Bartowski\\n2007–2012 • 91 episodios\\nEnredados\\n7,7\\nFlynn Rider(voz)\\n2010\\nThor: El mundo oscuro\\n6,8\\nFandral\\n2013']}\n",
      "['¡Shazam!\\n7,0\\nShazam\\n2019\\nChuck\\n8,2\\nSerie de TV\\nChuck Bartowski\\n2007–2012 • 91 episodios\\nEnredados\\n7,7\\nFlynn Rider(voz)\\n2010\\nThor: El mundo oscuro\\n6,8\\nFandral\\n2013']\n"
     ]
    }
   ],
   "source": [
    "####parte añadida por lydia, nada claro,lo dejo de momento por si acaso pero creo que no va a servir..\n",
    "# iteramos sobre la lista de elementos\n",
    "for elemento in conocide_por:\n",
    "    # Acceder al texto dentro de cada elemento y agregarlo al diccionario\n",
    "    texto_elemento = elemento.text\n",
    "    dicc_actors[\"conocide_por\"].append(texto_elemento)\n",
    "\n",
    "# Imprimir el diccionario con los actores\n",
    "print(dicc_actors)\n",
    "\n",
    "\n",
    "\n",
    "titulos = []\n",
    "\n",
    "# Iteramos sobre la lista de elementos\n",
    "for elemento in conocide_por:\n",
    "    # Acceder al texto dentro de cada elemento y agregarlo a la lista de títulos\n",
    "    titulo_elemento = elemento.text\n",
    "    titulos.append(titulo_elemento)\n",
    "\n",
    "# Imprimir la lista de títulos\n",
    "print(titulos)\n",
    "\n",
    "\n",
    "\n",
    "\n",
    "\n",
    "\n"
   ]
  },
  {
   "cell_type": "code",
   "execution_count": null,
   "metadata": {},
   "outputs": [],
   "source": [
    "for pelicula in web_peli:\n",
    "    try:\n",
    "        url_imdb= f\"url{id}\"\n",
    "    \n",
    "    except:\n",
    "        pass"
   ]
  },
  {
   "cell_type": "code",
   "execution_count": null,
   "metadata": {},
   "outputs": [],
   "source": [
    "#para buscar premios\n",
    "driver.find_element(\"link text\", \"Premios\").click()"
   ]
  },
  {
   "cell_type": "code",
   "execution_count": null,
   "metadata": {},
   "outputs": [],
   "source": []
  }
 ],
 "metadata": {
  "kernelspec": {
   "display_name": "Python 3",
   "language": "python",
   "name": "python3"
  },
  "language_info": {
   "codemirror_mode": {
    "name": "ipython",
    "version": 3
   },
   "file_extension": ".py",
   "mimetype": "text/x-python",
   "name": "python",
   "nbconvert_exporter": "python",
   "pygments_lexer": "ipython3",
   "version": "3.12.3"
  }
 },
 "nbformat": 4,
 "nbformat_minor": 2
}
