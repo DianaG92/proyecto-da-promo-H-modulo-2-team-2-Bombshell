{
 "cells": [
  {
   "cell_type": "markdown",
   "metadata": {},
   "source": [
    "FASE 3: Extracción de Detalles de Actores con Selenium"
   ]
  },
  {
   "cell_type": "code",
   "execution_count": 7,
   "metadata": {},
   "outputs": [],
   "source": [
    "# Importar librerías para tratamiento de datos\n",
    "import pandas as pd  # Pandas es una poderosa librería para manipulación y análisis de datos en Python.\n",
    "\n",
    "# Importar librerías para web scraping y manipulación de datos\n",
    "from bs4 import BeautifulSoup\n",
    "\n",
    "# Importar librerías para automatización de navegadores web con Selenium\n",
    "from selenium import webdriver  # Selenium es una herramienta para automatizar la interacción con navegadores web.\n",
    "from webdriver_manager.chrome import ChromeDriverManager  # ChromeDriverManager gestiona la instalación del controlador de Chrome.\n",
    "from selenium.webdriver.common.keys import Keys  # Keys es útil para simular eventos de teclado en Selenium.\n",
    "from selenium.webdriver.support.ui import Select  # Select se utiliza para interactuar con elementos <select> en páginas web.\n",
    "\n",
    "# Importar librerías para pausar la ejecución\n",
    "from time import sleep  # Sleep se utiliza para pausar la ejecución del programa por un número de segundos.\n",
    "\n",
    "# Configuraciones\n",
    "pd.set_option('display.max_columns', None)  # Establece una opción de Pandas para mostrar todas las columnas de un DataFrame.\n"
   ]
  },
  {
   "cell_type": "code",
   "execution_count": 19,
   "metadata": {},
   "outputs": [],
   "source": [
    "import pandas as pd\n",
    "from selenium import webdriver \n",
    "from selenium.webdriver.support.ui import WebDriverWait\n",
    "from webdriver_manager.chrome import ChromeDriverManager\n",
    "from selenium.webdriver.support import expected_conditions as EC \n",
    "from selenium.webdriver.common.keys import Keys  \n",
    "from selenium.webdriver.support.ui import Select \n",
    "from selenium.webdriver.common.by import By \n",
    "from selenium.common.exceptions import NoSuchElementException  #Este importé para manejar más errores.\n",
    "from time import sleep\n",
    "import os\n",
    "import signal\n",
    "import sys"
   ]
  },
  {
   "cell_type": "markdown",
   "metadata": {},
   "source": [
    "Del csv con todas nuestras peliculas, nos quedamos solo con la columna de los ids (la comprobamos):"
   ]
  },
  {
   "cell_type": "code",
   "execution_count": 2,
   "metadata": {},
   "outputs": [],
   "source": [
    "df_pelis = pd.read_csv(\"peliculas_api.csv\")"
   ]
  },
  {
   "cell_type": "code",
   "execution_count": 3,
   "metadata": {},
   "outputs": [
    {
     "data": {
      "text/plain": [
       "Index(['Unnamed: 0', 'Tipo', 'Nombre', 'Año de Estreno', 'Mes de Estreno',\n",
       "       'ID de la Película', 'Genero'],\n",
       "      dtype='object')"
      ]
     },
     "execution_count": 3,
     "metadata": {},
     "output_type": "execute_result"
    }
   ],
   "source": [
    "df_pelis.keys()"
   ]
  },
  {
   "cell_type": "code",
   "execution_count": 4,
   "metadata": {},
   "outputs": [
    {
     "data": {
      "text/plain": [
       "0    tt0146592\n",
       "1    tt0154039\n",
       "2    tt0162942\n",
       "3    tt0230212\n",
       "4    tt0326965\n",
       "Name: ID de la Película, dtype: object"
      ]
     },
     "execution_count": 4,
     "metadata": {},
     "output_type": "execute_result"
    }
   ],
   "source": [
    "id_IMDB= df_pelis[\"ID de la Película\"]\n",
    "id_IMDB[:5]"
   ]
  },
  {
   "cell_type": "code",
   "execution_count": 5,
   "metadata": {},
   "outputs": [
    {
     "data": {
      "text/plain": [
       "'tt0146592'"
      ]
     },
     "execution_count": 5,
     "metadata": {},
     "output_type": "execute_result"
    }
   ],
   "source": [
    "id_IMDB[0]\n"
   ]
  },
  {
   "cell_type": "markdown",
   "metadata": {},
   "source": [
    "Comenzamos con SELENIUM!Por ahora, solo con una pelicula:"
   ]
  },
  {
   "cell_type": "code",
   "execution_count": 31,
   "metadata": {},
   "outputs": [
    {
     "ename": "ElementClickInterceptedException",
     "evalue": "Message: element click intercepted: Element is not clickable at point (727, 2111)\n  (Session info: chrome=124.0.6367.119)\nStacktrace:\n\tGetHandleVerifier [0x00007FF7DE171502+60802]\n\t(No symbol) [0x00007FF7DE0EAC02]\n\t(No symbol) [0x00007FF7DDFA7CE4]\n\t(No symbol) [0x00007FF7DDFFE877]\n\t(No symbol) [0x00007FF7DDFFC344]\n\t(No symbol) [0x00007FF7DDFF980A]\n\t(No symbol) [0x00007FF7DDFF89E2]\n\t(No symbol) [0x00007FF7DDFEAE8B]\n\t(No symbol) [0x00007FF7DE01AB7A]\n\t(No symbol) [0x00007FF7DDFEA7C6]\n\t(No symbol) [0x00007FF7DE01AD90]\n\t(No symbol) [0x00007FF7DE03A224]\n\t(No symbol) [0x00007FF7DE01A923]\n\t(No symbol) [0x00007FF7DDFE8FEC]\n\t(No symbol) [0x00007FF7DDFE9C21]\n\tGetHandleVerifier [0x00007FF7DE47411D+3217821]\n\tGetHandleVerifier [0x00007FF7DE4B60B7+3488055]\n\tGetHandleVerifier [0x00007FF7DE4AF03F+3459263]\n\tGetHandleVerifier [0x00007FF7DE22B846+823494]\n\t(No symbol) [0x00007FF7DE0F5F9F]\n\t(No symbol) [0x00007FF7DE0F0EC4]\n\t(No symbol) [0x00007FF7DE0F1052]\n\t(No symbol) [0x00007FF7DE0E18A4]\n\tBaseThreadInitThunk [0x00007FFFF9D1257D+29]\n\tRtlUserThreadStart [0x00007FFFFAAEAA48+40]\n",
     "output_type": "error",
     "traceback": [
      "\u001b[1;31m---------------------------------------------------------------------------\u001b[0m",
      "\u001b[1;31mElementClickInterceptedException\u001b[0m          Traceback (most recent call last)",
      "Cell \u001b[1;32mIn[31], line 23\u001b[0m\n\u001b[0;32m     21\u001b[0m \u001b[38;5;66;03m#cogemos el link de la primera persona actor/actriz de la peli, y creamos diccionario para guardar resultados.\u001b[39;00m\n\u001b[0;32m     22\u001b[0m \u001b[38;5;28;01mfor\u001b[39;00m i \u001b[38;5;129;01min\u001b[39;00m \u001b[38;5;28mrange\u001b[39m (\u001b[38;5;241m1\u001b[39m,\u001b[38;5;241m11\u001b[39m):\n\u001b[1;32m---> 23\u001b[0m     \u001b[43mdriver\u001b[49m\u001b[38;5;241;43m.\u001b[39;49m\u001b[43mfind_element\u001b[49m\u001b[43m(\u001b[49m\u001b[38;5;124;43m\"\u001b[39;49m\u001b[38;5;124;43mcss selector\u001b[39;49m\u001b[38;5;124;43m\"\u001b[39;49m\u001b[43m,\u001b[49m\u001b[43m \u001b[49m\u001b[38;5;124;43mf\u001b[39;49m\u001b[38;5;124;43m\"\u001b[39;49m\u001b[38;5;124;43m#__next > main > div > section.ipc-page-background.ipc-page-background--base.sc-304f99f6-0.fSJiHR > div > section > div > div.sc-978e9339-1.ihWZgK.ipc-page-grid__item.ipc-page-grid__item--span-2 > section.ipc-page-section.ipc-page-section--base.sc-bfec09a1-0.jgUBLM.title-cast.title-cast--movie.celwidget > div.ipc-shoveler.ipc-shoveler--base.ipc-shoveler--page0.title-cast__grid > div.ipc-sub-grid.ipc-sub-grid--page-span-2.ipc-sub-grid--wraps-at-above-l.ipc-shoveler__grid > div:nth-child(\u001b[39;49m\u001b[38;5;132;43;01m{\u001b[39;49;00m\u001b[43mi\u001b[49m\u001b[38;5;132;43;01m}\u001b[39;49;00m\u001b[38;5;124;43m) > div.sc-bfec09a1-7.gWwKlt > a\u001b[39;49m\u001b[38;5;124;43m\"\u001b[39;49m\u001b[43m)\u001b[49m\u001b[38;5;241;43m.\u001b[39;49m\u001b[43mclick\u001b[49m\u001b[43m(\u001b[49m\u001b[43m)\u001b[49m\n\u001b[0;32m     25\u001b[0m     sleep(\u001b[38;5;241m3\u001b[39m)\n\u001b[0;32m     28\u001b[0m     \u001b[38;5;66;03m#Extraemos el nombre y apendeamos al diccionario.\u001b[39;00m\n",
      "File \u001b[1;32m~\\AppData\\Local\\Packages\\PythonSoftwareFoundation.Python.3.12_qbz5n2kfra8p0\\LocalCache\\local-packages\\Python312\\site-packages\\selenium\\webdriver\\remote\\webelement.py:94\u001b[0m, in \u001b[0;36mWebElement.click\u001b[1;34m(self)\u001b[0m\n\u001b[0;32m     92\u001b[0m \u001b[38;5;28;01mdef\u001b[39;00m \u001b[38;5;21mclick\u001b[39m(\u001b[38;5;28mself\u001b[39m) \u001b[38;5;241m-\u001b[39m\u001b[38;5;241m>\u001b[39m \u001b[38;5;28;01mNone\u001b[39;00m:\n\u001b[0;32m     93\u001b[0m \u001b[38;5;250m    \u001b[39m\u001b[38;5;124;03m\"\"\"Clicks the element.\"\"\"\u001b[39;00m\n\u001b[1;32m---> 94\u001b[0m     \u001b[38;5;28;43mself\u001b[39;49m\u001b[38;5;241;43m.\u001b[39;49m\u001b[43m_execute\u001b[49m\u001b[43m(\u001b[49m\u001b[43mCommand\u001b[49m\u001b[38;5;241;43m.\u001b[39;49m\u001b[43mCLICK_ELEMENT\u001b[49m\u001b[43m)\u001b[49m\n",
      "File \u001b[1;32m~\\AppData\\Local\\Packages\\PythonSoftwareFoundation.Python.3.12_qbz5n2kfra8p0\\LocalCache\\local-packages\\Python312\\site-packages\\selenium\\webdriver\\remote\\webelement.py:395\u001b[0m, in \u001b[0;36mWebElement._execute\u001b[1;34m(self, command, params)\u001b[0m\n\u001b[0;32m    393\u001b[0m     params \u001b[38;5;241m=\u001b[39m {}\n\u001b[0;32m    394\u001b[0m params[\u001b[38;5;124m\"\u001b[39m\u001b[38;5;124mid\u001b[39m\u001b[38;5;124m\"\u001b[39m] \u001b[38;5;241m=\u001b[39m \u001b[38;5;28mself\u001b[39m\u001b[38;5;241m.\u001b[39m_id\n\u001b[1;32m--> 395\u001b[0m \u001b[38;5;28;01mreturn\u001b[39;00m \u001b[38;5;28;43mself\u001b[39;49m\u001b[38;5;241;43m.\u001b[39;49m\u001b[43m_parent\u001b[49m\u001b[38;5;241;43m.\u001b[39;49m\u001b[43mexecute\u001b[49m\u001b[43m(\u001b[49m\u001b[43mcommand\u001b[49m\u001b[43m,\u001b[49m\u001b[43m \u001b[49m\u001b[43mparams\u001b[49m\u001b[43m)\u001b[49m\n",
      "File \u001b[1;32m~\\AppData\\Local\\Packages\\PythonSoftwareFoundation.Python.3.12_qbz5n2kfra8p0\\LocalCache\\local-packages\\Python312\\site-packages\\selenium\\webdriver\\remote\\webdriver.py:347\u001b[0m, in \u001b[0;36mWebDriver.execute\u001b[1;34m(self, driver_command, params)\u001b[0m\n\u001b[0;32m    345\u001b[0m response \u001b[38;5;241m=\u001b[39m \u001b[38;5;28mself\u001b[39m\u001b[38;5;241m.\u001b[39mcommand_executor\u001b[38;5;241m.\u001b[39mexecute(driver_command, params)\n\u001b[0;32m    346\u001b[0m \u001b[38;5;28;01mif\u001b[39;00m response:\n\u001b[1;32m--> 347\u001b[0m     \u001b[38;5;28;43mself\u001b[39;49m\u001b[38;5;241;43m.\u001b[39;49m\u001b[43merror_handler\u001b[49m\u001b[38;5;241;43m.\u001b[39;49m\u001b[43mcheck_response\u001b[49m\u001b[43m(\u001b[49m\u001b[43mresponse\u001b[49m\u001b[43m)\u001b[49m\n\u001b[0;32m    348\u001b[0m     response[\u001b[38;5;124m\"\u001b[39m\u001b[38;5;124mvalue\u001b[39m\u001b[38;5;124m\"\u001b[39m] \u001b[38;5;241m=\u001b[39m \u001b[38;5;28mself\u001b[39m\u001b[38;5;241m.\u001b[39m_unwrap_value(response\u001b[38;5;241m.\u001b[39mget(\u001b[38;5;124m\"\u001b[39m\u001b[38;5;124mvalue\u001b[39m\u001b[38;5;124m\"\u001b[39m, \u001b[38;5;28;01mNone\u001b[39;00m))\n\u001b[0;32m    349\u001b[0m     \u001b[38;5;28;01mreturn\u001b[39;00m response\n",
      "File \u001b[1;32m~\\AppData\\Local\\Packages\\PythonSoftwareFoundation.Python.3.12_qbz5n2kfra8p0\\LocalCache\\local-packages\\Python312\\site-packages\\selenium\\webdriver\\remote\\errorhandler.py:229\u001b[0m, in \u001b[0;36mErrorHandler.check_response\u001b[1;34m(self, response)\u001b[0m\n\u001b[0;32m    227\u001b[0m         alert_text \u001b[38;5;241m=\u001b[39m value[\u001b[38;5;124m\"\u001b[39m\u001b[38;5;124malert\u001b[39m\u001b[38;5;124m\"\u001b[39m]\u001b[38;5;241m.\u001b[39mget(\u001b[38;5;124m\"\u001b[39m\u001b[38;5;124mtext\u001b[39m\u001b[38;5;124m\"\u001b[39m)\n\u001b[0;32m    228\u001b[0m     \u001b[38;5;28;01mraise\u001b[39;00m exception_class(message, screen, stacktrace, alert_text)  \u001b[38;5;66;03m# type: ignore[call-arg]  # mypy is not smart enough here\u001b[39;00m\n\u001b[1;32m--> 229\u001b[0m \u001b[38;5;28;01mraise\u001b[39;00m exception_class(message, screen, stacktrace)\n",
      "\u001b[1;31mElementClickInterceptedException\u001b[0m: Message: element click intercepted: Element is not clickable at point (727, 2111)\n  (Session info: chrome=124.0.6367.119)\nStacktrace:\n\tGetHandleVerifier [0x00007FF7DE171502+60802]\n\t(No symbol) [0x00007FF7DE0EAC02]\n\t(No symbol) [0x00007FF7DDFA7CE4]\n\t(No symbol) [0x00007FF7DDFFE877]\n\t(No symbol) [0x00007FF7DDFFC344]\n\t(No symbol) [0x00007FF7DDFF980A]\n\t(No symbol) [0x00007FF7DDFF89E2]\n\t(No symbol) [0x00007FF7DDFEAE8B]\n\t(No symbol) [0x00007FF7DE01AB7A]\n\t(No symbol) [0x00007FF7DDFEA7C6]\n\t(No symbol) [0x00007FF7DE01AD90]\n\t(No symbol) [0x00007FF7DE03A224]\n\t(No symbol) [0x00007FF7DE01A923]\n\t(No symbol) [0x00007FF7DDFE8FEC]\n\t(No symbol) [0x00007FF7DDFE9C21]\n\tGetHandleVerifier [0x00007FF7DE47411D+3217821]\n\tGetHandleVerifier [0x00007FF7DE4B60B7+3488055]\n\tGetHandleVerifier [0x00007FF7DE4AF03F+3459263]\n\tGetHandleVerifier [0x00007FF7DE22B846+823494]\n\t(No symbol) [0x00007FF7DE0F5F9F]\n\t(No symbol) [0x00007FF7DE0F0EC4]\n\t(No symbol) [0x00007FF7DE0F1052]\n\t(No symbol) [0x00007FF7DE0E18A4]\n\tBaseThreadInitThunk [0x00007FFFF9D1257D+29]\n\tRtlUserThreadStart [0x00007FFFFAAEAA48+40]\n"
     ]
    }
   ],
   "source": [
    "driver = webdriver.Chrome()\n",
    "driver.get(\"https://www.imdb.com/title/tt0448115/\")\n",
    "\n",
    "sleep(3)\n",
    "#aceptamos cookies\n",
    "driver.find_element(\"css selector\", \"#__next > div > div > div.sc-jrcTuL.bPmWiM > div > button.icb-btn.sc-bcXHqe.sc-dkrFOg.sc-iBYQkv.dcvrLS.ddtuHe.dRCGjd\").click()\n",
    "\n",
    "sleep(2)\n",
    "#ampliamos pantalla\n",
    "driver.maximize_window()\n",
    "\n",
    "#hacemos scroll hasta lxs actores y actrices y creamos dicc donde meteremos la info.\n",
    "driver.execute_script(\"window.scrollTo(0,2000)\")\n",
    "sleep(2)\n",
    "dicc_actors= {\"Nombre actr\" : [], \n",
    "              \"conocide_por\": [],\n",
    "              \"año_nacimiento\":[],\n",
    "              \"profesión\": [],\n",
    "              \"premios\": []}\n",
    "\n",
    "#cogemos el link de la primera persona actor/actriz de la peli, y creamos diccionario para guardar resultados.\n",
    "for i in range (1,11):\n",
    "    driver.find_element(\"css selector\", f\"#__next > main > div > section.ipc-page-background.ipc-page-background--base.sc-304f99f6-0.fSJiHR > div > section > div > div.sc-978e9339-1.ihWZgK.ipc-page-grid__item.ipc-page-grid__item--span-2 > section.ipc-page-section.ipc-page-section--base.sc-bfec09a1-0.jgUBLM.title-cast.title-cast--movie.celwidget > div.ipc-shoveler.ipc-shoveler--base.ipc-shoveler--page0.title-cast__grid > div.ipc-sub-grid.ipc-sub-grid--page-span-2.ipc-sub-grid--wraps-at-above-l.ipc-shoveler__grid > div:nth-child({i}) > div.sc-bfec09a1-7.gWwKlt > a\").click()\n",
    "\n",
    "    sleep(3)\n",
    "\n",
    "\n",
    "    #Extraemos el nombre y apendeamos al diccionario.\n",
    "    nombre_act = driver.find_element(\"css selector\", \"#__next > main > div > section.ipc-page-background.ipc-page-background--base.sc-304f99f6-0.fSJiHR > section > div:nth-child(5) > section > section > div.sc-92625f35-3.frxYSZ > div > h1 > span\").text\n",
    "    dicc_actors[\"Nombre actr\"].append(nombre_act)\n",
    "\n",
    "    sleep(5)\n",
    "\n",
    "    #Extraemos las pelis por las que se le conoce y apendeamos al diccionario.\n",
    "    conocide_por= driver.find_element(\"css selector\", \"#__next > main > div > section.ipc-page-background.ipc-page-background--base.sc-304f99f6-0.fSJiHR > div > section > div > div.sc-978e9339-1.ihWZgK.ipc-page-grid__item.ipc-page-grid__item--span-2 > div.celwidget > section:nth-child(1) > div.sc-a6d4b6c0-0.bBRhdF > div > div.ipc-sub-grid.ipc-sub-grid--page-span-2.ipc-sub-grid--wraps-at-above-l.ipc-shoveler__grid > div:nth-child(1) > div.ipc-primary-image-list-card__content > div.ipc-primary-image-list-card__content-top > a\").text\n",
    "    dicc_actors[\"conocide_por\"].append(conocide_por)\n",
    "\n",
    "    sleep(2)\n",
    "\n",
    "    conocide_por2=driver.find_element(\"css selector\", \"#__next > main > div > section.ipc-page-background.ipc-page-background--base.sc-304f99f6-0.fSJiHR > div > section > div > div.sc-978e9339-1.ihWZgK.ipc-page-grid__item.ipc-page-grid__item--span-2 > div.celwidget > section:nth-child(1) > div.sc-a6d4b6c0-0.bBRhdF > div > div.ipc-sub-grid.ipc-sub-grid--page-span-2.ipc-sub-grid--wraps-at-above-l.ipc-shoveler__grid > div:nth-child(2) > div.ipc-primary-image-list-card__content > div.ipc-primary-image-list-card__content-top > a\").text\n",
    "    dicc_actors[\"conocide_por\"].append(conocide_por2)\n",
    "\n",
    "    #Extraemos la fecha de nacimiento y apendeamos al diccionario.\n",
    "    sleep(3)\n",
    "    fecha_nacimiento= driver.find_element(\"css selector\", \"#__next > main > div > section.ipc-page-background.ipc-page-background--base.sc-304f99f6-0.fSJiHR > section > div:nth-child(5) > section > section > div.sc-92625f35-4.iDcoFI > div.sc-92625f35-6.gHKhNg > div.sc-92625f35-11.eyxQlE > section > aside > div > span:nth-child(2)\").text\n",
    "    dicc_actors[\"año_nacimiento\"].append(fecha_nacimiento)\n",
    "\n",
    "    #Extraemos la información sobre lo que hace y apendeamos al diccionario como \"profesión\".\n",
    "    sleep(2)\n",
    "    driver.execute_script(\"window.scrollTo(0,4000)\")\n",
    "\n",
    "    sleep(2)\n",
    "    profesion = driver.find_element(\"css selector\", \"#__next > main > div > section.ipc-page-background.ipc-page-background--base.sc-304f99f6-0.fSJiHR > section > div:nth-child(5) > section > section > div.sc-92625f35-3.frxYSZ > div > ul\").text\n",
    "    profesion_limpia = profesion.replace(\"\\n\", \", \")\n",
    "    dicc_actors[\"profesión\"].append(profesion_limpia)\n",
    "\n",
    "\n",
    "    sleep(2)\n",
    "    #por último, cogemos los premios, si los tiene y los apendeamos al diccionario.\n",
    "    try:\n",
    "        premios = driver.find_element(\"xpath\", '//*[@id=\"__next\"]/main/div/section[1]/div/section/div/div[1]/section[2]/div/ul/li/div/ul/li/span').text   #\"css selector\", \"#__next > main > div > section.ipc-page-background.ipc-page-background--base.sc-304f99f6-0.fSJiHR > div > section > div > div.sc-978e9339-1.ihWZgK.ipc-page-grid__item.ipc-page-grid__item--span-2 > section:nth-child(8) > div > ul > li > div > ul > li > span\").text\n",
    "        dicc_actors[\"premios\"].append(premios)\n",
    "\n",
    "    except NoSuchElementException:\n",
    "        print(\"No tiene premios ni nominaciones.\")\n",
    "\n",
    "    driver.back()\n",
    "\n"
   ]
  },
  {
   "cell_type": "code",
   "execution_count": 32,
   "metadata": {},
   "outputs": [
    {
     "data": {
      "text/plain": [
       "{'Nombre actr': ['Zachary Levi'],\n",
       " 'conocide_por': ['¡Shazam!', 'Chuck'],\n",
       " 'año_nacimiento': ['29 de septiembre de 1980'],\n",
       " 'profesión': ['Reparto, Producción, Dirección'],\n",
       " 'premios': ['3 premios y 23 nominaciones']}"
      ]
     },
     "execution_count": 32,
     "metadata": {},
     "output_type": "execute_result"
    }
   ],
   "source": [
    "dicc_actors"
   ]
  },
  {
   "cell_type": "code",
   "execution_count": null,
   "metadata": {},
   "outputs": [],
   "source": [
    "#CSS\n",
    "# #__next > main > div > section.ipc-page-background.ipc-page-background--base.sc-304f99f6-0.fSJiHR > div > section > div > div.sc-978e9339-1.ihWZgK.ipc-page-grid__item.ipc-page-grid__item--span-2 > section.ipc-page-section.ipc-page-section--base.sc-bfec09a1-0.jgUBLM.title-cast.title-cast--movie.celwidget > div.ipc-shoveler.ipc-shoveler--base.ipc-shoveler--page0.title-cast__grid > div.ipc-sub-grid.ipc-sub-grid--page-span-2.ipc-sub-grid--wraps-at-above-l.ipc-shoveler__grid > div:nth-child(1) > div.sc-bfec09a1-7.gWwKlt > a\"\n",
    "# #__next > main > div > section.ipc-page-background.ipc-page-background--base.sc-304f99f6-0.fSJiHR > div > section > div > div.sc-978e9339-1.ihWZgK.ipc-page-grid__item.ipc-page-grid__item--span-2 > section.ipc-page-section.ipc-page-section--base.sc-bfec09a1-0.jgUBLM.title-cast.title-cast--movie.celwidget > div.ipc-shoveler.ipc-shoveler--base.ipc-shoveler--page0.title-cast__grid > div.ipc-sub-grid.ipc-sub-grid--page-span-2.ipc-sub-grid--wraps-at-above-l.ipc-shoveler__grid > div:nth-child(2)\n",
    "# #__next > main > div > section.ipc-page-background.ipc-page-background--base.sc-304f99f6-0.fSJiHR > div > section > div > div.sc-978e9339-1.ihWZgK.ipc-page-grid__item.ipc-page-grid__item--span-2 > section.ipc-page-section.ipc-page-section--base.sc-bfec09a1-0.jgUBLM.title-cast.title-cast--movie.celwidget > div.ipc-shoveler.ipc-shoveler--base.ipc-shoveler--page0.title-cast__grid > div.ipc-sub-grid.ipc-sub-grid--page-span-2.ipc-sub-grid--wraps-at-above-l.ipc-shoveler__grid > div:nth-child(3)\n",
    "# #__next > main > div > section.ipc-page-background.ipc-page-background--base.sc-304f99f6-0.fSJiHR > div > section > div > div.sc-978e9339-1.ihWZgK.ipc-page-grid__item.ipc-page-grid__item--span-2 > section.ipc-page-section.ipc-page-section--base.sc-bfec09a1-0.jgUBLM.title-cast.title-cast--movie.celwidget > div.ipc-shoveler.ipc-shoveler--base.ipc-shoveler--page2.title-cast__grid > div.ipc-sub-grid.ipc-sub-grid--page-span-2.ipc-sub-grid--wraps-at-above-l.ipc-shoveler__grid > div:nth-child(10)"
   ]
  },
  {
   "cell_type": "markdown",
   "metadata": {},
   "source": [
    "Creamos una lista vacía para los primeros 10 actores/actrices (link desde la página principal). donde solo cambia el numero, {i}"
   ]
  },
  {
   "cell_type": "code",
   "execution_count": 22,
   "metadata": {},
   "outputs": [],
   "source": [
    "driver = webdriver.Chrome()\n",
    "driver.get(\"https://www.imdb.com/title/tt0448115/\")\n",
    "\n",
    "sleep(3)\n",
    "\n",
    "driver.find_element(\"css selector\", \"#__next > div > div > div.sc-jrcTuL.bPmWiM > div > button.icb-btn.sc-bcXHqe.sc-dkrFOg.sc-iBYQkv.dcvrLS.ddtuHe.dRCGjd\").click()\n",
    "\n",
    "sleep(2)\n",
    "\n",
    "driver.maximize_window()\n",
    "\n",
    "driver.execute_script(\"window.scrollTo(0,2000)\")\n",
    "sleep(2)\n",
    "\n",
    "dicc_actors = {\"nombre_act\": [], \"conocide_por\": []}\n",
    "\n",
    "#me voy al primer actor/actriz\n",
    "#driver.find_element(\"css selector\", \"#__next > main > div > section.ipc-page-background.ipc-page-background--base.sc-304f99f6-0.fSJiHR > div > section > div > div.sc-978e9339-1.ihWZgK.ipc-page-grid__item.ipc-page-grid__item--span-2 > section.ipc-page-section.ipc-page-section--base.sc-bfec09a1-0.jgUBLM.title-cast.title-cast--movie.celwidget > div.ipc-shoveler.ipc-shoveler--base.ipc-shoveler--page0.title-cast__grid > div.ipc-sub-grid.ipc-sub-grid--page-span-2.ipc-sub-grid--wraps-at-above-l.ipc-shoveler__grid > div:nth-child(1) > div.sc-bfec09a1-7.gWwKlt > a\").click()\n",
    "#sleep(3)\n",
    "\n",
    "lista_url=[]\n",
    "for i in range (1,11):\n",
    "    lista_url.append(driver.find_element(\"css selector\", f\"#__next > main > div > section.ipc-page-background.ipc-page-background--base.sc-304f99f6-0.fSJiHR > div > section > div > div.sc-978e9339-1.ihWZgK.ipc-page-grid__item.ipc-page-grid__item--span-2 > section.ipc-page-section.ipc-page-section--base.sc-bfec09a1-0.jgUBLM.title-cast.title-cast--movie.celwidget > div.ipc-shoveler.ipc-shoveler--base.ipc-shoveler--page0.title-cast__grid > div.ipc-sub-grid.ipc-sub-grid--page-span-2.ipc-sub-grid--wraps-at-above-l.ipc-shoveler__grid > div:nth-child({i})\").text)\n",
    "\n",
    "driver.close()\n"
   ]
  },
  {
   "cell_type": "markdown",
   "metadata": {},
   "source": [
    "Extraemos los 10 primeros nombres de los actores y actrices de la película."
   ]
  },
  {
   "cell_type": "code",
   "execution_count": 36,
   "metadata": {},
   "outputs": [
    {
     "data": {
      "text/plain": [
       "['Zachary Levi',\n",
       " 'Mark Strong',\n",
       " 'Asher Angel',\n",
       " 'Jack Dylan Grazer',\n",
       " 'Adam Brody',\n",
       " 'Djimon Hounsou',\n",
       " 'Faithe Herman',\n",
       " 'Meagan Good',\n",
       " 'Grace Caroline Currey',\n",
       " 'Michelle Borth']"
      ]
     },
     "execution_count": 36,
     "metadata": {},
     "output_type": "execute_result"
    }
   ],
   "source": [
    "lista_url\n",
    "nombres_10 = [nombre.split('\\n')[0] for nombre in lista_url]\n",
    "nombres_10\n"
   ]
  },
  {
   "cell_type": "code",
   "execution_count": 34,
   "metadata": {},
   "outputs": [],
   "source": [
    "nombres_10.append(dicc_actors[\"nombre_act\"])\n",
    "\n",
    "#Creo que hay que crear otro bucle for para que appendee"
   ]
  },
  {
   "cell_type": "code",
   "execution_count": null,
   "metadata": {},
   "outputs": [],
   "source": [
    "#COMPROBANDO css selectores- actores\n",
    "#\"#__next > main > div > section.ipc-page-background.ipc-page-background--base.sc-304f99f6-0.fSJiHR > div > section > div > div.sc-978e9339-1.ihWZgK.ipc-page-grid__item.ipc-page-grid__item--span-2 > section.ipc-page-section.ipc-page-section--base.sc-bfec09a1-0.jgUBLM.title-cast.title-cast--movie.celwidget > div.ipc-shoveler.ipc-shoveler--base.ipc-shoveler--page0.title-cast__grid > div.ipc-sub-grid.ipc-sub-grid--page-span-2.ipc-sub-grid--wraps-at-above-l.ipc-shoveler__grid > div:nth-child(1)\"\n",
    "#\"#__next > main > div > section.ipc-page-background.ipc-page-background--base.sc-304f99f6-0.fSJiHR > div > section > div > div.sc-978e9339-1.ihWZgK.ipc-page-grid__item.ipc-page-grid__item--span-2 > section.ipc-page-section.ipc-page-section--base.sc-bfec09a1-0.jgUBLM.title-cast.title-cast--movie.celwidget > div.ipc-shoveler.ipc-shoveler--base.ipc-shoveler--page0.title-cast__grid > div.ipc-sub-grid.ipc-sub-grid--page-span-2.ipc-sub-grid--wraps-at-above-l.ipc-shoveler__grid > div:nth-child(2)\"\n",
    "#\"#__next > main > div > section.ipc-page-background.ipc-page-background--base.sc-304f99f6-0.fSJiHR > div > section > div > div.sc-978e9339-1.ihWZgK.ipc-page-grid__item.ipc-page-grid__item--span-2 > section.ipc-page-section.ipc-page-section--base.sc-bfec09a1-0.jgUBLM.title-cast.title-cast--movie.celwidget > div.ipc-shoveler.ipc-shoveler--base.ipc-shoveler--page0.title-cast__grid > div.ipc-sub-grid.ipc-sub-grid--page-span-2.ipc-sub-grid--wraps-at-above-l.ipc-shoveler__grid > div:nth-child(3)\"\n",
    "#num10\n",
    "##__next > main > div > section.ipc-page-background.ipc-page-background--base.sc-304f99f6-0.fSJiHR > div > section > div > div.sc-978e9339-1.ihWZgK.ipc-page-grid__item.ipc-page-grid__item--span-2 > section.ipc-page-section.ipc-page-section--base.sc-bfec09a1-0.jgUBLM.title-cast.title-cast--movie.celwidget > div.ipc-shoveler.ipc-shoveler--base.ipc-shoveler--page2.title-cast__grid > div.ipc-sub-grid.ipc-sub-grid--page-span-2.ipc-sub-grid--wraps-at-above-l.ipc-shoveler__grid > div:nth-child(10)"
   ]
  },
  {
   "cell_type": "code",
   "execution_count": 22,
   "metadata": {},
   "outputs": [
    {
     "name": "stdout",
     "output_type": "stream",
     "text": [
      "{'nombre_act': [], 'conocide_por': [[<selenium.webdriver.remote.webelement.WebElement (session=\"2233b7d8995ac68a79291a4b3f6aac02\", element=\"f.56DF74BB773B3C8ADF456FFECAE83645.d.8DE69033094D88C6D477C1A3E87CFC28.e.186\")>], '¡Shazam!\\n7,0\\nShazam\\n2019\\nChuck\\n8,2\\nSerie de TV\\nChuck Bartowski\\n2007–2012 • 91 episodios\\nEnredados\\n7,7\\nFlynn Rider(voz)\\n2010\\nThor: El mundo oscuro\\n6,8\\nFandral\\n2013', '¡Shazam!\\n7,0\\nShazam\\n2019\\nChuck\\n8,2\\nSerie de TV\\nChuck Bartowski\\n2007–2012 • 91 episodios\\nEnredados\\n7,7\\nFlynn Rider(voz)\\n2010\\nThor: El mundo oscuro\\n6,8\\nFandral\\n2013', '¡Shazam!\\n7,0\\nShazam\\n2019\\nChuck\\n8,2\\nSerie de TV\\nChuck Bartowski\\n2007–2012 • 91 episodios\\nEnredados\\n7,7\\nFlynn Rider(voz)\\n2010\\nThor: El mundo oscuro\\n6,8\\nFandral\\n2013', '¡Shazam!\\n7,0\\nShazam\\n2019\\nChuck\\n8,2\\nSerie de TV\\nChuck Bartowski\\n2007–2012 • 91 episodios\\nEnredados\\n7,7\\nFlynn Rider(voz)\\n2010\\nThor: El mundo oscuro\\n6,8\\nFandral\\n2013', '¡Shazam!\\n7,0\\nShazam\\n2019\\nChuck\\n8,2\\nSerie de TV\\nChuck Bartowski\\n2007–2012 • 91 episodios\\nEnredados\\n7,7\\nFlynn Rider(voz)\\n2010\\nThor: El mundo oscuro\\n6,8\\nFandral\\n2013']}\n",
      "['¡Shazam!\\n7,0\\nShazam\\n2019\\nChuck\\n8,2\\nSerie de TV\\nChuck Bartowski\\n2007–2012 • 91 episodios\\nEnredados\\n7,7\\nFlynn Rider(voz)\\n2010\\nThor: El mundo oscuro\\n6,8\\nFandral\\n2013']\n"
     ]
    }
   ],
   "source": [
    "####parte añadida por lydia, nada claro,lo dejo de momento por si acaso pero creo que no va a servir..\n",
    "# iteramos sobre la lista de elementos\n",
    "for elemento in conocide_por:\n",
    "    # Acceder al texto dentro de cada elemento y agregarlo al diccionario\n",
    "    texto_elemento = elemento.text\n",
    "    dicc_actors[\"conocide_por\"].append(texto_elemento)\n",
    "\n",
    "# Imprimir el diccionario con los actores\n",
    "print(dicc_actors)\n",
    "\n",
    "\n",
    "\n",
    "titulos = []\n",
    "\n",
    "# Iteramos sobre la lista de elementos\n",
    "for elemento in conocide_por:\n",
    "    # Acceder al texto dentro de cada elemento y agregarlo a la lista de títulos\n",
    "    titulo_elemento = elemento.text\n",
    "    titulos.append(titulo_elemento)\n",
    "\n",
    "# Imprimir la lista de títulos\n",
    "print(titulos)\n",
    "\n",
    "\n",
    "\n",
    "\n",
    "\n",
    "\n"
   ]
  },
  {
   "cell_type": "code",
   "execution_count": null,
   "metadata": {},
   "outputs": [],
   "source": [
    "for pelicula in web_peli:\n",
    "    try:\n",
    "        url_imdb= f\"url{id}\"\n",
    "    \n",
    "    except:\n",
    "        pass"
   ]
  },
  {
   "cell_type": "code",
   "execution_count": null,
   "metadata": {},
   "outputs": [],
   "source": [
    "#para buscar premios\n",
    "driver.find_element(\"link text\", \"Premios\").click()"
   ]
  },
  {
   "cell_type": "code",
   "execution_count": null,
   "metadata": {},
   "outputs": [],
   "source": []
  }
 ],
 "metadata": {
  "kernelspec": {
   "display_name": "Python 3",
   "language": "python",
   "name": "python3"
  },
  "language_info": {
   "codemirror_mode": {
    "name": "ipython",
    "version": 3
   },
   "file_extension": ".py",
   "mimetype": "text/x-python",
   "name": "python",
   "nbconvert_exporter": "python",
   "pygments_lexer": "ipython3",
   "version": "3.12.3"
  }
 },
 "nbformat": 4,
 "nbformat_minor": 2
}
