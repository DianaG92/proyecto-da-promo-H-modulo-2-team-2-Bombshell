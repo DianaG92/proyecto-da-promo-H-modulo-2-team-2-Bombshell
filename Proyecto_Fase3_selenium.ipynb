{
 "cells": [
  {
   "cell_type": "markdown",
   "metadata": {},
   "source": [
    "FASE 3: Extracción de Detalles de Actores con Selenium"
   ]
  },
  {
   "cell_type": "code",
   "execution_count": 1,
   "metadata": {},
   "outputs": [
    {
     "name": "stderr",
     "output_type": "stream",
     "text": [
      "/Users/lydiafrailemartin/Library/Python/3.9/lib/python/site-packages/urllib3/__init__.py:35: NotOpenSSLWarning: urllib3 v2 only supports OpenSSL 1.1.1+, currently the 'ssl' module is compiled with 'LibreSSL 2.8.3'. See: https://github.com/urllib3/urllib3/issues/3020\n",
      "  warnings.warn(\n"
     ]
    }
   ],
   "source": [
    "# Importar librerías para tratamiento de datos\n",
    "import pandas as pd  # Pandas es una poderosa librería para manipulación y análisis de datos en Python.\n",
    "\n",
    "# Importar librerías para web scraping y manipulación de datos\n",
    "from bs4 import BeautifulSoup\n",
    "\n",
    "# Importar librerías para automatización de navegadores web con Selenium\n",
    "from selenium import webdriver  # Selenium es una herramienta para automatizar la interacción con navegadores web.\n",
    "from webdriver_manager.chrome import ChromeDriverManager  # ChromeDriverManager gestiona la instalación del controlador de Chrome.\n",
    "from selenium.webdriver.common.keys import Keys  # Keys es útil para simular eventos de teclado en Selenium.\n",
    "from selenium.webdriver.support.ui import Select  # Select se utiliza para interactuar con elementos <select> en páginas web.\n",
    "\n",
    "# Importar librerías para pausar la ejecución\n",
    "from time import sleep  # Sleep se utiliza para pausar la ejecución del programa por un número de segundos.\n",
    "\n",
    "# Configuraciones\n",
    "pd.set_option('display.max_columns', None)  # Establece una opción de Pandas para mostrar todas las columnas de un DataFrame.\n"
   ]
  },
  {
   "cell_type": "markdown",
   "metadata": {},
   "source": [
    "Del csv con todas nuestras peliculas, nos quedamos solo con la columna de los ids (la comprobamos):"
   ]
  },
  {
   "cell_type": "code",
   "execution_count": 2,
   "metadata": {},
   "outputs": [],
   "source": [
    "df_pelis = pd.read_csv(\"peliculas_combinadas.csv\")"
   ]
  },
  {
   "cell_type": "code",
   "execution_count": 3,
   "metadata": {},
   "outputs": [
    {
     "data": {
      "text/plain": [
       "0    tt10225380\n",
       "1    tt10844184\n",
       "2    tt10928904\n",
       "3    tt11078340\n",
       "4    tt11374514\n",
       "Name: ID, dtype: object"
      ]
     },
     "execution_count": 3,
     "metadata": {},
     "output_type": "execute_result"
    }
   ],
   "source": [
    "id_IMDB= df_pelis[\"ID\"]\n",
    "id_IMDB[:5]"
   ]
  },
  {
   "cell_type": "code",
   "execution_count": 4,
   "metadata": {},
   "outputs": [
    {
     "data": {
      "text/html": [
       "<div>\n",
       "<style scoped>\n",
       "    .dataframe tbody tr th:only-of-type {\n",
       "        vertical-align: middle;\n",
       "    }\n",
       "\n",
       "    .dataframe tbody tr th {\n",
       "        vertical-align: top;\n",
       "    }\n",
       "\n",
       "    .dataframe thead th {\n",
       "        text-align: right;\n",
       "    }\n",
       "</style>\n",
       "<table border=\"1\" class=\"dataframe\">\n",
       "  <thead>\n",
       "    <tr style=\"text-align: right;\">\n",
       "      <th></th>\n",
       "      <th>ID</th>\n",
       "      <th>Nombre</th>\n",
       "      <th>Tipo</th>\n",
       "      <th>Año de Estreno</th>\n",
       "      <th>Mes de Estreno</th>\n",
       "      <th>Genero</th>\n",
       "    </tr>\n",
       "  </thead>\n",
       "  <tbody>\n",
       "    <tr>\n",
       "      <th>2</th>\n",
       "      <td>tt10928904</td>\n",
       "      <td>The Legend of Johnny Jones</td>\n",
       "      <td>Movie</td>\n",
       "      <td>2024</td>\n",
       "      <td>10</td>\n",
       "      <td>Accion</td>\n",
       "    </tr>\n",
       "  </tbody>\n",
       "</table>\n",
       "</div>"
      ],
      "text/plain": [
       "           ID                      Nombre   Tipo Año de Estreno  \\\n",
       "2  tt10928904  The Legend of Johnny Jones  Movie           2024   \n",
       "\n",
       "  Mes de Estreno  Genero  \n",
       "2             10  Accion  "
      ]
     },
     "execution_count": 4,
     "metadata": {},
     "output_type": "execute_result"
    }
   ],
   "source": [
    "df_pelis[2:3]\n"
   ]
  },
  {
   "cell_type": "markdown",
   "metadata": {},
   "source": [
    "Comenzamos con SELENIUM!Por ahora, solo con una pelicula:"
   ]
  },
  {
   "cell_type": "code",
   "execution_count": 27,
   "metadata": {},
   "outputs": [
    {
     "name": "stderr",
     "output_type": "stream",
     "text": [
      "There was an error managing chromedriver (error sending request for url (https://googlechromelabs.github.io/chrome-for-testing/known-good-versions-with-downloads.json): error trying to connect: dns error: failed to lookup address information: nodename nor servname provided, or not known); using driver found in the cache\n",
      "Error sending stats to Plausible: error sending request for url (https://plausible.io/api/event): error trying to connect: dns error: failed to lookup address information: nodename nor servname provided, or not known\n"
     ]
    }
   ],
   "source": [
    "driver = webdriver.Chrome()\n",
    "driver.get(\"https://www.imdb.com/title/tt0448115/\")\n",
    "\n",
    "sleep(3)\n",
    "\n",
    "driver.find_element(\"css selector\", \"#__next > div > div > div.sc-jrcTuL.bPmWiM > div > button.icb-btn.sc-bcXHqe.sc-dkrFOg.sc-iBYQkv.dcvrLS.ddtuHe.dRCGjd\").click()\n",
    "\n",
    "sleep(2)\n",
    "\n",
    "driver.maximize_window()\n",
    "\n",
    "driver.execute_script(\"window.scrollTo(0,2000)\")\n",
    "sleep(2)\n",
    "\n",
    "dicc_actors = {\"nombre_act\": [], \"conocide_por\": []}\n",
    "#me voy al primer actor/actriz\n",
    "\n",
    "driver.find_element(\"css selector\", \"#__next > main > div > section.ipc-page-background.ipc-page-background--base.sc-304f99f6-0.fSJiHR > div > section > div > div.sc-978e9339-1.ihWZgK.ipc-page-grid__item.ipc-page-grid__item--span-2 > section.ipc-page-section.ipc-page-section--base.sc-bfec09a1-0.jgUBLM.title-cast.title-cast--movie.celwidget > div.ipc-shoveler.ipc-shoveler--base.ipc-shoveler--page0.title-cast__grid > div.ipc-sub-grid.ipc-sub-grid--page-span-2.ipc-sub-grid--wraps-at-above-l.ipc-shoveler__grid > div:nth-child(1) > div.sc-bfec09a1-7.gWwKlt > a\").click()\n",
    "sleep(2)\n",
    "\n",
    "nombre_act = driver.find_element(\"css selector\", \"#__next > main > div > section.ipc-page-background.ipc-page-background--base.sc-304f99f6-0.fSJiHR > section > div:nth-child(5) > section > section > div.sc-4e4cc5f9-3.dDRspk > div > h1 > span\").text\n",
    "\n",
    "sleep(5)\n",
    "\n",
    "conocide_por= driver.find_elements(\"css selector\", \"#__next > main > div > section.ipc-page-background.ipc-page-background--base.sc-304f99f6-0.fSJiHR > div > section > div > div.sc-978e9339-1.ihWZgK.ipc-page-grid__item.ipc-page-grid__item--span-2 > div.celwidget > section:nth-child(1) > div.sc-a6d4b6c0-0.bBRhdF > div > div.ipc-sub-grid.ipc-sub-grid--page-span-2.ipc-sub-grid--wraps-at-above-l.ipc-shoveler__grid\")\n",
    "dicc_actors[\"conocide_por\"].append(conocide_por)\n",
    "\n",
    "\n",
    "\n",
    "\n"
   ]
  },
  {
   "cell_type": "code",
   "execution_count": 22,
   "metadata": {},
   "outputs": [
    {
     "name": "stdout",
     "output_type": "stream",
     "text": [
      "{'nombre_act': [], 'conocide_por': [[<selenium.webdriver.remote.webelement.WebElement (session=\"2233b7d8995ac68a79291a4b3f6aac02\", element=\"f.56DF74BB773B3C8ADF456FFECAE83645.d.8DE69033094D88C6D477C1A3E87CFC28.e.186\")>], '¡Shazam!\\n7,0\\nShazam\\n2019\\nChuck\\n8,2\\nSerie de TV\\nChuck Bartowski\\n2007–2012 • 91 episodios\\nEnredados\\n7,7\\nFlynn Rider(voz)\\n2010\\nThor: El mundo oscuro\\n6,8\\nFandral\\n2013', '¡Shazam!\\n7,0\\nShazam\\n2019\\nChuck\\n8,2\\nSerie de TV\\nChuck Bartowski\\n2007–2012 • 91 episodios\\nEnredados\\n7,7\\nFlynn Rider(voz)\\n2010\\nThor: El mundo oscuro\\n6,8\\nFandral\\n2013', '¡Shazam!\\n7,0\\nShazam\\n2019\\nChuck\\n8,2\\nSerie de TV\\nChuck Bartowski\\n2007–2012 • 91 episodios\\nEnredados\\n7,7\\nFlynn Rider(voz)\\n2010\\nThor: El mundo oscuro\\n6,8\\nFandral\\n2013', '¡Shazam!\\n7,0\\nShazam\\n2019\\nChuck\\n8,2\\nSerie de TV\\nChuck Bartowski\\n2007–2012 • 91 episodios\\nEnredados\\n7,7\\nFlynn Rider(voz)\\n2010\\nThor: El mundo oscuro\\n6,8\\nFandral\\n2013', '¡Shazam!\\n7,0\\nShazam\\n2019\\nChuck\\n8,2\\nSerie de TV\\nChuck Bartowski\\n2007–2012 • 91 episodios\\nEnredados\\n7,7\\nFlynn Rider(voz)\\n2010\\nThor: El mundo oscuro\\n6,8\\nFandral\\n2013']}\n",
      "['¡Shazam!\\n7,0\\nShazam\\n2019\\nChuck\\n8,2\\nSerie de TV\\nChuck Bartowski\\n2007–2012 • 91 episodios\\nEnredados\\n7,7\\nFlynn Rider(voz)\\n2010\\nThor: El mundo oscuro\\n6,8\\nFandral\\n2013']\n"
     ]
    }
   ],
   "source": [
    "####parte añadida por lydia, nada claro,lo dejo de momento por si acaso pero creo que no va a servir..\n",
    "# iteramos sobre la lista de elementos\n",
    "for elemento in conocide_por:\n",
    "    # Acceder al texto dentro de cada elemento y agregarlo al diccionario\n",
    "    texto_elemento = elemento.text\n",
    "    dicc_actors[\"conocide_por\"].append(texto_elemento)\n",
    "\n",
    "# Imprimir el diccionario con los actores\n",
    "print(dicc_actors)\n",
    "\n",
    "\n",
    "\n",
    "titulos = []\n",
    "\n",
    "# Iteramos sobre la lista de elementos\n",
    "for elemento in conocide_por:\n",
    "    # Acceder al texto dentro de cada elemento y agregarlo a la lista de títulos\n",
    "    titulo_elemento = elemento.text\n",
    "    titulos.append(titulo_elemento)\n",
    "\n",
    "# Imprimir la lista de títulos\n",
    "print(titulos)\n",
    "\n",
    "\n",
    "\n",
    "\n",
    "\n",
    "\n"
   ]
  },
  {
   "cell_type": "code",
   "execution_count": null,
   "metadata": {},
   "outputs": [],
   "source": []
  },
  {
   "cell_type": "code",
   "execution_count": null,
   "metadata": {},
   "outputs": [],
   "source": []
  },
  {
   "cell_type": "code",
   "execution_count": null,
   "metadata": {},
   "outputs": [],
   "source": []
  }
 ],
 "metadata": {
  "kernelspec": {
   "display_name": "Python 3",
   "language": "python",
   "name": "python3"
  },
  "language_info": {
   "codemirror_mode": {
    "name": "ipython",
    "version": 3
   },
   "file_extension": ".py",
   "mimetype": "text/x-python",
   "name": "python",
   "nbconvert_exporter": "python",
   "pygments_lexer": "ipython3",
   "version": "3.9.6"
  }
 },
 "nbformat": 4,
 "nbformat_minor": 2
}
