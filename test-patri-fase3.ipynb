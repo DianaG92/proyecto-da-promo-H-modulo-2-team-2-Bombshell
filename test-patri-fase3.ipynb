{
 "cells": [
  {
   "cell_type": "code",
   "execution_count": 49,
   "metadata": {},
   "outputs": [],
   "source": [
    "import pandas as pd\n",
    "from selenium import webdriver\n",
    "from selenium.webdriver.common.by import By\n",
    "from selenium.webdriver.common.keys import Keys\n",
    "from selenium.webdriver.support.ui import WebDriverWait\n",
    "from selenium.webdriver.support import expected_conditions as EC\n",
    "from selenium.webdriver.chrome.service import Service\n",
    "from webdriver_manager.chrome import ChromeDriverManager\n",
    "from selenium.common.exceptions import NoSuchElementException\n",
    "import os\n",
    "import signal\n",
    "import sys\n",
    "from time import sleep\n",
    "# Configuración de Pandas\n",
    "pd.set_option('display.max_columns', None)"
   ]
  },
  {
   "cell_type": "markdown",
   "metadata": {},
   "source": [
    "Cambios y Mejoras:\n",
    "\n",
    "\t1.Manejo de Excepciones: El código originalmente sólo manejaba ciertos tipos de excepciones. Se ha mejorado para manejar excepciones de manera más general, permitiendo que el script continúe a pesar de los fallos.\n",
    "\t2.Uso de Esperas Explícitas: Para asegurarse de que los elementos están cargados antes de interactuar con ellos, se utiliza WebDriverWait en lugar de sleep, lo que hace que el script sea más eficiente y menos propenso a errores por tiempos de carga de la página.\n",
    "\t3.Mejora en la Navegación y Extracción de Datos: Se ha organizado mejor la navegación y la extracción de datos para que sea más robusta frente a cambios en el sitio web de IMDb.\n",
    "\t4.Guardado de Datos: Ahora los datos se agregan a un CSV existente de manera adecuada, creando el archivo si no existe pero sin repetir las cabeceras."
   ]
  }
 ],
 "metadata": {
  "kernelspec": {
   "display_name": "Python 3",
   "language": "python",
   "name": "python3"
  },
  "language_info": {
   "codemirror_mode": {
    "name": "ipython",
    "version": 3
   },
   "file_extension": ".py",
   "mimetype": "text/x-python",
   "name": "python",
   "nbconvert_exporter": "python",
   "pygments_lexer": "ipython3",
   "version": "3.11.8"
  }
 },
 "nbformat": 4,
 "nbformat_minor": 2
}
